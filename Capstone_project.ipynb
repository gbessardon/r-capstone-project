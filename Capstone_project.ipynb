{
  "cells": [
    {
      "cell_type": "markdown",
      "metadata": {
        "id": "view-in-github",
        "colab_type": "text"
      },
      "source": [
        "<a href=\"https://colab.research.google.com/github/gbessardon/r-capstone-project/blob/main/Capstone_project.ipynb\" target=\"_parent\"><img src=\"https://colab.research.google.com/assets/colab-badge.svg\" alt=\"Open In Colab\"/></a>"
      ]
    },
    {
      "cell_type": "markdown",
      "metadata": {
        "id": "XiiuPiZ8yjBP"
      },
      "source": [
        "# Case study: Howdoesabike-share navigate speedy success?![Captura de ecrã 2024-04-10 171620.png](data:image/png;base64,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)\n",
        "\n",
        "For this capstone project I am in a scenario where I need to analyse the data from a bike share company cyclistic that would like to convert casual members into annual members.\n",
        "For this the company needs to understand how the casual members differ from annual members and that is the question I am aiming to reply here."
      ]
    },
    {
      "cell_type": "markdown",
      "metadata": {
        "id": "Epf1UCUDT0NI"
      },
      "source": [
        "## STEP 0: IMPORT LIBRARIES"
      ]
    },
    {
      "cell_type": "code",
      "execution_count": 32,
      "metadata": {
        "colab": {
          "base_uri": "https://localhost:8080/"
        },
        "id": "yd_X7T8qTmRM",
        "outputId": "ca483dda-af58-4e32-98b8-e8c4d649b19c"
      },
      "outputs": [
        {
          "output_type": "stream",
          "name": "stderr",
          "text": [
            "\n",
            "\n",
            "\u001b[1m\u001b[22m\u001b[90m[conflicted]\u001b[39m Removing existing preference.\n",
            "\n",
            "\n",
            "\u001b[1m\u001b[22m\u001b[90m[conflicted]\u001b[39m Will prefer \u001b[1m\u001b[34mdplyr\u001b[39m\u001b[22m::filter over any other package.\n",
            "\n",
            "\n",
            "\u001b[1m\u001b[22m\u001b[90m[conflicted]\u001b[39m Removing existing preference.\n",
            "\n",
            "\n",
            "\u001b[1m\u001b[22m\u001b[90m[conflicted]\u001b[39m Will prefer \u001b[1m\u001b[34mdplyr\u001b[39m\u001b[22m::lag over any other package.\n"
          ]
        }
      ],
      "source": [
        "library(tidyverse)  #helps wrangle data\n",
        "# Use the conflicted package to manage conflicts\n",
        "library(conflicted)\n",
        "library(curl)\n",
        "library(lubridate)\n",
        "# Set dplyr::filter and dplyr::lag as the default choices\n",
        "conflict_prefer(\"filter\", \"dplyr\")\n",
        "conflict_prefer(\"lag\", \"dplyr\")\n"
      ]
    },
    {
      "cell_type": "markdown",
      "metadata": {
        "id": "gYokTFW9T72L"
      },
      "source": [
        "# STEP 1: DOWNLOAD DATA\n"
      ]
    },
    {
      "cell_type": "code",
      "execution_count": 33,
      "metadata": {
        "colab": {
          "base_uri": "https://localhost:8080/"
        },
        "id": "rtR8_1ZWT-ir",
        "outputId": "f2ce110a-0363-45ab-940f-a07bcc53e294"
      },
      "outputs": [
        {
          "output_type": "stream",
          "name": "stdout",
          "text": [
            "[1] \"The file exists!\"\n",
            "[1] \"The file exists!\"\n",
            "[1] \"The file exists!\"\n",
            "[1] \"The file exists!\"\n",
            "[1] \"The file exists!\"\n",
            "[1] \"The file exists!\"\n",
            "[1] \"The file exists!\"\n",
            "[1] \"The file exists!\"\n",
            "[1] \"The file exists!\"\n",
            "[1] \"The file exists!\"\n",
            "[1] \"The file exists!\"\n",
            "[1] \"The file exists!\"\n",
            "[1] \"The file exists!\"\n"
          ]
        }
      ],
      "source": [
        "# List of URLs for the zip files\n",
        "zip_urls <- c(\n",
        "  \"https://divvy-tripdata.s3.amazonaws.com/202303-divvy-tripdata.zip\",\n",
        "  \"https://divvy-tripdata.s3.amazonaws.com/202304-divvy-tripdata.zip\",\n",
        "  \"https://divvy-tripdata.s3.amazonaws.com/202305-divvy-tripdata.zip\",\n",
        "  \"https://divvy-tripdata.s3.amazonaws.com/202306-divvy-tripdata.zip\",\n",
        "  \"https://divvy-tripdata.s3.amazonaws.com/202307-divvy-tripdata.zip\",\n",
        "  \"https://divvy-tripdata.s3.amazonaws.com/202308-divvy-tripdata.zip\",\n",
        "  \"https://divvy-tripdata.s3.amazonaws.com/202309-divvy-tripdata.zip\",\n",
        "  \"https://divvy-tripdata.s3.amazonaws.com/202310-divvy-tripdata.zip\",\n",
        "  \"https://divvy-tripdata.s3.amazonaws.com/202311-divvy-tripdata.zip\",\n",
        "  \"https://divvy-tripdata.s3.amazonaws.com/202312-divvy-tripdata.zip\",\n",
        "  \"https://divvy-tripdata.s3.amazonaws.com/202401-divvy-tripdata.zip\",\n",
        "  \"https://divvy-tripdata.s3.amazonaws.com/202402-divvy-tripdata.zip\",\n",
        "  \"https://divvy-tripdata.s3.amazonaws.com/202403-divvy-tripdata.zip\"\n",
        "\n",
        ")\n",
        "\n",
        "# Create a function to download and extract a zip file\n",
        "download_and_extract <- function(url) {\n",
        "  # Create the csv_file\n",
        "  extracted_file <- gsub(\".*/(\\\\d{6}-divvy-tripdata)\\\\.zip\", \"\\\\1.csv\", url)\n",
        "  if (file.exists(extracted_file)) {\n",
        "    print(\"The file exists!\")\n",
        "    data <- read.table(extracted_file, sep = \",\", header = TRUE)\n",
        "    }\n",
        "    else {\n",
        "      print(\"The file does not exist.\")\n",
        "      # Create a temporary file to store the downloaded zip file\n",
        "      temp_file <- tempfile()\n",
        "      # Download the zip file\n",
        "      download.file(url, temp_file, mode = \"wb\")\n",
        "      # Extract the target file from the zip archive\n",
        "      data <- read.table(unz(temp_file, extracted_file), sep = \",\", header = TRUE)\n",
        "      write.csv(data, file = extracted_file, row.names = FALSE)\n",
        "      # Clean up: remove the temporary file\n",
        "      unlink(temp_file)\n",
        "      }\n",
        "  # Return the extracted data\n",
        "  return(data)\n",
        "}\n",
        "\n",
        "# Initialize an empty list to store the extracted data frames\n",
        "all_data <- list()\n",
        "\n",
        "# Loop through the URLs and download/extract data\n",
        "for (url in zip_urls) {\n",
        "  extracted_data <- download_and_extract(url)\n",
        "  all_data[[length(all_data) + 1]] <- extracted_data\n",
        "}"
      ]
    },
    {
      "cell_type": "code",
      "execution_count": 34,
      "metadata": {
        "id": "DCwgVYUdUM7T",
        "outputId": "01159416-334a-4841-c04b-331408520c6b",
        "colab": {
          "base_uri": "https://localhost:8080/"
        }
      },
      "outputs": [
        {
          "output_type": "stream",
          "name": "stdout",
          "text": [
            "Table 1 column names:\n",
            " [1] \"ride_id\"            \"rideable_type\"      \"started_at\"        \n",
            " [4] \"ended_at\"           \"start_station_name\" \"start_station_id\"  \n",
            " [7] \"end_station_name\"   \"end_station_id\"     \"start_lat\"         \n",
            "[10] \"start_lng\"          \"end_lat\"            \"end_lng\"           \n",
            "[13] \"member_casual\"     \n",
            "\n",
            "Table 2 column names:\n",
            " [1] \"ride_id\"            \"rideable_type\"      \"started_at\"        \n",
            " [4] \"ended_at\"           \"start_station_name\" \"start_station_id\"  \n",
            " [7] \"end_station_name\"   \"end_station_id\"     \"start_lat\"         \n",
            "[10] \"start_lng\"          \"end_lat\"            \"end_lng\"           \n",
            "[13] \"member_casual\"     \n",
            "\n",
            "Table 3 column names:\n",
            " [1] \"ride_id\"            \"rideable_type\"      \"started_at\"        \n",
            " [4] \"ended_at\"           \"start_station_name\" \"start_station_id\"  \n",
            " [7] \"end_station_name\"   \"end_station_id\"     \"start_lat\"         \n",
            "[10] \"start_lng\"          \"end_lat\"            \"end_lng\"           \n",
            "[13] \"member_casual\"     \n",
            "\n",
            "Table 4 column names:\n",
            " [1] \"ride_id\"            \"rideable_type\"      \"started_at\"        \n",
            " [4] \"ended_at\"           \"start_station_name\" \"start_station_id\"  \n",
            " [7] \"end_station_name\"   \"end_station_id\"     \"start_lat\"         \n",
            "[10] \"start_lng\"          \"end_lat\"            \"end_lng\"           \n",
            "[13] \"member_casual\"     \n",
            "\n",
            "Table 5 column names:\n",
            " [1] \"ride_id\"            \"rideable_type\"      \"started_at\"        \n",
            " [4] \"ended_at\"           \"start_station_name\" \"start_station_id\"  \n",
            " [7] \"end_station_name\"   \"end_station_id\"     \"start_lat\"         \n",
            "[10] \"start_lng\"          \"end_lat\"            \"end_lng\"           \n",
            "[13] \"member_casual\"     \n",
            "\n",
            "Table 6 column names:\n",
            " [1] \"ride_id\"            \"rideable_type\"      \"started_at\"        \n",
            " [4] \"ended_at\"           \"start_station_name\" \"start_station_id\"  \n",
            " [7] \"end_station_name\"   \"end_station_id\"     \"start_lat\"         \n",
            "[10] \"start_lng\"          \"end_lat\"            \"end_lng\"           \n",
            "[13] \"member_casual\"     \n",
            "\n",
            "Table 7 column names:\n",
            " [1] \"ride_id\"            \"rideable_type\"      \"started_at\"        \n",
            " [4] \"ended_at\"           \"start_station_name\" \"start_station_id\"  \n",
            " [7] \"end_station_name\"   \"end_station_id\"     \"start_lat\"         \n",
            "[10] \"start_lng\"          \"end_lat\"            \"end_lng\"           \n",
            "[13] \"member_casual\"     \n",
            "\n",
            "Table 8 column names:\n",
            " [1] \"ride_id\"            \"rideable_type\"      \"started_at\"        \n",
            " [4] \"ended_at\"           \"start_station_name\" \"start_station_id\"  \n",
            " [7] \"end_station_name\"   \"end_station_id\"     \"start_lat\"         \n",
            "[10] \"start_lng\"          \"end_lat\"            \"end_lng\"           \n",
            "[13] \"member_casual\"     \n",
            "\n",
            "Table 9 column names:\n",
            " [1] \"ride_id\"            \"rideable_type\"      \"started_at\"        \n",
            " [4] \"ended_at\"           \"start_station_name\" \"start_station_id\"  \n",
            " [7] \"end_station_name\"   \"end_station_id\"     \"start_lat\"         \n",
            "[10] \"start_lng\"          \"end_lat\"            \"end_lng\"           \n",
            "[13] \"member_casual\"     \n",
            "\n",
            "Table 10 column names:\n",
            " [1] \"ride_id\"            \"rideable_type\"      \"started_at\"        \n",
            " [4] \"ended_at\"           \"start_station_name\" \"start_station_id\"  \n",
            " [7] \"end_station_name\"   \"end_station_id\"     \"start_lat\"         \n",
            "[10] \"start_lng\"          \"end_lat\"            \"end_lng\"           \n",
            "[13] \"member_casual\"     \n",
            "\n",
            "Table 11 column names:\n",
            " [1] \"ride_id\"            \"rideable_type\"      \"started_at\"        \n",
            " [4] \"ended_at\"           \"start_station_name\" \"start_station_id\"  \n",
            " [7] \"end_station_name\"   \"end_station_id\"     \"start_lat\"         \n",
            "[10] \"start_lng\"          \"end_lat\"            \"end_lng\"           \n",
            "[13] \"member_casual\"     \n",
            "\n",
            "Table 12 column names:\n",
            " [1] \"ride_id\"            \"rideable_type\"      \"started_at\"        \n",
            " [4] \"ended_at\"           \"start_station_name\" \"start_station_id\"  \n",
            " [7] \"end_station_name\"   \"end_station_id\"     \"start_lat\"         \n",
            "[10] \"start_lng\"          \"end_lat\"            \"end_lng\"           \n",
            "[13] \"member_casual\"     \n",
            "\n",
            "Table 13 column names:\n",
            " [1] \"ride_id\"            \"rideable_type\"      \"started_at\"        \n",
            " [4] \"ended_at\"           \"start_station_name\" \"start_station_id\"  \n",
            " [7] \"end_station_name\"   \"end_station_id\"     \"start_lat\"         \n",
            "[10] \"start_lng\"          \"end_lat\"            \"end_lng\"           \n",
            "[13] \"member_casual\"     \n",
            "\n"
          ]
        }
      ],
      "source": [
        "for (i in seq_along(all_data)) {\n",
        "  cat(\"Table\", i, \"column names:\\n\")\n",
        "  print(colnames(all_data[[i]]))\n",
        "  cat(\"\\n\")\n",
        "}"
      ]
    },
    {
      "cell_type": "code",
      "execution_count": 35,
      "metadata": {
        "id": "f5Ci4xHmVpy3"
      },
      "outputs": [],
      "source": [
        "# Stack individual quarter's data frames into one big data frame\n",
        "all_trips<-bind_rows(all_data)"
      ]
    },
    {
      "cell_type": "markdown",
      "metadata": {
        "id": "rWw8SvVHbtEk"
      },
      "source": [
        "# STEP 2: CLEAN UP AND ADD DATA TO PREPARE FOR ANALYSIS"
      ]
    },
    {
      "cell_type": "markdown",
      "metadata": {
        "id": "m4j3lNw4qs1k"
      },
      "source": [
        "## Inspect the new table that has been created"
      ]
    },
    {
      "cell_type": "code",
      "execution_count": 36,
      "metadata": {
        "id": "v8UvnpVLbrR1",
        "outputId": "6b8586ce-727b-4385-de3b-0e45ba65adba",
        "colab": {
          "base_uri": "https://localhost:8080/",
          "height": 1000
        }
      },
      "outputs": [
        {
          "output_type": "display_data",
          "data": {
            "text/html": [
              "<style>\n",
              ".list-inline {list-style: none; margin:0; padding: 0}\n",
              ".list-inline>li {display: inline-block}\n",
              ".list-inline>li:not(:last-child)::after {content: \"\\00b7\"; padding: 0 .5ex}\n",
              "</style>\n",
              "<ol class=list-inline><li>'ride_id'</li><li>'rideable_type'</li><li>'started_at'</li><li>'ended_at'</li><li>'start_station_name'</li><li>'start_station_id'</li><li>'end_station_name'</li><li>'end_station_id'</li><li>'start_lat'</li><li>'start_lng'</li><li>'end_lat'</li><li>'end_lng'</li><li>'member_casual'</li></ol>\n"
            ],
            "text/markdown": "1. 'ride_id'\n2. 'rideable_type'\n3. 'started_at'\n4. 'ended_at'\n5. 'start_station_name'\n6. 'start_station_id'\n7. 'end_station_name'\n8. 'end_station_id'\n9. 'start_lat'\n10. 'start_lng'\n11. 'end_lat'\n12. 'end_lng'\n13. 'member_casual'\n\n\n",
            "text/latex": "\\begin{enumerate*}\n\\item 'ride\\_id'\n\\item 'rideable\\_type'\n\\item 'started\\_at'\n\\item 'ended\\_at'\n\\item 'start\\_station\\_name'\n\\item 'start\\_station\\_id'\n\\item 'end\\_station\\_name'\n\\item 'end\\_station\\_id'\n\\item 'start\\_lat'\n\\item 'start\\_lng'\n\\item 'end\\_lat'\n\\item 'end\\_lng'\n\\item 'member\\_casual'\n\\end{enumerate*}\n",
            "text/plain": [
              " [1] \"ride_id\"            \"rideable_type\"      \"started_at\"        \n",
              " [4] \"ended_at\"           \"start_station_name\" \"start_station_id\"  \n",
              " [7] \"end_station_name\"   \"end_station_id\"     \"start_lat\"         \n",
              "[10] \"start_lng\"          \"end_lat\"            \"end_lng\"           \n",
              "[13] \"member_casual\"     "
            ]
          },
          "metadata": {}
        },
        {
          "output_type": "display_data",
          "data": {
            "text/html": [
              "6008855"
            ],
            "text/markdown": "6008855",
            "text/latex": "6008855",
            "text/plain": [
              "[1] 6008855"
            ]
          },
          "metadata": {}
        },
        {
          "output_type": "display_data",
          "data": {
            "text/html": [
              "<style>\n",
              ".list-inline {list-style: none; margin:0; padding: 0}\n",
              ".list-inline>li {display: inline-block}\n",
              ".list-inline>li:not(:last-child)::after {content: \"\\00b7\"; padding: 0 .5ex}\n",
              "</style>\n",
              "<ol class=list-inline><li>6008855</li><li>13</li></ol>\n"
            ],
            "text/markdown": "1. 6008855\n2. 13\n\n\n",
            "text/latex": "\\begin{enumerate*}\n\\item 6008855\n\\item 13\n\\end{enumerate*}\n",
            "text/plain": [
              "[1] 6008855      13"
            ]
          },
          "metadata": {}
        },
        {
          "output_type": "display_data",
          "data": {
            "text/html": [
              "<table class=\"dataframe\">\n",
              "<caption>A data.frame: 6 × 13</caption>\n",
              "<thead>\n",
              "\t<tr><th></th><th scope=col>ride_id</th><th scope=col>rideable_type</th><th scope=col>started_at</th><th scope=col>ended_at</th><th scope=col>start_station_name</th><th scope=col>start_station_id</th><th scope=col>end_station_name</th><th scope=col>end_station_id</th><th scope=col>start_lat</th><th scope=col>start_lng</th><th scope=col>end_lat</th><th scope=col>end_lng</th><th scope=col>member_casual</th></tr>\n",
              "\t<tr><th></th><th scope=col>&lt;chr&gt;</th><th scope=col>&lt;chr&gt;</th><th scope=col>&lt;chr&gt;</th><th scope=col>&lt;chr&gt;</th><th scope=col>&lt;chr&gt;</th><th scope=col>&lt;chr&gt;</th><th scope=col>&lt;chr&gt;</th><th scope=col>&lt;chr&gt;</th><th scope=col>&lt;dbl&gt;</th><th scope=col>&lt;dbl&gt;</th><th scope=col>&lt;dbl&gt;</th><th scope=col>&lt;dbl&gt;</th><th scope=col>&lt;chr&gt;</th></tr>\n",
              "</thead>\n",
              "<tbody>\n",
              "\t<tr><th scope=row>1</th><td>6842AA605EE9FBB3</td><td>electric_bike</td><td>2023-03-16 08:20:34</td><td>2023-03-16 08:22:52</td><td><span style=white-space:pre-wrap>Clark St &amp; Armitage Ave             </span></td><td><span style=white-space:pre-wrap>13146       </span></td><td><span style=white-space:pre-wrap>Larrabee St &amp; Webster Ave   </span></td><td><span style=white-space:pre-wrap>13193       </span></td><td>41.91841</td><td>-87.63645</td><td>41.92182</td><td>-87.64414</td><td>member</td></tr>\n",
              "\t<tr><th scope=row>2</th><td>F984267A75B99A8C</td><td>electric_bike</td><td>2023-03-04 14:07:06</td><td>2023-03-04 14:15:31</td><td>Public Rack - Kedzie Ave &amp; Argyle St</td><td><span style=white-space:pre-wrap>491         </span></td><td><span style=white-space:pre-wrap>                            </span></td><td><span style=white-space:pre-wrap>            </span></td><td>41.97000</td><td>-87.71000</td><td>41.95000</td><td>-87.71000</td><td>member</td></tr>\n",
              "\t<tr><th scope=row>3</th><td>FF7CF57CFE026D02</td><td>classic_bike </td><td>2023-03-31 12:28:09</td><td>2023-03-31 12:38:47</td><td>Orleans St &amp; Chestnut St (NEXT Apts)</td><td><span style=white-space:pre-wrap>620         </span></td><td><span style=white-space:pre-wrap>Clark St &amp; Randolph St      </span></td><td>TA1305000030</td><td>41.89820</td><td>-87.63754</td><td>41.88458</td><td>-87.63189</td><td>member</td></tr>\n",
              "\t<tr><th scope=row>4</th><td>6B61B916032CB6D6</td><td>classic_bike </td><td>2023-03-22 14:09:08</td><td>2023-03-22 14:24:51</td><td><span style=white-space:pre-wrap>Desplaines St &amp; Kinzie St           </span></td><td>TA1306000003</td><td>Sheffield Ave &amp; Kingsbury St</td><td><span style=white-space:pre-wrap>13154       </span></td><td>41.88872</td><td>-87.64445</td><td>41.91052</td><td>-87.65311</td><td>member</td></tr>\n",
              "\t<tr><th scope=row>5</th><td>E55E61A5F1260040</td><td>electric_bike</td><td>2023-03-09 07:15:00</td><td>2023-03-09 07:26:00</td><td><span style=white-space:pre-wrap>Walsh Park                          </span></td><td><span style=white-space:pre-wrap>18067       </span></td><td><span style=white-space:pre-wrap>Sangamon St &amp; Lake St       </span></td><td>TA1306000015</td><td>41.91448</td><td>-87.66801</td><td>41.88578</td><td>-87.65102</td><td>member</td></tr>\n",
              "\t<tr><th scope=row>6</th><td>123AAD676850F53C</td><td>classic_bike </td><td>2023-03-22 17:47:02</td><td>2023-03-22 18:01:29</td><td>Orleans St &amp; Chestnut St (NEXT Apts)</td><td><span style=white-space:pre-wrap>620         </span></td><td>Halsted St &amp; Wrightwood Ave </td><td>TA1309000061</td><td>41.89820</td><td>-87.63754</td><td>41.92914</td><td>-87.64908</td><td>member</td></tr>\n",
              "</tbody>\n",
              "</table>\n"
            ],
            "text/markdown": "\nA data.frame: 6 × 13\n\n| <!--/--> | ride_id &lt;chr&gt; | rideable_type &lt;chr&gt; | started_at &lt;chr&gt; | ended_at &lt;chr&gt; | start_station_name &lt;chr&gt; | start_station_id &lt;chr&gt; | end_station_name &lt;chr&gt; | end_station_id &lt;chr&gt; | start_lat &lt;dbl&gt; | start_lng &lt;dbl&gt; | end_lat &lt;dbl&gt; | end_lng &lt;dbl&gt; | member_casual &lt;chr&gt; |\n|---|---|---|---|---|---|---|---|---|---|---|---|---|---|\n| 1 | 6842AA605EE9FBB3 | electric_bike | 2023-03-16 08:20:34 | 2023-03-16 08:22:52 | Clark St &amp; Armitage Ave              | 13146        | Larrabee St &amp; Webster Ave    | 13193        | 41.91841 | -87.63645 | 41.92182 | -87.64414 | member |\n| 2 | F984267A75B99A8C | electric_bike | 2023-03-04 14:07:06 | 2023-03-04 14:15:31 | Public Rack - Kedzie Ave &amp; Argyle St | 491          | <!----> | <!----> | 41.97000 | -87.71000 | 41.95000 | -87.71000 | member |\n| 3 | FF7CF57CFE026D02 | classic_bike  | 2023-03-31 12:28:09 | 2023-03-31 12:38:47 | Orleans St &amp; Chestnut St (NEXT Apts) | 620          | Clark St &amp; Randolph St       | TA1305000030 | 41.89820 | -87.63754 | 41.88458 | -87.63189 | member |\n| 4 | 6B61B916032CB6D6 | classic_bike  | 2023-03-22 14:09:08 | 2023-03-22 14:24:51 | Desplaines St &amp; Kinzie St            | TA1306000003 | Sheffield Ave &amp; Kingsbury St | 13154        | 41.88872 | -87.64445 | 41.91052 | -87.65311 | member |\n| 5 | E55E61A5F1260040 | electric_bike | 2023-03-09 07:15:00 | 2023-03-09 07:26:00 | Walsh Park                           | 18067        | Sangamon St &amp; Lake St        | TA1306000015 | 41.91448 | -87.66801 | 41.88578 | -87.65102 | member |\n| 6 | 123AAD676850F53C | classic_bike  | 2023-03-22 17:47:02 | 2023-03-22 18:01:29 | Orleans St &amp; Chestnut St (NEXT Apts) | 620          | Halsted St &amp; Wrightwood Ave  | TA1309000061 | 41.89820 | -87.63754 | 41.92914 | -87.64908 | member |\n\n",
            "text/latex": "A data.frame: 6 × 13\n\\begin{tabular}{r|lllllllllllll}\n  & ride\\_id & rideable\\_type & started\\_at & ended\\_at & start\\_station\\_name & start\\_station\\_id & end\\_station\\_name & end\\_station\\_id & start\\_lat & start\\_lng & end\\_lat & end\\_lng & member\\_casual\\\\\n  & <chr> & <chr> & <chr> & <chr> & <chr> & <chr> & <chr> & <chr> & <dbl> & <dbl> & <dbl> & <dbl> & <chr>\\\\\n\\hline\n\t1 & 6842AA605EE9FBB3 & electric\\_bike & 2023-03-16 08:20:34 & 2023-03-16 08:22:52 & Clark St \\& Armitage Ave              & 13146        & Larrabee St \\& Webster Ave    & 13193        & 41.91841 & -87.63645 & 41.92182 & -87.64414 & member\\\\\n\t2 & F984267A75B99A8C & electric\\_bike & 2023-03-04 14:07:06 & 2023-03-04 14:15:31 & Public Rack - Kedzie Ave \\& Argyle St & 491          &                              &              & 41.97000 & -87.71000 & 41.95000 & -87.71000 & member\\\\\n\t3 & FF7CF57CFE026D02 & classic\\_bike  & 2023-03-31 12:28:09 & 2023-03-31 12:38:47 & Orleans St \\& Chestnut St (NEXT Apts) & 620          & Clark St \\& Randolph St       & TA1305000030 & 41.89820 & -87.63754 & 41.88458 & -87.63189 & member\\\\\n\t4 & 6B61B916032CB6D6 & classic\\_bike  & 2023-03-22 14:09:08 & 2023-03-22 14:24:51 & Desplaines St \\& Kinzie St            & TA1306000003 & Sheffield Ave \\& Kingsbury St & 13154        & 41.88872 & -87.64445 & 41.91052 & -87.65311 & member\\\\\n\t5 & E55E61A5F1260040 & electric\\_bike & 2023-03-09 07:15:00 & 2023-03-09 07:26:00 & Walsh Park                           & 18067        & Sangamon St \\& Lake St        & TA1306000015 & 41.91448 & -87.66801 & 41.88578 & -87.65102 & member\\\\\n\t6 & 123AAD676850F53C & classic\\_bike  & 2023-03-22 17:47:02 & 2023-03-22 18:01:29 & Orleans St \\& Chestnut St (NEXT Apts) & 620          & Halsted St \\& Wrightwood Ave  & TA1309000061 & 41.89820 & -87.63754 & 41.92914 & -87.64908 & member\\\\\n\\end{tabular}\n",
            "text/plain": [
              "  ride_id          rideable_type started_at          ended_at           \n",
              "1 6842AA605EE9FBB3 electric_bike 2023-03-16 08:20:34 2023-03-16 08:22:52\n",
              "2 F984267A75B99A8C electric_bike 2023-03-04 14:07:06 2023-03-04 14:15:31\n",
              "3 FF7CF57CFE026D02 classic_bike  2023-03-31 12:28:09 2023-03-31 12:38:47\n",
              "4 6B61B916032CB6D6 classic_bike  2023-03-22 14:09:08 2023-03-22 14:24:51\n",
              "5 E55E61A5F1260040 electric_bike 2023-03-09 07:15:00 2023-03-09 07:26:00\n",
              "6 123AAD676850F53C classic_bike  2023-03-22 17:47:02 2023-03-22 18:01:29\n",
              "  start_station_name                   start_station_id\n",
              "1 Clark St & Armitage Ave              13146           \n",
              "2 Public Rack - Kedzie Ave & Argyle St 491             \n",
              "3 Orleans St & Chestnut St (NEXT Apts) 620             \n",
              "4 Desplaines St & Kinzie St            TA1306000003    \n",
              "5 Walsh Park                           18067           \n",
              "6 Orleans St & Chestnut St (NEXT Apts) 620             \n",
              "  end_station_name             end_station_id start_lat start_lng end_lat \n",
              "1 Larrabee St & Webster Ave    13193          41.91841  -87.63645 41.92182\n",
              "2                                             41.97000  -87.71000 41.95000\n",
              "3 Clark St & Randolph St       TA1305000030   41.89820  -87.63754 41.88458\n",
              "4 Sheffield Ave & Kingsbury St 13154          41.88872  -87.64445 41.91052\n",
              "5 Sangamon St & Lake St        TA1306000015   41.91448  -87.66801 41.88578\n",
              "6 Halsted St & Wrightwood Ave  TA1309000061   41.89820  -87.63754 41.92914\n",
              "  end_lng   member_casual\n",
              "1 -87.64414 member       \n",
              "2 -87.71000 member       \n",
              "3 -87.63189 member       \n",
              "4 -87.65311 member       \n",
              "5 -87.65102 member       \n",
              "6 -87.64908 member       "
            ]
          },
          "metadata": {}
        },
        {
          "output_type": "display_data",
          "data": {
            "text/html": [
              "<table class=\"dataframe\">\n",
              "<caption>A data.frame: 6 × 13</caption>\n",
              "<thead>\n",
              "\t<tr><th></th><th scope=col>ride_id</th><th scope=col>rideable_type</th><th scope=col>started_at</th><th scope=col>ended_at</th><th scope=col>start_station_name</th><th scope=col>start_station_id</th><th scope=col>end_station_name</th><th scope=col>end_station_id</th><th scope=col>start_lat</th><th scope=col>start_lng</th><th scope=col>end_lat</th><th scope=col>end_lng</th><th scope=col>member_casual</th></tr>\n",
              "\t<tr><th></th><th scope=col>&lt;chr&gt;</th><th scope=col>&lt;chr&gt;</th><th scope=col>&lt;chr&gt;</th><th scope=col>&lt;chr&gt;</th><th scope=col>&lt;chr&gt;</th><th scope=col>&lt;chr&gt;</th><th scope=col>&lt;chr&gt;</th><th scope=col>&lt;chr&gt;</th><th scope=col>&lt;dbl&gt;</th><th scope=col>&lt;dbl&gt;</th><th scope=col>&lt;dbl&gt;</th><th scope=col>&lt;dbl&gt;</th><th scope=col>&lt;chr&gt;</th></tr>\n",
              "</thead>\n",
              "<tbody>\n",
              "\t<tr><th scope=row>6008850</th><td>5D5F0D8E08F83AE1</td><td>electric_bike</td><td>2024-03-07 09:47:58</td><td>2024-03-07 09:52:57</td><td>Orleans St &amp; Merchandise Mart Plaza</td><td>TA1305000022</td><td><span style=white-space:pre-wrap>State St &amp; Chicago Ave   </span></td><td><span style=white-space:pre-wrap>21544       </span></td><td>41.88813</td><td>-87.63721</td><td>41.89662</td><td>-87.62858</td><td>member</td></tr>\n",
              "\t<tr><th scope=row>6008851</th><td>C81758223C5CA8DC</td><td>electric_bike</td><td>2024-03-07 11:31:33</td><td>2024-03-07 11:49:14</td><td><span style=white-space:pre-wrap>South Shore Dr &amp; 67th St           </span></td><td>KA1503000029</td><td><span style=white-space:pre-wrap>Kimbark Ave &amp; 53rd St    </span></td><td>TA1309000037</td><td>41.77365</td><td>-87.56743</td><td>41.79957</td><td>-87.59475</td><td>member</td></tr>\n",
              "\t<tr><th scope=row>6008852</th><td>C5BBE9C102CFBC49</td><td>electric_bike</td><td>2024-03-24 11:45:22</td><td>2024-03-24 11:52:08</td><td>Orleans St &amp; Merchandise Mart Plaza</td><td>TA1305000022</td><td><span style=white-space:pre-wrap>State St &amp; Chicago Ave   </span></td><td><span style=white-space:pre-wrap>21544       </span></td><td>41.88796</td><td>-87.63674</td><td>41.89662</td><td>-87.62858</td><td>member</td></tr>\n",
              "\t<tr><th scope=row>6008853</th><td>E1CA6FB263B2F7DE</td><td>electric_bike</td><td>2024-03-12 17:49:30</td><td>2024-03-12 17:56:38</td><td><span style=white-space:pre-wrap>Wells St &amp; Elm St                  </span></td><td>KA1504000135</td><td>Lincoln Park Conservatory</td><td><span style=white-space:pre-wrap>LP-         </span></td><td>41.90314</td><td>-87.63437</td><td>41.92393</td><td>-87.63582</td><td>member</td></tr>\n",
              "\t<tr><th scope=row>6008854</th><td>89D68BFC374DB04B</td><td>electric_bike</td><td>2024-03-24 18:08:56</td><td>2024-03-24 18:33:58</td><td><span style=white-space:pre-wrap>South Shore Dr &amp; 67th St           </span></td><td>KA1503000029</td><td><span style=white-space:pre-wrap>Kimbark Ave &amp; 53rd St    </span></td><td>TA1309000037</td><td>41.77364</td><td>-87.56745</td><td>41.79957</td><td>-87.59475</td><td>member</td></tr>\n",
              "\t<tr><th scope=row>6008855</th><td>48FC88A2062B2A12</td><td>electric_bike</td><td>2024-03-18 16:23:21</td><td>2024-03-18 16:29:34</td><td>Orleans St &amp; Merchandise Mart Plaza</td><td>TA1305000022</td><td><span style=white-space:pre-wrap>State St &amp; Chicago Ave   </span></td><td><span style=white-space:pre-wrap>21544       </span></td><td>41.88799</td><td>-87.63638</td><td>41.89662</td><td>-87.62858</td><td>member</td></tr>\n",
              "</tbody>\n",
              "</table>\n"
            ],
            "text/markdown": "\nA data.frame: 6 × 13\n\n| <!--/--> | ride_id &lt;chr&gt; | rideable_type &lt;chr&gt; | started_at &lt;chr&gt; | ended_at &lt;chr&gt; | start_station_name &lt;chr&gt; | start_station_id &lt;chr&gt; | end_station_name &lt;chr&gt; | end_station_id &lt;chr&gt; | start_lat &lt;dbl&gt; | start_lng &lt;dbl&gt; | end_lat &lt;dbl&gt; | end_lng &lt;dbl&gt; | member_casual &lt;chr&gt; |\n|---|---|---|---|---|---|---|---|---|---|---|---|---|---|\n| 6008850 | 5D5F0D8E08F83AE1 | electric_bike | 2024-03-07 09:47:58 | 2024-03-07 09:52:57 | Orleans St &amp; Merchandise Mart Plaza | TA1305000022 | State St &amp; Chicago Ave    | 21544        | 41.88813 | -87.63721 | 41.89662 | -87.62858 | member |\n| 6008851 | C81758223C5CA8DC | electric_bike | 2024-03-07 11:31:33 | 2024-03-07 11:49:14 | South Shore Dr &amp; 67th St            | KA1503000029 | Kimbark Ave &amp; 53rd St     | TA1309000037 | 41.77365 | -87.56743 | 41.79957 | -87.59475 | member |\n| 6008852 | C5BBE9C102CFBC49 | electric_bike | 2024-03-24 11:45:22 | 2024-03-24 11:52:08 | Orleans St &amp; Merchandise Mart Plaza | TA1305000022 | State St &amp; Chicago Ave    | 21544        | 41.88796 | -87.63674 | 41.89662 | -87.62858 | member |\n| 6008853 | E1CA6FB263B2F7DE | electric_bike | 2024-03-12 17:49:30 | 2024-03-12 17:56:38 | Wells St &amp; Elm St                   | KA1504000135 | Lincoln Park Conservatory | LP-          | 41.90314 | -87.63437 | 41.92393 | -87.63582 | member |\n| 6008854 | 89D68BFC374DB04B | electric_bike | 2024-03-24 18:08:56 | 2024-03-24 18:33:58 | South Shore Dr &amp; 67th St            | KA1503000029 | Kimbark Ave &amp; 53rd St     | TA1309000037 | 41.77364 | -87.56745 | 41.79957 | -87.59475 | member |\n| 6008855 | 48FC88A2062B2A12 | electric_bike | 2024-03-18 16:23:21 | 2024-03-18 16:29:34 | Orleans St &amp; Merchandise Mart Plaza | TA1305000022 | State St &amp; Chicago Ave    | 21544        | 41.88799 | -87.63638 | 41.89662 | -87.62858 | member |\n\n",
            "text/latex": "A data.frame: 6 × 13\n\\begin{tabular}{r|lllllllllllll}\n  & ride\\_id & rideable\\_type & started\\_at & ended\\_at & start\\_station\\_name & start\\_station\\_id & end\\_station\\_name & end\\_station\\_id & start\\_lat & start\\_lng & end\\_lat & end\\_lng & member\\_casual\\\\\n  & <chr> & <chr> & <chr> & <chr> & <chr> & <chr> & <chr> & <chr> & <dbl> & <dbl> & <dbl> & <dbl> & <chr>\\\\\n\\hline\n\t6008850 & 5D5F0D8E08F83AE1 & electric\\_bike & 2024-03-07 09:47:58 & 2024-03-07 09:52:57 & Orleans St \\& Merchandise Mart Plaza & TA1305000022 & State St \\& Chicago Ave    & 21544        & 41.88813 & -87.63721 & 41.89662 & -87.62858 & member\\\\\n\t6008851 & C81758223C5CA8DC & electric\\_bike & 2024-03-07 11:31:33 & 2024-03-07 11:49:14 & South Shore Dr \\& 67th St            & KA1503000029 & Kimbark Ave \\& 53rd St     & TA1309000037 & 41.77365 & -87.56743 & 41.79957 & -87.59475 & member\\\\\n\t6008852 & C5BBE9C102CFBC49 & electric\\_bike & 2024-03-24 11:45:22 & 2024-03-24 11:52:08 & Orleans St \\& Merchandise Mart Plaza & TA1305000022 & State St \\& Chicago Ave    & 21544        & 41.88796 & -87.63674 & 41.89662 & -87.62858 & member\\\\\n\t6008853 & E1CA6FB263B2F7DE & electric\\_bike & 2024-03-12 17:49:30 & 2024-03-12 17:56:38 & Wells St \\& Elm St                   & KA1504000135 & Lincoln Park Conservatory & LP-          & 41.90314 & -87.63437 & 41.92393 & -87.63582 & member\\\\\n\t6008854 & 89D68BFC374DB04B & electric\\_bike & 2024-03-24 18:08:56 & 2024-03-24 18:33:58 & South Shore Dr \\& 67th St            & KA1503000029 & Kimbark Ave \\& 53rd St     & TA1309000037 & 41.77364 & -87.56745 & 41.79957 & -87.59475 & member\\\\\n\t6008855 & 48FC88A2062B2A12 & electric\\_bike & 2024-03-18 16:23:21 & 2024-03-18 16:29:34 & Orleans St \\& Merchandise Mart Plaza & TA1305000022 & State St \\& Chicago Ave    & 21544        & 41.88799 & -87.63638 & 41.89662 & -87.62858 & member\\\\\n\\end{tabular}\n",
            "text/plain": [
              "        ride_id          rideable_type started_at          ended_at           \n",
              "6008850 5D5F0D8E08F83AE1 electric_bike 2024-03-07 09:47:58 2024-03-07 09:52:57\n",
              "6008851 C81758223C5CA8DC electric_bike 2024-03-07 11:31:33 2024-03-07 11:49:14\n",
              "6008852 C5BBE9C102CFBC49 electric_bike 2024-03-24 11:45:22 2024-03-24 11:52:08\n",
              "6008853 E1CA6FB263B2F7DE electric_bike 2024-03-12 17:49:30 2024-03-12 17:56:38\n",
              "6008854 89D68BFC374DB04B electric_bike 2024-03-24 18:08:56 2024-03-24 18:33:58\n",
              "6008855 48FC88A2062B2A12 electric_bike 2024-03-18 16:23:21 2024-03-18 16:29:34\n",
              "        start_station_name                  start_station_id\n",
              "6008850 Orleans St & Merchandise Mart Plaza TA1305000022    \n",
              "6008851 South Shore Dr & 67th St            KA1503000029    \n",
              "6008852 Orleans St & Merchandise Mart Plaza TA1305000022    \n",
              "6008853 Wells St & Elm St                   KA1504000135    \n",
              "6008854 South Shore Dr & 67th St            KA1503000029    \n",
              "6008855 Orleans St & Merchandise Mart Plaza TA1305000022    \n",
              "        end_station_name          end_station_id start_lat start_lng end_lat \n",
              "6008850 State St & Chicago Ave    21544          41.88813  -87.63721 41.89662\n",
              "6008851 Kimbark Ave & 53rd St     TA1309000037   41.77365  -87.56743 41.79957\n",
              "6008852 State St & Chicago Ave    21544          41.88796  -87.63674 41.89662\n",
              "6008853 Lincoln Park Conservatory LP-            41.90314  -87.63437 41.92393\n",
              "6008854 Kimbark Ave & 53rd St     TA1309000037   41.77364  -87.56745 41.79957\n",
              "6008855 State St & Chicago Ave    21544          41.88799  -87.63638 41.89662\n",
              "        end_lng   member_casual\n",
              "6008850 -87.62858 member       \n",
              "6008851 -87.59475 member       \n",
              "6008852 -87.62858 member       \n",
              "6008853 -87.63582 member       \n",
              "6008854 -87.59475 member       \n",
              "6008855 -87.62858 member       "
            ]
          },
          "metadata": {}
        },
        {
          "output_type": "stream",
          "name": "stdout",
          "text": [
            "'data.frame':\t6008855 obs. of  13 variables:\n",
            " $ ride_id           : chr  \"6842AA605EE9FBB3\" \"F984267A75B99A8C\" \"FF7CF57CFE026D02\" \"6B61B916032CB6D6\" ...\n",
            " $ rideable_type     : chr  \"electric_bike\" \"electric_bike\" \"classic_bike\" \"classic_bike\" ...\n",
            " $ started_at        : chr  \"2023-03-16 08:20:34\" \"2023-03-04 14:07:06\" \"2023-03-31 12:28:09\" \"2023-03-22 14:09:08\" ...\n",
            " $ ended_at          : chr  \"2023-03-16 08:22:52\" \"2023-03-04 14:15:31\" \"2023-03-31 12:38:47\" \"2023-03-22 14:24:51\" ...\n",
            " $ start_station_name: chr  \"Clark St & Armitage Ave\" \"Public Rack - Kedzie Ave & Argyle St\" \"Orleans St & Chestnut St (NEXT Apts)\" \"Desplaines St & Kinzie St\" ...\n",
            " $ start_station_id  : chr  \"13146\" \"491\" \"620\" \"TA1306000003\" ...\n",
            " $ end_station_name  : chr  \"Larrabee St & Webster Ave\" \"\" \"Clark St & Randolph St\" \"Sheffield Ave & Kingsbury St\" ...\n",
            " $ end_station_id    : chr  \"13193\" \"\" \"TA1305000030\" \"13154\" ...\n",
            " $ start_lat         : num  41.9 42 41.9 41.9 41.9 ...\n",
            " $ start_lng         : num  -87.6 -87.7 -87.6 -87.6 -87.7 ...\n",
            " $ end_lat           : num  41.9 42 41.9 41.9 41.9 ...\n",
            " $ end_lng           : num  -87.6 -87.7 -87.6 -87.7 -87.7 ...\n",
            " $ member_casual     : chr  \"member\" \"member\" \"member\" \"member\" ...\n"
          ]
        },
        {
          "output_type": "display_data",
          "data": {
            "text/plain": [
              "   ride_id          rideable_type       started_at          ended_at        \n",
              " Length:6008855     Length:6008855     Length:6008855     Length:6008855    \n",
              " Class :character   Class :character   Class :character   Class :character  \n",
              " Mode  :character   Mode  :character   Mode  :character   Mode  :character  \n",
              "                                                                            \n",
              "                                                                            \n",
              "                                                                            \n",
              "                                                                            \n",
              " start_station_name start_station_id   end_station_name   end_station_id    \n",
              " Length:6008855     Length:6008855     Length:6008855     Length:6008855    \n",
              " Class :character   Class :character   Class :character   Class :character  \n",
              " Mode  :character   Mode  :character   Mode  :character   Mode  :character  \n",
              "                                                                            \n",
              "                                                                            \n",
              "                                                                            \n",
              "                                                                            \n",
              "   start_lat       start_lng         end_lat         end_lng      \n",
              " Min.   :41.63   Min.   :-87.94   Min.   : 0.00   Min.   :-88.16  \n",
              " 1st Qu.:41.88   1st Qu.:-87.66   1st Qu.:41.88   1st Qu.:-87.66  \n",
              " Median :41.90   Median :-87.64   Median :41.90   Median :-87.64  \n",
              " Mean   :41.90   Mean   :-87.65   Mean   :41.90   Mean   :-87.65  \n",
              " 3rd Qu.:41.93   3rd Qu.:-87.63   3rd Qu.:41.93   3rd Qu.:-87.63  \n",
              " Max.   :42.07   Max.   :-87.46   Max.   :42.18   Max.   :  0.00  \n",
              "                                  NA's   :7749    NA's   :7749    \n",
              " member_casual     \n",
              " Length:6008855    \n",
              " Class :character  \n",
              " Mode  :character  \n",
              "                   \n",
              "                   \n",
              "                   \n",
              "                   "
            ]
          },
          "metadata": {}
        }
      ],
      "source": [
        "\n",
        "colnames(all_trips)  #List of column names\n",
        "nrow(all_trips)  #How many rows are in data frame?\n",
        "dim(all_trips)  #Dimensions of the data frame?\n",
        "head(all_trips)  #See the first 6 rows of data frame.\n",
        "tail(all_trips)  #See the last 6 rows of data frame.\n",
        "str(all_trips)  #See list of columns and data types (numeric, character, etc)\n",
        "summary(all_trips)  #Statistical summary of data. Mainly for numerics\n"
      ]
    },
    {
      "cell_type": "markdown",
      "metadata": {
        "id": "I9Vpj3gwhwU_"
      },
      "source": [
        "### In some of the project documentation there were issues with unconsistencies in the member name so I use the function unique to look at the column values"
      ]
    },
    {
      "cell_type": "code",
      "execution_count": 37,
      "metadata": {
        "id": "KnbA_DF9hoMf",
        "outputId": "c25ac779-6a37-442e-e924-4d36cc75f10a",
        "colab": {
          "base_uri": "https://localhost:8080/",
          "height": 34
        }
      },
      "outputs": [
        {
          "output_type": "display_data",
          "data": {
            "text/html": [
              "<style>\n",
              ".list-inline {list-style: none; margin:0; padding: 0}\n",
              ".list-inline>li {display: inline-block}\n",
              ".list-inline>li:not(:last-child)::after {content: \"\\00b7\"; padding: 0 .5ex}\n",
              "</style>\n",
              "<ol class=list-inline><li>'member'</li><li>'casual'</li></ol>\n"
            ],
            "text/markdown": "1. 'member'\n2. 'casual'\n\n\n",
            "text/latex": "\\begin{enumerate*}\n\\item 'member'\n\\item 'casual'\n\\end{enumerate*}\n",
            "text/plain": [
              "[1] \"member\" \"casual\""
            ]
          },
          "metadata": {}
        }
      ],
      "source": [
        "unique(all_trips$member_casual)"
      ]
    },
    {
      "cell_type": "markdown",
      "metadata": {
        "id": "xPienkS-iCNM"
      },
      "source": [
        "Only two values appears which is correct"
      ]
    },
    {
      "cell_type": "markdown",
      "metadata": {
        "id": "jMz40ZMykx58"
      },
      "source": [
        "### I look at station names according to the project documentation some ride appear as \"HQ QR\" let's look at all the station list"
      ]
    },
    {
      "cell_type": "code",
      "execution_count": 38,
      "metadata": {
        "id": "rUUHJoY0jc0G",
        "outputId": "6eadf11e-5bbd-4f0f-f254-edc83fbc892a",
        "colab": {
          "base_uri": "https://localhost:8080/",
          "height": 729
        }
      },
      "outputs": [
        {
          "output_type": "display_data",
          "data": {
            "text/html": [
              "<style>\n",
              ".list-inline {list-style: none; margin:0; padding: 0}\n",
              ".list-inline>li {display: inline-block}\n",
              ".list-inline>li:not(:last-child)::after {content: \"\\00b7\"; padding: 0 .5ex}\n",
              "</style>\n",
              "<ol class=list-inline><li>''</li><li>'2112 W Peterson Ave'</li><li>'410'</li><li>'63rd St Beach'</li><li>'900 W Harrison St'</li><li>'Aberdeen St &amp; Jackson Blvd'</li><li>'Aberdeen St &amp; Monroe St'</li><li>'Aberdeen St &amp; Randolph St'</li><li>'Ada St &amp; 113th St'</li><li>'Ada St &amp; Washington Blvd'</li><li>'Adler Planetarium'</li><li>'Albany Ave &amp; 16th St'</li><li>'Albany Ave &amp; 26th St'</li><li>'Albany Ave &amp; Belmont Ave'</li><li>'Albany Ave &amp; Bloomingdale Ave'</li><li>'Albany Ave &amp; Douglas Blvd'</li><li>'Albany Ave &amp; Montrose Ave'</li><li>'Altgeld Gardens'</li><li>'Archer (Damen) Ave &amp; 37th St'</li><li>'Archer Ave &amp; 43rd St'</li><li>'Artesian Ave &amp; 55th St'</li><li>'Artesian Ave &amp; 71st St'</li><li>'Artesian Ave &amp; Hubbard St'</li><li>'Artesian Ave &amp; Marquette Rd'</li><li>'Ashland Ave &amp; 13th St'</li><li>'Ashland Ave &amp; 50th St'</li><li>'Ashland Ave &amp; 63rd St'</li><li>'Ashland Ave &amp; 66th St'</li><li>'Ashland Ave &amp; 74th St'</li><li>'Ashland Ave &amp; 78th St'</li><li>'Ashland Ave &amp; Archer Ave'</li><li>'Ashland Ave &amp; Augusta Blvd'</li><li>'Ashland Ave &amp; Belle Plaine Ave'</li><li>'Ashland Ave &amp; Blackhawk St'</li><li>'Ashland Ave &amp; Chicago Ave'</li><li>'Ashland Ave &amp; Division St'</li><li>'Ashland Ave &amp; Garfield Blvd'</li><li>'Ashland Ave &amp; Grace St'</li><li>'Ashland Ave &amp; Grand Ave'</li><li>'Ashland Ave &amp; Lake St'</li><li>'Ashland Ave &amp; McDowell Ave'</li><li>'Ashland Ave &amp; Pershing Rd'</li><li>'Ashland Ave &amp; Wellington Ave'</li><li>'Ashland Ave &amp; Wrightwood Ave'</li><li>'Augusta Blvd &amp; Laramie Ave'</li><li>'Austin Blvd &amp; Chicago Ave'</li><li>'Austin Blvd &amp; Lake St'</li><li>'Austin Blvd &amp; Madison St'</li><li>'Avenue L &amp; 114th St'</li><li>'Avenue O &amp; 118th St'</li><li>'Avenue O &amp; 134th St'</li><li>'Avers Ave &amp; Belmont Ave'</li><li>'Avondale Ave &amp; Irving Park Rd'</li><li>'Baltimore Ave &amp; 87th St'</li><li>'Base - 2132 W Hubbard'</li><li>'Bennett Ave &amp; 79th St'</li><li>'Benson Ave &amp; Church St'</li><li>'Bernard St &amp; Elston Ave'</li><li>'Big Marsh Park'</li><li>'Bissell St &amp; Armitage Ave*'</li><li>'Blackstone Ave &amp; 59th St'</li><li>'Blackstone Ave &amp; Hyde Park Blvd'</li><li>'Bloomingdale Ave &amp; Harlem Ave'</li><li>'Blue Island Ave &amp; 18th St'</li><li>'Bosworth Ave &amp; Howard St'</li><li>'Bradley Park'</li><li>'Broadway &amp; Argyle St'</li><li>'Broadway &amp; Barry Ave'</li><li>'Broadway &amp; Belmont Ave'</li><li>'Broadway &amp; Berwyn Ave'</li><li>'Broadway &amp; Cornelia Ave'</li><li>'Broadway &amp; Granville Ave'</li><li>'Broadway &amp; Ridge Ave'</li><li>'Broadway &amp; Sheridan Rd'</li><li>'Broadway &amp; Thorndale Ave'</li><li>'Broadway &amp; Waveland Ave'</li><li>'Broadway &amp; Wilson Ave'</li><li>'Buckingham - Fountain'</li><li>'Buckingham Fountain'</li><li>'Buckingham Fountain (Columbus/Balbo)'</li><li>'Buckingham Fountain (Michigan/11th)'</li><li>'Buckingham Fountain (Temp)'</li><li>'Budlong Woods Library'</li><li>'Burling St &amp; Diversey Pkwy'</li><li>'Burnham Greenway &amp; 105th St'</li><li>'Burnham Greenway &amp; 112th St'</li><li>'Burnham Harbor'</li><li>'California &amp; 16th St'</li><li>'California Ave &amp; 21st St'</li><li>'California Ave &amp; 23rd Pl'</li><li>'California Ave &amp; 26th St'</li><li>'California Ave &amp; 29th St'</li><li>'California Ave &amp; 36th St'</li><li>'California Ave &amp; 71st St'</li><li>'California Ave &amp; Altgeld St'</li><li>'California Ave &amp; Byron St'</li><li>'California Ave &amp; Cortez St'</li><li>'California Ave &amp; Division St'</li><li>'California Ave &amp; Fletcher St'</li><li>'California Ave &amp; Francis Pl'</li><li>'California Ave &amp; Francis Pl (Temp)'</li><li>'California Ave &amp; Granville Ave'</li><li>'California Ave &amp; Lake St'</li><li>'California Ave &amp; Marquette Rd'</li><li>'California Ave &amp; Milwaukee Ave'</li><li>'California Ave &amp; Montrose Ave'</li><li>'California Ave &amp; North Ave'</li><li>'California Ave &amp; Winona St'</li><li>'Calumet Ave &amp; 18th St'</li><li>'Calumet Ave &amp; 21st St'</li><li>'Calumet Ave &amp; 33rd St'</li><li>'Calumet Ave &amp; 35th St'</li><li>'Calumet Ave &amp; 51st St'</li><li>'Calumet Ave &amp; 71st St'</li><li>'Calumet Park'</li><li>'Campbell Ave &amp; 51st St'</li><li>'Campbell Ave &amp; Augusta Blvd'</li><li>'Campbell Ave &amp; Fullerton Ave'</li><li>'Campbell Ave &amp; Irving Park Rd'</li><li>'Campbell Ave &amp; Montrose Ave'</li><li>'Campbell Ave &amp; North Ave'</li><li>'Canal St &amp; Adams St'</li><li>'Canal St &amp; Harrison St'</li><li>'Canal St &amp; Jackson Blvd'</li><li>'Canal St &amp; Madison St'</li><li>'Canal St &amp; Monroe St'</li><li>'Canal St &amp; Taylor St'</li><li>'Cannon Dr &amp; Fullerton Ave'</li><li>'Carpenter St &amp; 63rd St'</li><li>'Carpenter St &amp; Huron St'</li><li>'Central Ave &amp; Chicago Ave'</li><li>'Central Ave &amp; Harrison St'</li><li>'Central Ave &amp; Lake St'</li><li>'Central Ave &amp; Madison St'</li><li>'Central Ave &amp; Parker Ave'</li><li>'Central Ave &amp; Roscoe St'</li><li>'Central Ave &amp; Wellington Ave'</li><li>'Central Park &amp; Augusta Blvd'</li><li>'Central Park Ave &amp; 24th St'</li><li>'Central Park Ave &amp; Bloomingdale Ave'</li><li>'Central Park Ave &amp; Douglas Blvd'</li><li>'Central Park Ave &amp; Elbridge Ave'</li><li>'Central Park Ave &amp; North Ave'</li><li>'Central Park Ave &amp; Ogden Ave'</li><li>'Central Park Ave &amp; Ohio St'</li><li>'Central Park Blvd &amp; 5th Ave'</li><li>'Central St &amp; Girard Ave'</li><li>'Central St Metra'</li><li>'Cherry Ave &amp; Blackhawk St'</li><li>'Chicago Ave &amp; Sheridan Rd'</li><li>'Chicago Ave &amp; Washington St'</li><li>'Chicago State University'</li><li>'Christiana Ave &amp; Lawrence Ave'</li><li>'Cicero Ave &amp; Flournoy St'</li><li>'Cicero Ave &amp; Grace St'</li><li>'Cicero Ave &amp; Lake St'</li><li>'Cicero Ave &amp; Quincy St'</li><li>'Cicero Ave &amp; Roscoe Ave'</li><li>'Cicero Ave &amp; Wrightwood Ave'</li><li>'Cityfront Plaza Dr &amp; Pioneer Ct'</li><li>'Claremont Ave &amp; Hirsch St'</li><li>'Clarendon Ave &amp; Gordon Ter'</li><li>'Clarendon Ave &amp; Junior Ter'</li><li>'Clarendon Ave &amp; Leland Ave'</li><li>'Clark St &amp; 9th St (AMLI)'</li><li>'Clark St &amp; Armitage Ave'</li><li>'Clark St &amp; Berwyn Ave'</li><li>'Clark St &amp; Bryn Mawr Ave'</li><li>'Clark St &amp; Chicago Ave'</li><li>'Clark St &amp; Columbia Ave'</li><li>'Clark St &amp; Drummond Pl'</li><li>'Clark St &amp; Elm St'</li><li>'Clark St &amp; Elmdale Ave'</li><li>'Clark St &amp; Grace St'</li><li>'Clark St &amp; Ida B Wells Dr'</li><li>'Clark St &amp; Jarvis Ave'</li><li>'Clark St &amp; Lake St'</li><li>'Clark St &amp; Leland Ave'</li><li>'Clark St &amp; Lincoln Ave'</li><li>'Clark St &amp; Lunt Ave'</li><li>'Clark St &amp; Montrose Ave'</li><li>'Clark St &amp; Newport St'</li><li>'Clark St &amp; North Ave'</li><li>'Clark St &amp; Randolph St'</li><li>'Clark St &amp; Schiller St'</li><li>'Clark St &amp; Schreiber Ave'</li><li>'Clark St &amp; Touhy Ave'</li><li>'Clark St &amp; Wellington Ave'</li><li>'Clark St &amp; Winnemac Ave'</li><li>'Clark St &amp; Wrightwood Ave'</li><li>'Clifton Ave &amp; Armitage Ave'</li><li>'Clinton St &amp; 18th St'</li><li>'Clinton St &amp; Jackson Blvd'</li><li>'Clinton St &amp; Lake St'</li><li>'Clinton St &amp; Madison St'</li><li>'Clinton St &amp; Polk St'</li><li>'Clinton St &amp; Roosevelt Rd'</li><li>'Clinton St &amp; Tilden St'</li><li>'Clinton St &amp; Washington Blvd'</li><li>'Clybourn Ave &amp; Division St'</li><li>⋯</li><li>'Sheffield Ave &amp; Fullerton Ave'</li><li>'Sheffield Ave &amp; Kingsbury St'</li><li>'Sheffield Ave &amp; Waveland Ave'</li><li>'Sheffield Ave &amp; Webster Ave'</li><li>'Sheffield Ave &amp; Wellington Ave'</li><li>'Sheffield Ave &amp; Willow St'</li><li>'Sheffield Ave &amp; Wrightwood Ave'</li><li>'Sheridan Rd &amp; Argyle St'</li><li>'Sheridan Rd &amp; Buena Ave'</li><li>'Sheridan Rd &amp; Columbia Ave'</li><li>'Sheridan Rd &amp; Greenleaf Ave'</li><li>'Sheridan Rd &amp; Irving Park Rd'</li><li>'Sheridan Rd &amp; Lawrence Ave'</li><li>'Sheridan Rd &amp; Loyola Ave'</li><li>'Sheridan Rd &amp; Montrose Ave'</li><li>'Sheridan Rd &amp; Noyes St (NU)'</li><li>'Shields Ave &amp; 28th Pl'</li><li>'Shields Ave &amp; 31st St'</li><li>'Shields Ave &amp; 43rd St'</li><li>'Shore Dr &amp; 55th St'</li><li>'Smith Park'</li><li>'South Chicago Ave &amp; 83rd St'</li><li>'South Chicago Ave &amp; Elliot Ave'</li><li>'South Shore Dr &amp; 67th St'</li><li>'South Shore Dr &amp; 71st St'</li><li>'South Shore Dr &amp; 74th St'</li><li>'Southport Ave &amp; Belmont Ave'</li><li>'Southport Ave &amp; Clark St'</li><li>'Southport Ave &amp; Clybourn Ave'</li><li>'Southport Ave &amp; Irving Park Rd'</li><li>'Southport Ave &amp; Roscoe St'</li><li>'Southport Ave &amp; Waveland Ave'</li><li>'Southport Ave &amp; Wellington Ave'</li><li>'Southport Ave &amp; Wrightwood Ave'</li><li>'Spaulding Ave &amp; 16th St'</li><li>'Spaulding Ave &amp; 63rd St'</li><li>'Spaulding Ave &amp; Armitage Ave'</li><li>'Spaulding Ave &amp; Division St'</li><li>'Springfield Ave &amp; 47th St'</li><li>'Springfield Ave &amp; 71st St'</li><li>'Springfield Ave &amp; 80th St'</li><li>'Springfield Ave &amp; North Ave'</li><li>'St Louis Ave &amp; 59th St'</li><li>'St Louis Ave &amp; Foster Ave'</li><li>'St Louis Ave &amp; Norman Bobbins Ave'</li><li>'St. Clair St &amp; Erie St'</li><li>'St. Louis &amp; 71st St'</li><li>'St. Louis Ave &amp; Balmoral Ave'</li><li>'St. Louis Ave &amp; Fullerton Ave'</li><li>'State St &amp; 123rd St'</li><li>'State St &amp; 19th St'</li><li>'State St &amp; 29th St'</li><li>'State St &amp; 33rd St'</li><li>'State St &amp; 35th St'</li><li>'State St &amp; 54th St'</li><li>'State St &amp; 76th St'</li><li>'State St &amp; 79th St'</li><li>'State St &amp; 95th St'</li><li>'State St &amp; Chicago Ave'</li><li>'State St &amp; Harrison St'</li><li>'State St &amp; Kinzie St'</li><li>'State St &amp; Pearson St'</li><li>'State St &amp; Pershing Rd'</li><li>'State St &amp; Randolph St'</li><li>'State St &amp; Van Buren St'</li><li>'Stave St &amp; Armitage Ave'</li><li>'Steelworkers Park'</li><li>'Stetson Ave &amp; South Water St'</li><li>'Stewart Ave &amp; 63rd St'</li><li>'Stewart Ave &amp; 83rd St'</li><li>'Stockton Dr &amp; Wrightwood Ave'</li><li>'Stony Island Ave &amp; 63rd St'</li><li>'Stony Island Ave &amp; 64th St'</li><li>'Stony Island Ave &amp; 67th St'</li><li>'Stony Island Ave &amp; 71st St'</li><li>'Stony Island Ave &amp; 75th St'</li><li>'Stony Island Ave &amp; 82nd St'</li><li>'Stony Island Ave &amp; 90th St'</li><li>'Stony Island Ave &amp; South Chicago Ave'</li><li>'Streeter Dr &amp; Grand Ave'</li><li>'Streeter Dr/Grand Ave'</li><li>'Summit Ave &amp; 86th St'</li><li>'Talman Ave &amp; Addison St'</li><li>'Theater on the Lake'</li><li>'Throop St &amp; 52nd St'</li><li>'Throop St &amp; Taylor St'</li><li>'Torrence Ave &amp; 106th St'</li><li>'Torrence Ave &amp; 126th Pl'</li><li>'Tripp Ave &amp; 15th St'</li><li>'Tripp Ave &amp; 31st St'</li><li>'Tripp Ave &amp; 65th St'</li><li>'Troy Ave &amp; 27th St'</li><li>'Troy St &amp; Elston Ave'</li><li>'Troy St &amp; Grace St'</li><li>'Troy St &amp; Jackson Blvd'</li><li>'Troy St &amp; North Ave'</li><li>'Union Ave &amp; Root St'</li><li>'University Ave &amp; 57th St'</li><li>'University Ave &amp; 59th St'</li><li>'University Library (NU)'</li><li>'Valli Produce - Evanston Plaza'</li><li>'Vernon Ave &amp; 107th St'</li><li>'Vernon Ave &amp; 75th St'</li><li>'Vernon Ave &amp; 79th St'</li><li>'Vincennes Ave &amp; 104th St'</li><li>'Vincennes Ave &amp; 75th St'</li><li>'Virginia Ave &amp; Catalpa Ave'</li><li>'W 103rd St &amp; S Avers Ave'</li><li>'W Armitage Ave &amp; N Sheffield Ave'</li><li>'W Oakdale Ave &amp; N Broadway'</li><li>'W Washington Blvd &amp; N Peoria St'</li><li>'Wabash Ave &amp; 16th St'</li><li>'Wabash Ave &amp; 83rd St'</li><li>'Wabash Ave &amp; 87th St'</li><li>'Wabash Ave &amp; 9th St'</li><li>'Wabash Ave &amp; Adams St'</li><li>'Wabash Ave &amp; Cermak Rd'</li><li>'Wabash Ave &amp; Grand Ave'</li><li>'Wabash Ave &amp; Roosevelt Rd'</li><li>'Wabash Ave &amp; Wacker Pl'</li><li>'Wacker Dr &amp; Washington St'</li><li>'Walden Pkwy &amp; 100th St'</li><li>'Wallace St &amp; 35th St'</li><li>'Walsh Park'</li><li>'Warren Park East'</li><li>'Warren Park West'</li><li>'Washtenaw Ave &amp; Lawrence Ave'</li><li>'Washtenaw Ave &amp; Madison St'</li><li>'Washtenaw Ave &amp; Ogden Ave'</li><li>'Washtenaw Ave &amp; Peterson Ave'</li><li>'Washtenaw Ave &amp; Polk St'</li><li>'Wells St &amp; 19th St'</li><li>'Wells St &amp; Concord Ln'</li><li>'Wells St &amp; Elm St'</li><li>'Wells St &amp; Evergreen Ave'</li><li>'Wells St &amp; Hubbard St'</li><li>'Wells St &amp; Huron St'</li><li>'Wells St &amp; Institute Pl'</li><li>'Wells St &amp; Polk St'</li><li>'Wells St &amp; Randolph St'</li><li>'Wells St &amp; Walton St'</li><li>'Wentworth Ave &amp; 104th St'</li><li>'Wentworth Ave &amp; 24th St'</li><li>'Wentworth Ave &amp; 24th St (Temp)'</li><li>'Wentworth Ave &amp; 33rd St'</li><li>'Wentworth Ave &amp; 35th St'</li><li>'Wentworth Ave &amp; 63rd St'</li><li>'Wentworth Ave &amp; Cermak Rd'</li><li>'Wentworth Ave &amp; Cermak Rd*'</li><li>'Western Ave &amp; 104th St'</li><li>'Western Ave &amp; 111th St'</li><li>'Western Ave &amp; 21st St'</li><li>'Western Ave &amp; 24th St'</li><li>'Western Ave &amp; 28th St'</li><li>'Western Ave &amp; 62nd St'</li><li>'Western Ave &amp; 79th St'</li><li>'Western Ave &amp; Ardmore Ave'</li><li>'Western Ave &amp; Berteau Ave'</li><li>'Western Ave &amp; Congress Pkwy'</li><li>'Western Ave &amp; Division St'</li><li>'Western Ave &amp; Fillmore St'</li><li>'Western Ave &amp; Grace St'</li><li>'Western Ave &amp; Granville Ave'</li><li>'Western Ave &amp; Gunnison St'</li><li>'Western Ave &amp; Howard St'</li><li>'Western Ave &amp; Lake St'</li><li>'Western Ave &amp; Leland Ave'</li><li>'Western Ave &amp; Lunt Ave'</li><li>'Western Ave &amp; Monroe St'</li><li>'Western Ave &amp; Roscoe St'</li><li>'Western Ave &amp; Walton St'</li><li>'Western Ave &amp; Winnebago Ave'</li><li>'Western Blvd &amp; 48th Pl'</li><li>'Whipple St &amp; Roosevelt Rd'</li><li>'Whipple/Irving Park'</li><li>'Wilton Ave &amp; Belmont Ave'</li><li>'Wilton Ave &amp; Diversey Pkwy'</li><li>'Wilton Ave &amp; Diversey Pkwy*'</li><li>'Winchester (Ravenswood) Ave &amp; Balmoral Ave'</li><li>'Winchester Ave &amp; Elston Ave'</li><li>'Winthrop Ave &amp; Lawrence Ave'</li><li>'Wolcott (Ravenswood) Ave &amp; Montrose Ave'</li><li>'Wolcott Ave &amp; Fargo Ave'</li><li>'Wolcott Ave &amp; Polk St'</li><li>'Wood St &amp; 35th St'</li><li>'Wood St &amp; 84th St'</li><li>'Wood St &amp; Augusta Blvd'</li><li>'Wood St &amp; Chicago Ave'</li><li>'Wood St &amp; Hubbard St'</li><li>'Wood St &amp; Milwaukee Ave'</li><li>'Wood St &amp; Taylor St (Temp)'</li><li>'Wood St &amp; Webster Ave'</li><li>'Woodlawn &amp; 103rd'</li><li>'Woodlawn &amp; 103rd - Olive Harvey Vaccination Site'</li><li>'Woodlawn Ave &amp; 55th St'</li><li>'Woodlawn Ave &amp; 58th St'</li><li>'Woodlawn Ave &amp; 75th St'</li><li>'Woodlawn Ave &amp; Lake Park Ave'</li><li>'Yates Blvd &amp; 75th St'</li><li>'Yates Blvd &amp; 93rd St'</li></ol>\n"
            ],
            "text/markdown": "1. ''\n2. '2112 W Peterson Ave'\n3. '410'\n4. '63rd St Beach'\n5. '900 W Harrison St'\n6. 'Aberdeen St &amp; Jackson Blvd'\n7. 'Aberdeen St &amp; Monroe St'\n8. 'Aberdeen St &amp; Randolph St'\n9. 'Ada St &amp; 113th St'\n10. 'Ada St &amp; Washington Blvd'\n11. 'Adler Planetarium'\n12. 'Albany Ave &amp; 16th St'\n13. 'Albany Ave &amp; 26th St'\n14. 'Albany Ave &amp; Belmont Ave'\n15. 'Albany Ave &amp; Bloomingdale Ave'\n16. 'Albany Ave &amp; Douglas Blvd'\n17. 'Albany Ave &amp; Montrose Ave'\n18. 'Altgeld Gardens'\n19. 'Archer (Damen) Ave &amp; 37th St'\n20. 'Archer Ave &amp; 43rd St'\n21. 'Artesian Ave &amp; 55th St'\n22. 'Artesian Ave &amp; 71st St'\n23. 'Artesian Ave &amp; Hubbard St'\n24. 'Artesian Ave &amp; Marquette Rd'\n25. 'Ashland Ave &amp; 13th St'\n26. 'Ashland Ave &amp; 50th St'\n27. 'Ashland Ave &amp; 63rd St'\n28. 'Ashland Ave &amp; 66th St'\n29. 'Ashland Ave &amp; 74th St'\n30. 'Ashland Ave &amp; 78th St'\n31. 'Ashland Ave &amp; Archer Ave'\n32. 'Ashland Ave &amp; Augusta Blvd'\n33. 'Ashland Ave &amp; Belle Plaine Ave'\n34. 'Ashland Ave &amp; Blackhawk St'\n35. 'Ashland Ave &amp; Chicago Ave'\n36. 'Ashland Ave &amp; Division St'\n37. 'Ashland Ave &amp; Garfield Blvd'\n38. 'Ashland Ave &amp; Grace St'\n39. 'Ashland Ave &amp; Grand Ave'\n40. 'Ashland Ave &amp; Lake St'\n41. 'Ashland Ave &amp; McDowell Ave'\n42. 'Ashland Ave &amp; Pershing Rd'\n43. 'Ashland Ave &amp; Wellington Ave'\n44. 'Ashland Ave &amp; Wrightwood Ave'\n45. 'Augusta Blvd &amp; Laramie Ave'\n46. 'Austin Blvd &amp; Chicago Ave'\n47. 'Austin Blvd &amp; Lake St'\n48. 'Austin Blvd &amp; Madison St'\n49. 'Avenue L &amp; 114th St'\n50. 'Avenue O &amp; 118th St'\n51. 'Avenue O &amp; 134th St'\n52. 'Avers Ave &amp; Belmont Ave'\n53. 'Avondale Ave &amp; Irving Park Rd'\n54. 'Baltimore Ave &amp; 87th St'\n55. 'Base - 2132 W Hubbard'\n56. 'Bennett Ave &amp; 79th St'\n57. 'Benson Ave &amp; Church St'\n58. 'Bernard St &amp; Elston Ave'\n59. 'Big Marsh Park'\n60. 'Bissell St &amp; Armitage Ave*'\n61. 'Blackstone Ave &amp; 59th St'\n62. 'Blackstone Ave &amp; Hyde Park Blvd'\n63. 'Bloomingdale Ave &amp; Harlem Ave'\n64. 'Blue Island Ave &amp; 18th St'\n65. 'Bosworth Ave &amp; Howard St'\n66. 'Bradley Park'\n67. 'Broadway &amp; Argyle St'\n68. 'Broadway &amp; Barry Ave'\n69. 'Broadway &amp; Belmont Ave'\n70. 'Broadway &amp; Berwyn Ave'\n71. 'Broadway &amp; Cornelia Ave'\n72. 'Broadway &amp; Granville Ave'\n73. 'Broadway &amp; Ridge Ave'\n74. 'Broadway &amp; Sheridan Rd'\n75. 'Broadway &amp; Thorndale Ave'\n76. 'Broadway &amp; Waveland Ave'\n77. 'Broadway &amp; Wilson Ave'\n78. 'Buckingham - Fountain'\n79. 'Buckingham Fountain'\n80. 'Buckingham Fountain (Columbus/Balbo)'\n81. 'Buckingham Fountain (Michigan/11th)'\n82. 'Buckingham Fountain (Temp)'\n83. 'Budlong Woods Library'\n84. 'Burling St &amp; Diversey Pkwy'\n85. 'Burnham Greenway &amp; 105th St'\n86. 'Burnham Greenway &amp; 112th St'\n87. 'Burnham Harbor'\n88. 'California &amp; 16th St'\n89. 'California Ave &amp; 21st St'\n90. 'California Ave &amp; 23rd Pl'\n91. 'California Ave &amp; 26th St'\n92. 'California Ave &amp; 29th St'\n93. 'California Ave &amp; 36th St'\n94. 'California Ave &amp; 71st St'\n95. 'California Ave &amp; Altgeld St'\n96. 'California Ave &amp; Byron St'\n97. 'California Ave &amp; Cortez St'\n98. 'California Ave &amp; Division St'\n99. 'California Ave &amp; Fletcher St'\n100. 'California Ave &amp; Francis Pl'\n101. 'California Ave &amp; Francis Pl (Temp)'\n102. 'California Ave &amp; Granville Ave'\n103. 'California Ave &amp; Lake St'\n104. 'California Ave &amp; Marquette Rd'\n105. 'California Ave &amp; Milwaukee Ave'\n106. 'California Ave &amp; Montrose Ave'\n107. 'California Ave &amp; North Ave'\n108. 'California Ave &amp; Winona St'\n109. 'Calumet Ave &amp; 18th St'\n110. 'Calumet Ave &amp; 21st St'\n111. 'Calumet Ave &amp; 33rd St'\n112. 'Calumet Ave &amp; 35th St'\n113. 'Calumet Ave &amp; 51st St'\n114. 'Calumet Ave &amp; 71st St'\n115. 'Calumet Park'\n116. 'Campbell Ave &amp; 51st St'\n117. 'Campbell Ave &amp; Augusta Blvd'\n118. 'Campbell Ave &amp; Fullerton Ave'\n119. 'Campbell Ave &amp; Irving Park Rd'\n120. 'Campbell Ave &amp; Montrose Ave'\n121. 'Campbell Ave &amp; North Ave'\n122. 'Canal St &amp; Adams St'\n123. 'Canal St &amp; Harrison St'\n124. 'Canal St &amp; Jackson Blvd'\n125. 'Canal St &amp; Madison St'\n126. 'Canal St &amp; Monroe St'\n127. 'Canal St &amp; Taylor St'\n128. 'Cannon Dr &amp; Fullerton Ave'\n129. 'Carpenter St &amp; 63rd St'\n130. 'Carpenter St &amp; Huron St'\n131. 'Central Ave &amp; Chicago Ave'\n132. 'Central Ave &amp; Harrison St'\n133. 'Central Ave &amp; Lake St'\n134. 'Central Ave &amp; Madison St'\n135. 'Central Ave &amp; Parker Ave'\n136. 'Central Ave &amp; Roscoe St'\n137. 'Central Ave &amp; Wellington Ave'\n138. 'Central Park &amp; Augusta Blvd'\n139. 'Central Park Ave &amp; 24th St'\n140. 'Central Park Ave &amp; Bloomingdale Ave'\n141. 'Central Park Ave &amp; Douglas Blvd'\n142. 'Central Park Ave &amp; Elbridge Ave'\n143. 'Central Park Ave &amp; North Ave'\n144. 'Central Park Ave &amp; Ogden Ave'\n145. 'Central Park Ave &amp; Ohio St'\n146. 'Central Park Blvd &amp; 5th Ave'\n147. 'Central St &amp; Girard Ave'\n148. 'Central St Metra'\n149. 'Cherry Ave &amp; Blackhawk St'\n150. 'Chicago Ave &amp; Sheridan Rd'\n151. 'Chicago Ave &amp; Washington St'\n152. 'Chicago State University'\n153. 'Christiana Ave &amp; Lawrence Ave'\n154. 'Cicero Ave &amp; Flournoy St'\n155. 'Cicero Ave &amp; Grace St'\n156. 'Cicero Ave &amp; Lake St'\n157. 'Cicero Ave &amp; Quincy St'\n158. 'Cicero Ave &amp; Roscoe Ave'\n159. 'Cicero Ave &amp; Wrightwood Ave'\n160. 'Cityfront Plaza Dr &amp; Pioneer Ct'\n161. 'Claremont Ave &amp; Hirsch St'\n162. 'Clarendon Ave &amp; Gordon Ter'\n163. 'Clarendon Ave &amp; Junior Ter'\n164. 'Clarendon Ave &amp; Leland Ave'\n165. 'Clark St &amp; 9th St (AMLI)'\n166. 'Clark St &amp; Armitage Ave'\n167. 'Clark St &amp; Berwyn Ave'\n168. 'Clark St &amp; Bryn Mawr Ave'\n169. 'Clark St &amp; Chicago Ave'\n170. 'Clark St &amp; Columbia Ave'\n171. 'Clark St &amp; Drummond Pl'\n172. 'Clark St &amp; Elm St'\n173. 'Clark St &amp; Elmdale Ave'\n174. 'Clark St &amp; Grace St'\n175. 'Clark St &amp; Ida B Wells Dr'\n176. 'Clark St &amp; Jarvis Ave'\n177. 'Clark St &amp; Lake St'\n178. 'Clark St &amp; Leland Ave'\n179. 'Clark St &amp; Lincoln Ave'\n180. 'Clark St &amp; Lunt Ave'\n181. 'Clark St &amp; Montrose Ave'\n182. 'Clark St &amp; Newport St'\n183. 'Clark St &amp; North Ave'\n184. 'Clark St &amp; Randolph St'\n185. 'Clark St &amp; Schiller St'\n186. 'Clark St &amp; Schreiber Ave'\n187. 'Clark St &amp; Touhy Ave'\n188. 'Clark St &amp; Wellington Ave'\n189. 'Clark St &amp; Winnemac Ave'\n190. 'Clark St &amp; Wrightwood Ave'\n191. 'Clifton Ave &amp; Armitage Ave'\n192. 'Clinton St &amp; 18th St'\n193. 'Clinton St &amp; Jackson Blvd'\n194. 'Clinton St &amp; Lake St'\n195. 'Clinton St &amp; Madison St'\n196. 'Clinton St &amp; Polk St'\n197. 'Clinton St &amp; Roosevelt Rd'\n198. 'Clinton St &amp; Tilden St'\n199. 'Clinton St &amp; Washington Blvd'\n200. 'Clybourn Ave &amp; Division St'\n201. ⋯\n202. 'Sheffield Ave &amp; Fullerton Ave'\n203. 'Sheffield Ave &amp; Kingsbury St'\n204. 'Sheffield Ave &amp; Waveland Ave'\n205. 'Sheffield Ave &amp; Webster Ave'\n206. 'Sheffield Ave &amp; Wellington Ave'\n207. 'Sheffield Ave &amp; Willow St'\n208. 'Sheffield Ave &amp; Wrightwood Ave'\n209. 'Sheridan Rd &amp; Argyle St'\n210. 'Sheridan Rd &amp; Buena Ave'\n211. 'Sheridan Rd &amp; Columbia Ave'\n212. 'Sheridan Rd &amp; Greenleaf Ave'\n213. 'Sheridan Rd &amp; Irving Park Rd'\n214. 'Sheridan Rd &amp; Lawrence Ave'\n215. 'Sheridan Rd &amp; Loyola Ave'\n216. 'Sheridan Rd &amp; Montrose Ave'\n217. 'Sheridan Rd &amp; Noyes St (NU)'\n218. 'Shields Ave &amp; 28th Pl'\n219. 'Shields Ave &amp; 31st St'\n220. 'Shields Ave &amp; 43rd St'\n221. 'Shore Dr &amp; 55th St'\n222. 'Smith Park'\n223. 'South Chicago Ave &amp; 83rd St'\n224. 'South Chicago Ave &amp; Elliot Ave'\n225. 'South Shore Dr &amp; 67th St'\n226. 'South Shore Dr &amp; 71st St'\n227. 'South Shore Dr &amp; 74th St'\n228. 'Southport Ave &amp; Belmont Ave'\n229. 'Southport Ave &amp; Clark St'\n230. 'Southport Ave &amp; Clybourn Ave'\n231. 'Southport Ave &amp; Irving Park Rd'\n232. 'Southport Ave &amp; Roscoe St'\n233. 'Southport Ave &amp; Waveland Ave'\n234. 'Southport Ave &amp; Wellington Ave'\n235. 'Southport Ave &amp; Wrightwood Ave'\n236. 'Spaulding Ave &amp; 16th St'\n237. 'Spaulding Ave &amp; 63rd St'\n238. 'Spaulding Ave &amp; Armitage Ave'\n239. 'Spaulding Ave &amp; Division St'\n240. 'Springfield Ave &amp; 47th St'\n241. 'Springfield Ave &amp; 71st St'\n242. 'Springfield Ave &amp; 80th St'\n243. 'Springfield Ave &amp; North Ave'\n244. 'St Louis Ave &amp; 59th St'\n245. 'St Louis Ave &amp; Foster Ave'\n246. 'St Louis Ave &amp; Norman Bobbins Ave'\n247. 'St. Clair St &amp; Erie St'\n248. 'St. Louis &amp; 71st St'\n249. 'St. Louis Ave &amp; Balmoral Ave'\n250. 'St. Louis Ave &amp; Fullerton Ave'\n251. 'State St &amp; 123rd St'\n252. 'State St &amp; 19th St'\n253. 'State St &amp; 29th St'\n254. 'State St &amp; 33rd St'\n255. 'State St &amp; 35th St'\n256. 'State St &amp; 54th St'\n257. 'State St &amp; 76th St'\n258. 'State St &amp; 79th St'\n259. 'State St &amp; 95th St'\n260. 'State St &amp; Chicago Ave'\n261. 'State St &amp; Harrison St'\n262. 'State St &amp; Kinzie St'\n263. 'State St &amp; Pearson St'\n264. 'State St &amp; Pershing Rd'\n265. 'State St &amp; Randolph St'\n266. 'State St &amp; Van Buren St'\n267. 'Stave St &amp; Armitage Ave'\n268. 'Steelworkers Park'\n269. 'Stetson Ave &amp; South Water St'\n270. 'Stewart Ave &amp; 63rd St'\n271. 'Stewart Ave &amp; 83rd St'\n272. 'Stockton Dr &amp; Wrightwood Ave'\n273. 'Stony Island Ave &amp; 63rd St'\n274. 'Stony Island Ave &amp; 64th St'\n275. 'Stony Island Ave &amp; 67th St'\n276. 'Stony Island Ave &amp; 71st St'\n277. 'Stony Island Ave &amp; 75th St'\n278. 'Stony Island Ave &amp; 82nd St'\n279. 'Stony Island Ave &amp; 90th St'\n280. 'Stony Island Ave &amp; South Chicago Ave'\n281. 'Streeter Dr &amp; Grand Ave'\n282. 'Streeter Dr/Grand Ave'\n283. 'Summit Ave &amp; 86th St'\n284. 'Talman Ave &amp; Addison St'\n285. 'Theater on the Lake'\n286. 'Throop St &amp; 52nd St'\n287. 'Throop St &amp; Taylor St'\n288. 'Torrence Ave &amp; 106th St'\n289. 'Torrence Ave &amp; 126th Pl'\n290. 'Tripp Ave &amp; 15th St'\n291. 'Tripp Ave &amp; 31st St'\n292. 'Tripp Ave &amp; 65th St'\n293. 'Troy Ave &amp; 27th St'\n294. 'Troy St &amp; Elston Ave'\n295. 'Troy St &amp; Grace St'\n296. 'Troy St &amp; Jackson Blvd'\n297. 'Troy St &amp; North Ave'\n298. 'Union Ave &amp; Root St'\n299. 'University Ave &amp; 57th St'\n300. 'University Ave &amp; 59th St'\n301. 'University Library (NU)'\n302. 'Valli Produce - Evanston Plaza'\n303. 'Vernon Ave &amp; 107th St'\n304. 'Vernon Ave &amp; 75th St'\n305. 'Vernon Ave &amp; 79th St'\n306. 'Vincennes Ave &amp; 104th St'\n307. 'Vincennes Ave &amp; 75th St'\n308. 'Virginia Ave &amp; Catalpa Ave'\n309. 'W 103rd St &amp; S Avers Ave'\n310. 'W Armitage Ave &amp; N Sheffield Ave'\n311. 'W Oakdale Ave &amp; N Broadway'\n312. 'W Washington Blvd &amp; N Peoria St'\n313. 'Wabash Ave &amp; 16th St'\n314. 'Wabash Ave &amp; 83rd St'\n315. 'Wabash Ave &amp; 87th St'\n316. 'Wabash Ave &amp; 9th St'\n317. 'Wabash Ave &amp; Adams St'\n318. 'Wabash Ave &amp; Cermak Rd'\n319. 'Wabash Ave &amp; Grand Ave'\n320. 'Wabash Ave &amp; Roosevelt Rd'\n321. 'Wabash Ave &amp; Wacker Pl'\n322. 'Wacker Dr &amp; Washington St'\n323. 'Walden Pkwy &amp; 100th St'\n324. 'Wallace St &amp; 35th St'\n325. 'Walsh Park'\n326. 'Warren Park East'\n327. 'Warren Park West'\n328. 'Washtenaw Ave &amp; Lawrence Ave'\n329. 'Washtenaw Ave &amp; Madison St'\n330. 'Washtenaw Ave &amp; Ogden Ave'\n331. 'Washtenaw Ave &amp; Peterson Ave'\n332. 'Washtenaw Ave &amp; Polk St'\n333. 'Wells St &amp; 19th St'\n334. 'Wells St &amp; Concord Ln'\n335. 'Wells St &amp; Elm St'\n336. 'Wells St &amp; Evergreen Ave'\n337. 'Wells St &amp; Hubbard St'\n338. 'Wells St &amp; Huron St'\n339. 'Wells St &amp; Institute Pl'\n340. 'Wells St &amp; Polk St'\n341. 'Wells St &amp; Randolph St'\n342. 'Wells St &amp; Walton St'\n343. 'Wentworth Ave &amp; 104th St'\n344. 'Wentworth Ave &amp; 24th St'\n345. 'Wentworth Ave &amp; 24th St (Temp)'\n346. 'Wentworth Ave &amp; 33rd St'\n347. 'Wentworth Ave &amp; 35th St'\n348. 'Wentworth Ave &amp; 63rd St'\n349. 'Wentworth Ave &amp; Cermak Rd'\n350. 'Wentworth Ave &amp; Cermak Rd*'\n351. 'Western Ave &amp; 104th St'\n352. 'Western Ave &amp; 111th St'\n353. 'Western Ave &amp; 21st St'\n354. 'Western Ave &amp; 24th St'\n355. 'Western Ave &amp; 28th St'\n356. 'Western Ave &amp; 62nd St'\n357. 'Western Ave &amp; 79th St'\n358. 'Western Ave &amp; Ardmore Ave'\n359. 'Western Ave &amp; Berteau Ave'\n360. 'Western Ave &amp; Congress Pkwy'\n361. 'Western Ave &amp; Division St'\n362. 'Western Ave &amp; Fillmore St'\n363. 'Western Ave &amp; Grace St'\n364. 'Western Ave &amp; Granville Ave'\n365. 'Western Ave &amp; Gunnison St'\n366. 'Western Ave &amp; Howard St'\n367. 'Western Ave &amp; Lake St'\n368. 'Western Ave &amp; Leland Ave'\n369. 'Western Ave &amp; Lunt Ave'\n370. 'Western Ave &amp; Monroe St'\n371. 'Western Ave &amp; Roscoe St'\n372. 'Western Ave &amp; Walton St'\n373. 'Western Ave &amp; Winnebago Ave'\n374. 'Western Blvd &amp; 48th Pl'\n375. 'Whipple St &amp; Roosevelt Rd'\n376. 'Whipple/Irving Park'\n377. 'Wilton Ave &amp; Belmont Ave'\n378. 'Wilton Ave &amp; Diversey Pkwy'\n379. 'Wilton Ave &amp; Diversey Pkwy*'\n380. 'Winchester (Ravenswood) Ave &amp; Balmoral Ave'\n381. 'Winchester Ave &amp; Elston Ave'\n382. 'Winthrop Ave &amp; Lawrence Ave'\n383. 'Wolcott (Ravenswood) Ave &amp; Montrose Ave'\n384. 'Wolcott Ave &amp; Fargo Ave'\n385. 'Wolcott Ave &amp; Polk St'\n386. 'Wood St &amp; 35th St'\n387. 'Wood St &amp; 84th St'\n388. 'Wood St &amp; Augusta Blvd'\n389. 'Wood St &amp; Chicago Ave'\n390. 'Wood St &amp; Hubbard St'\n391. 'Wood St &amp; Milwaukee Ave'\n392. 'Wood St &amp; Taylor St (Temp)'\n393. 'Wood St &amp; Webster Ave'\n394. 'Woodlawn &amp; 103rd'\n395. 'Woodlawn &amp; 103rd - Olive Harvey Vaccination Site'\n396. 'Woodlawn Ave &amp; 55th St'\n397. 'Woodlawn Ave &amp; 58th St'\n398. 'Woodlawn Ave &amp; 75th St'\n399. 'Woodlawn Ave &amp; Lake Park Ave'\n400. 'Yates Blvd &amp; 75th St'\n401. 'Yates Blvd &amp; 93rd St'\n\n\n",
            "text/latex": "\\begin{enumerate*}\n\\item ''\n\\item '2112 W Peterson Ave'\n\\item '410'\n\\item '63rd St Beach'\n\\item '900 W Harrison St'\n\\item 'Aberdeen St \\& Jackson Blvd'\n\\item 'Aberdeen St \\& Monroe St'\n\\item 'Aberdeen St \\& Randolph St'\n\\item 'Ada St \\& 113th St'\n\\item 'Ada St \\& Washington Blvd'\n\\item 'Adler Planetarium'\n\\item 'Albany Ave \\& 16th St'\n\\item 'Albany Ave \\& 26th St'\n\\item 'Albany Ave \\& Belmont Ave'\n\\item 'Albany Ave \\& Bloomingdale Ave'\n\\item 'Albany Ave \\& Douglas Blvd'\n\\item 'Albany Ave \\& Montrose Ave'\n\\item 'Altgeld Gardens'\n\\item 'Archer (Damen) Ave \\& 37th St'\n\\item 'Archer Ave \\& 43rd St'\n\\item 'Artesian Ave \\& 55th St'\n\\item 'Artesian Ave \\& 71st St'\n\\item 'Artesian Ave \\& Hubbard St'\n\\item 'Artesian Ave \\& Marquette Rd'\n\\item 'Ashland Ave \\& 13th St'\n\\item 'Ashland Ave \\& 50th St'\n\\item 'Ashland Ave \\& 63rd St'\n\\item 'Ashland Ave \\& 66th St'\n\\item 'Ashland Ave \\& 74th St'\n\\item 'Ashland Ave \\& 78th St'\n\\item 'Ashland Ave \\& Archer Ave'\n\\item 'Ashland Ave \\& Augusta Blvd'\n\\item 'Ashland Ave \\& Belle Plaine Ave'\n\\item 'Ashland Ave \\& Blackhawk St'\n\\item 'Ashland Ave \\& Chicago Ave'\n\\item 'Ashland Ave \\& Division St'\n\\item 'Ashland Ave \\& Garfield Blvd'\n\\item 'Ashland Ave \\& Grace St'\n\\item 'Ashland Ave \\& Grand Ave'\n\\item 'Ashland Ave \\& Lake St'\n\\item 'Ashland Ave \\& McDowell Ave'\n\\item 'Ashland Ave \\& Pershing Rd'\n\\item 'Ashland Ave \\& Wellington Ave'\n\\item 'Ashland Ave \\& Wrightwood Ave'\n\\item 'Augusta Blvd \\& Laramie Ave'\n\\item 'Austin Blvd \\& Chicago Ave'\n\\item 'Austin Blvd \\& Lake St'\n\\item 'Austin Blvd \\& Madison St'\n\\item 'Avenue L \\& 114th St'\n\\item 'Avenue O \\& 118th St'\n\\item 'Avenue O \\& 134th St'\n\\item 'Avers Ave \\& Belmont Ave'\n\\item 'Avondale Ave \\& Irving Park Rd'\n\\item 'Baltimore Ave \\& 87th St'\n\\item 'Base - 2132 W Hubbard'\n\\item 'Bennett Ave \\& 79th St'\n\\item 'Benson Ave \\& Church St'\n\\item 'Bernard St \\& Elston Ave'\n\\item 'Big Marsh Park'\n\\item 'Bissell St \\& Armitage Ave*'\n\\item 'Blackstone Ave \\& 59th St'\n\\item 'Blackstone Ave \\& Hyde Park Blvd'\n\\item 'Bloomingdale Ave \\& Harlem Ave'\n\\item 'Blue Island Ave \\& 18th St'\n\\item 'Bosworth Ave \\& Howard St'\n\\item 'Bradley Park'\n\\item 'Broadway \\& Argyle St'\n\\item 'Broadway \\& Barry Ave'\n\\item 'Broadway \\& Belmont Ave'\n\\item 'Broadway \\& Berwyn Ave'\n\\item 'Broadway \\& Cornelia Ave'\n\\item 'Broadway \\& Granville Ave'\n\\item 'Broadway \\& Ridge Ave'\n\\item 'Broadway \\& Sheridan Rd'\n\\item 'Broadway \\& Thorndale Ave'\n\\item 'Broadway \\& Waveland Ave'\n\\item 'Broadway \\& Wilson Ave'\n\\item 'Buckingham - Fountain'\n\\item 'Buckingham Fountain'\n\\item 'Buckingham Fountain (Columbus/Balbo)'\n\\item 'Buckingham Fountain (Michigan/11th)'\n\\item 'Buckingham Fountain (Temp)'\n\\item 'Budlong Woods Library'\n\\item 'Burling St \\& Diversey Pkwy'\n\\item 'Burnham Greenway \\& 105th St'\n\\item 'Burnham Greenway \\& 112th St'\n\\item 'Burnham Harbor'\n\\item 'California \\& 16th St'\n\\item 'California Ave \\& 21st St'\n\\item 'California Ave \\& 23rd Pl'\n\\item 'California Ave \\& 26th St'\n\\item 'California Ave \\& 29th St'\n\\item 'California Ave \\& 36th St'\n\\item 'California Ave \\& 71st St'\n\\item 'California Ave \\& Altgeld St'\n\\item 'California Ave \\& Byron St'\n\\item 'California Ave \\& Cortez St'\n\\item 'California Ave \\& Division St'\n\\item 'California Ave \\& Fletcher St'\n\\item 'California Ave \\& Francis Pl'\n\\item 'California Ave \\& Francis Pl (Temp)'\n\\item 'California Ave \\& Granville Ave'\n\\item 'California Ave \\& Lake St'\n\\item 'California Ave \\& Marquette Rd'\n\\item 'California Ave \\& Milwaukee Ave'\n\\item 'California Ave \\& Montrose Ave'\n\\item 'California Ave \\& North Ave'\n\\item 'California Ave \\& Winona St'\n\\item 'Calumet Ave \\& 18th St'\n\\item 'Calumet Ave \\& 21st St'\n\\item 'Calumet Ave \\& 33rd St'\n\\item 'Calumet Ave \\& 35th St'\n\\item 'Calumet Ave \\& 51st St'\n\\item 'Calumet Ave \\& 71st St'\n\\item 'Calumet Park'\n\\item 'Campbell Ave \\& 51st St'\n\\item 'Campbell Ave \\& Augusta Blvd'\n\\item 'Campbell Ave \\& Fullerton Ave'\n\\item 'Campbell Ave \\& Irving Park Rd'\n\\item 'Campbell Ave \\& Montrose Ave'\n\\item 'Campbell Ave \\& North Ave'\n\\item 'Canal St \\& Adams St'\n\\item 'Canal St \\& Harrison St'\n\\item 'Canal St \\& Jackson Blvd'\n\\item 'Canal St \\& Madison St'\n\\item 'Canal St \\& Monroe St'\n\\item 'Canal St \\& Taylor St'\n\\item 'Cannon Dr \\& Fullerton Ave'\n\\item 'Carpenter St \\& 63rd St'\n\\item 'Carpenter St \\& Huron St'\n\\item 'Central Ave \\& Chicago Ave'\n\\item 'Central Ave \\& Harrison St'\n\\item 'Central Ave \\& Lake St'\n\\item 'Central Ave \\& Madison St'\n\\item 'Central Ave \\& Parker Ave'\n\\item 'Central Ave \\& Roscoe St'\n\\item 'Central Ave \\& Wellington Ave'\n\\item 'Central Park \\& Augusta Blvd'\n\\item 'Central Park Ave \\& 24th St'\n\\item 'Central Park Ave \\& Bloomingdale Ave'\n\\item 'Central Park Ave \\& Douglas Blvd'\n\\item 'Central Park Ave \\& Elbridge Ave'\n\\item 'Central Park Ave \\& North Ave'\n\\item 'Central Park Ave \\& Ogden Ave'\n\\item 'Central Park Ave \\& Ohio St'\n\\item 'Central Park Blvd \\& 5th Ave'\n\\item 'Central St \\& Girard Ave'\n\\item 'Central St Metra'\n\\item 'Cherry Ave \\& Blackhawk St'\n\\item 'Chicago Ave \\& Sheridan Rd'\n\\item 'Chicago Ave \\& Washington St'\n\\item 'Chicago State University'\n\\item 'Christiana Ave \\& Lawrence Ave'\n\\item 'Cicero Ave \\& Flournoy St'\n\\item 'Cicero Ave \\& Grace St'\n\\item 'Cicero Ave \\& Lake St'\n\\item 'Cicero Ave \\& Quincy St'\n\\item 'Cicero Ave \\& Roscoe Ave'\n\\item 'Cicero Ave \\& Wrightwood Ave'\n\\item 'Cityfront Plaza Dr \\& Pioneer Ct'\n\\item 'Claremont Ave \\& Hirsch St'\n\\item 'Clarendon Ave \\& Gordon Ter'\n\\item 'Clarendon Ave \\& Junior Ter'\n\\item 'Clarendon Ave \\& Leland Ave'\n\\item 'Clark St \\& 9th St (AMLI)'\n\\item 'Clark St \\& Armitage Ave'\n\\item 'Clark St \\& Berwyn Ave'\n\\item 'Clark St \\& Bryn Mawr Ave'\n\\item 'Clark St \\& Chicago Ave'\n\\item 'Clark St \\& Columbia Ave'\n\\item 'Clark St \\& Drummond Pl'\n\\item 'Clark St \\& Elm St'\n\\item 'Clark St \\& Elmdale Ave'\n\\item 'Clark St \\& Grace St'\n\\item 'Clark St \\& Ida B Wells Dr'\n\\item 'Clark St \\& Jarvis Ave'\n\\item 'Clark St \\& Lake St'\n\\item 'Clark St \\& Leland Ave'\n\\item 'Clark St \\& Lincoln Ave'\n\\item 'Clark St \\& Lunt Ave'\n\\item 'Clark St \\& Montrose Ave'\n\\item 'Clark St \\& Newport St'\n\\item 'Clark St \\& North Ave'\n\\item 'Clark St \\& Randolph St'\n\\item 'Clark St \\& Schiller St'\n\\item 'Clark St \\& Schreiber Ave'\n\\item 'Clark St \\& Touhy Ave'\n\\item 'Clark St \\& Wellington Ave'\n\\item 'Clark St \\& Winnemac Ave'\n\\item 'Clark St \\& Wrightwood Ave'\n\\item 'Clifton Ave \\& Armitage Ave'\n\\item 'Clinton St \\& 18th St'\n\\item 'Clinton St \\& Jackson Blvd'\n\\item 'Clinton St \\& Lake St'\n\\item 'Clinton St \\& Madison St'\n\\item 'Clinton St \\& Polk St'\n\\item 'Clinton St \\& Roosevelt Rd'\n\\item 'Clinton St \\& Tilden St'\n\\item 'Clinton St \\& Washington Blvd'\n\\item 'Clybourn Ave \\& Division St'\n\\item ⋯\n\\item 'Sheffield Ave \\& Fullerton Ave'\n\\item 'Sheffield Ave \\& Kingsbury St'\n\\item 'Sheffield Ave \\& Waveland Ave'\n\\item 'Sheffield Ave \\& Webster Ave'\n\\item 'Sheffield Ave \\& Wellington Ave'\n\\item 'Sheffield Ave \\& Willow St'\n\\item 'Sheffield Ave \\& Wrightwood Ave'\n\\item 'Sheridan Rd \\& Argyle St'\n\\item 'Sheridan Rd \\& Buena Ave'\n\\item 'Sheridan Rd \\& Columbia Ave'\n\\item 'Sheridan Rd \\& Greenleaf Ave'\n\\item 'Sheridan Rd \\& Irving Park Rd'\n\\item 'Sheridan Rd \\& Lawrence Ave'\n\\item 'Sheridan Rd \\& Loyola Ave'\n\\item 'Sheridan Rd \\& Montrose Ave'\n\\item 'Sheridan Rd \\& Noyes St (NU)'\n\\item 'Shields Ave \\& 28th Pl'\n\\item 'Shields Ave \\& 31st St'\n\\item 'Shields Ave \\& 43rd St'\n\\item 'Shore Dr \\& 55th St'\n\\item 'Smith Park'\n\\item 'South Chicago Ave \\& 83rd St'\n\\item 'South Chicago Ave \\& Elliot Ave'\n\\item 'South Shore Dr \\& 67th St'\n\\item 'South Shore Dr \\& 71st St'\n\\item 'South Shore Dr \\& 74th St'\n\\item 'Southport Ave \\& Belmont Ave'\n\\item 'Southport Ave \\& Clark St'\n\\item 'Southport Ave \\& Clybourn Ave'\n\\item 'Southport Ave \\& Irving Park Rd'\n\\item 'Southport Ave \\& Roscoe St'\n\\item 'Southport Ave \\& Waveland Ave'\n\\item 'Southport Ave \\& Wellington Ave'\n\\item 'Southport Ave \\& Wrightwood Ave'\n\\item 'Spaulding Ave \\& 16th St'\n\\item 'Spaulding Ave \\& 63rd St'\n\\item 'Spaulding Ave \\& Armitage Ave'\n\\item 'Spaulding Ave \\& Division St'\n\\item 'Springfield Ave \\& 47th St'\n\\item 'Springfield Ave \\& 71st St'\n\\item 'Springfield Ave \\& 80th St'\n\\item 'Springfield Ave \\& North Ave'\n\\item 'St Louis Ave \\& 59th St'\n\\item 'St Louis Ave \\& Foster Ave'\n\\item 'St Louis Ave \\& Norman Bobbins Ave'\n\\item 'St. Clair St \\& Erie St'\n\\item 'St. Louis \\& 71st St'\n\\item 'St. Louis Ave \\& Balmoral Ave'\n\\item 'St. Louis Ave \\& Fullerton Ave'\n\\item 'State St \\& 123rd St'\n\\item 'State St \\& 19th St'\n\\item 'State St \\& 29th St'\n\\item 'State St \\& 33rd St'\n\\item 'State St \\& 35th St'\n\\item 'State St \\& 54th St'\n\\item 'State St \\& 76th St'\n\\item 'State St \\& 79th St'\n\\item 'State St \\& 95th St'\n\\item 'State St \\& Chicago Ave'\n\\item 'State St \\& Harrison St'\n\\item 'State St \\& Kinzie St'\n\\item 'State St \\& Pearson St'\n\\item 'State St \\& Pershing Rd'\n\\item 'State St \\& Randolph St'\n\\item 'State St \\& Van Buren St'\n\\item 'Stave St \\& Armitage Ave'\n\\item 'Steelworkers Park'\n\\item 'Stetson Ave \\& South Water St'\n\\item 'Stewart Ave \\& 63rd St'\n\\item 'Stewart Ave \\& 83rd St'\n\\item 'Stockton Dr \\& Wrightwood Ave'\n\\item 'Stony Island Ave \\& 63rd St'\n\\item 'Stony Island Ave \\& 64th St'\n\\item 'Stony Island Ave \\& 67th St'\n\\item 'Stony Island Ave \\& 71st St'\n\\item 'Stony Island Ave \\& 75th St'\n\\item 'Stony Island Ave \\& 82nd St'\n\\item 'Stony Island Ave \\& 90th St'\n\\item 'Stony Island Ave \\& South Chicago Ave'\n\\item 'Streeter Dr \\& Grand Ave'\n\\item 'Streeter Dr/Grand Ave'\n\\item 'Summit Ave \\& 86th St'\n\\item 'Talman Ave \\& Addison St'\n\\item 'Theater on the Lake'\n\\item 'Throop St \\& 52nd St'\n\\item 'Throop St \\& Taylor St'\n\\item 'Torrence Ave \\& 106th St'\n\\item 'Torrence Ave \\& 126th Pl'\n\\item 'Tripp Ave \\& 15th St'\n\\item 'Tripp Ave \\& 31st St'\n\\item 'Tripp Ave \\& 65th St'\n\\item 'Troy Ave \\& 27th St'\n\\item 'Troy St \\& Elston Ave'\n\\item 'Troy St \\& Grace St'\n\\item 'Troy St \\& Jackson Blvd'\n\\item 'Troy St \\& North Ave'\n\\item 'Union Ave \\& Root St'\n\\item 'University Ave \\& 57th St'\n\\item 'University Ave \\& 59th St'\n\\item 'University Library (NU)'\n\\item 'Valli Produce - Evanston Plaza'\n\\item 'Vernon Ave \\& 107th St'\n\\item 'Vernon Ave \\& 75th St'\n\\item 'Vernon Ave \\& 79th St'\n\\item 'Vincennes Ave \\& 104th St'\n\\item 'Vincennes Ave \\& 75th St'\n\\item 'Virginia Ave \\& Catalpa Ave'\n\\item 'W 103rd St \\& S Avers Ave'\n\\item 'W Armitage Ave \\& N Sheffield Ave'\n\\item 'W Oakdale Ave \\& N Broadway'\n\\item 'W Washington Blvd \\& N Peoria St'\n\\item 'Wabash Ave \\& 16th St'\n\\item 'Wabash Ave \\& 83rd St'\n\\item 'Wabash Ave \\& 87th St'\n\\item 'Wabash Ave \\& 9th St'\n\\item 'Wabash Ave \\& Adams St'\n\\item 'Wabash Ave \\& Cermak Rd'\n\\item 'Wabash Ave \\& Grand Ave'\n\\item 'Wabash Ave \\& Roosevelt Rd'\n\\item 'Wabash Ave \\& Wacker Pl'\n\\item 'Wacker Dr \\& Washington St'\n\\item 'Walden Pkwy \\& 100th St'\n\\item 'Wallace St \\& 35th St'\n\\item 'Walsh Park'\n\\item 'Warren Park East'\n\\item 'Warren Park West'\n\\item 'Washtenaw Ave \\& Lawrence Ave'\n\\item 'Washtenaw Ave \\& Madison St'\n\\item 'Washtenaw Ave \\& Ogden Ave'\n\\item 'Washtenaw Ave \\& Peterson Ave'\n\\item 'Washtenaw Ave \\& Polk St'\n\\item 'Wells St \\& 19th St'\n\\item 'Wells St \\& Concord Ln'\n\\item 'Wells St \\& Elm St'\n\\item 'Wells St \\& Evergreen Ave'\n\\item 'Wells St \\& Hubbard St'\n\\item 'Wells St \\& Huron St'\n\\item 'Wells St \\& Institute Pl'\n\\item 'Wells St \\& Polk St'\n\\item 'Wells St \\& Randolph St'\n\\item 'Wells St \\& Walton St'\n\\item 'Wentworth Ave \\& 104th St'\n\\item 'Wentworth Ave \\& 24th St'\n\\item 'Wentworth Ave \\& 24th St (Temp)'\n\\item 'Wentworth Ave \\& 33rd St'\n\\item 'Wentworth Ave \\& 35th St'\n\\item 'Wentworth Ave \\& 63rd St'\n\\item 'Wentworth Ave \\& Cermak Rd'\n\\item 'Wentworth Ave \\& Cermak Rd*'\n\\item 'Western Ave \\& 104th St'\n\\item 'Western Ave \\& 111th St'\n\\item 'Western Ave \\& 21st St'\n\\item 'Western Ave \\& 24th St'\n\\item 'Western Ave \\& 28th St'\n\\item 'Western Ave \\& 62nd St'\n\\item 'Western Ave \\& 79th St'\n\\item 'Western Ave \\& Ardmore Ave'\n\\item 'Western Ave \\& Berteau Ave'\n\\item 'Western Ave \\& Congress Pkwy'\n\\item 'Western Ave \\& Division St'\n\\item 'Western Ave \\& Fillmore St'\n\\item 'Western Ave \\& Grace St'\n\\item 'Western Ave \\& Granville Ave'\n\\item 'Western Ave \\& Gunnison St'\n\\item 'Western Ave \\& Howard St'\n\\item 'Western Ave \\& Lake St'\n\\item 'Western Ave \\& Leland Ave'\n\\item 'Western Ave \\& Lunt Ave'\n\\item 'Western Ave \\& Monroe St'\n\\item 'Western Ave \\& Roscoe St'\n\\item 'Western Ave \\& Walton St'\n\\item 'Western Ave \\& Winnebago Ave'\n\\item 'Western Blvd \\& 48th Pl'\n\\item 'Whipple St \\& Roosevelt Rd'\n\\item 'Whipple/Irving Park'\n\\item 'Wilton Ave \\& Belmont Ave'\n\\item 'Wilton Ave \\& Diversey Pkwy'\n\\item 'Wilton Ave \\& Diversey Pkwy*'\n\\item 'Winchester (Ravenswood) Ave \\& Balmoral Ave'\n\\item 'Winchester Ave \\& Elston Ave'\n\\item 'Winthrop Ave \\& Lawrence Ave'\n\\item 'Wolcott (Ravenswood) Ave \\& Montrose Ave'\n\\item 'Wolcott Ave \\& Fargo Ave'\n\\item 'Wolcott Ave \\& Polk St'\n\\item 'Wood St \\& 35th St'\n\\item 'Wood St \\& 84th St'\n\\item 'Wood St \\& Augusta Blvd'\n\\item 'Wood St \\& Chicago Ave'\n\\item 'Wood St \\& Hubbard St'\n\\item 'Wood St \\& Milwaukee Ave'\n\\item 'Wood St \\& Taylor St (Temp)'\n\\item 'Wood St \\& Webster Ave'\n\\item 'Woodlawn \\& 103rd'\n\\item 'Woodlawn \\& 103rd - Olive Harvey Vaccination Site'\n\\item 'Woodlawn Ave \\& 55th St'\n\\item 'Woodlawn Ave \\& 58th St'\n\\item 'Woodlawn Ave \\& 75th St'\n\\item 'Woodlawn Ave \\& Lake Park Ave'\n\\item 'Yates Blvd \\& 75th St'\n\\item 'Yates Blvd \\& 93rd St'\n\\end{enumerate*}\n",
            "text/plain": [
              "   [1] \"\"                                                                \n",
              "   [2] \"2112 W Peterson Ave\"                                             \n",
              "   [3] \"410\"                                                             \n",
              "   [4] \"63rd St Beach\"                                                   \n",
              "   [5] \"900 W Harrison St\"                                               \n",
              "   [6] \"Aberdeen St & Jackson Blvd\"                                      \n",
              "   [7] \"Aberdeen St & Monroe St\"                                         \n",
              "   [8] \"Aberdeen St & Randolph St\"                                       \n",
              "   [9] \"Ada St & 113th St\"                                               \n",
              "  [10] \"Ada St & Washington Blvd\"                                        \n",
              "  [11] \"Adler Planetarium\"                                               \n",
              "  [12] \"Albany Ave & 16th St\"                                            \n",
              "  [13] \"Albany Ave & 26th St\"                                            \n",
              "  [14] \"Albany Ave & Belmont Ave\"                                        \n",
              "  [15] \"Albany Ave & Bloomingdale Ave\"                                   \n",
              "  [16] \"Albany Ave & Douglas Blvd\"                                       \n",
              "  [17] \"Albany Ave & Montrose Ave\"                                       \n",
              "  [18] \"Altgeld Gardens\"                                                 \n",
              "  [19] \"Archer (Damen) Ave & 37th St\"                                    \n",
              "  [20] \"Archer Ave & 43rd St\"                                            \n",
              "  [21] \"Artesian Ave & 55th St\"                                          \n",
              "  [22] \"Artesian Ave & 71st St\"                                          \n",
              "  [23] \"Artesian Ave & Hubbard St\"                                       \n",
              "  [24] \"Artesian Ave & Marquette Rd\"                                     \n",
              "  [25] \"Ashland Ave & 13th St\"                                           \n",
              "  [26] \"Ashland Ave & 50th St\"                                           \n",
              "  [27] \"Ashland Ave & 63rd St\"                                           \n",
              "  [28] \"Ashland Ave & 66th St\"                                           \n",
              "  [29] \"Ashland Ave & 74th St\"                                           \n",
              "  [30] \"Ashland Ave & 78th St\"                                           \n",
              "  [31] \"Ashland Ave & Archer Ave\"                                        \n",
              "  [32] \"Ashland Ave & Augusta Blvd\"                                      \n",
              "  [33] \"Ashland Ave & Belle Plaine Ave\"                                  \n",
              "  [34] \"Ashland Ave & Blackhawk St\"                                      \n",
              "  [35] \"Ashland Ave & Chicago Ave\"                                       \n",
              "  [36] \"Ashland Ave & Division St\"                                       \n",
              "  [37] \"Ashland Ave & Garfield Blvd\"                                     \n",
              "  [38] \"Ashland Ave & Grace St\"                                          \n",
              "  [39] \"Ashland Ave & Grand Ave\"                                         \n",
              "  [40] \"Ashland Ave & Lake St\"                                           \n",
              "  [41] \"Ashland Ave & McDowell Ave\"                                      \n",
              "  [42] \"Ashland Ave & Pershing Rd\"                                       \n",
              "  [43] \"Ashland Ave & Wellington Ave\"                                    \n",
              "  [44] \"Ashland Ave & Wrightwood Ave\"                                    \n",
              "  [45] \"Augusta Blvd & Laramie Ave\"                                      \n",
              "  [46] \"Austin Blvd & Chicago Ave\"                                       \n",
              "  [47] \"Austin Blvd & Lake St\"                                           \n",
              "  [48] \"Austin Blvd & Madison St\"                                        \n",
              "  [49] \"Avenue L & 114th St\"                                             \n",
              "  [50] \"Avenue O & 118th St\"                                             \n",
              "  [51] \"Avenue O & 134th St\"                                             \n",
              "  [52] \"Avers Ave & Belmont Ave\"                                         \n",
              "  [53] \"Avondale Ave & Irving Park Rd\"                                   \n",
              "  [54] \"Baltimore Ave & 87th St\"                                         \n",
              "  [55] \"Base - 2132 W Hubbard\"                                           \n",
              "  [56] \"Bennett Ave & 79th St\"                                           \n",
              "  [57] \"Benson Ave & Church St\"                                          \n",
              "  [58] \"Bernard St & Elston Ave\"                                         \n",
              "  [59] \"Big Marsh Park\"                                                  \n",
              "  [60] \"Bissell St & Armitage Ave*\"                                      \n",
              "  [61] \"Blackstone Ave & 59th St\"                                        \n",
              "  [62] \"Blackstone Ave & Hyde Park Blvd\"                                 \n",
              "  [63] \"Bloomingdale Ave & Harlem Ave\"                                   \n",
              "  [64] \"Blue Island Ave & 18th St\"                                       \n",
              "  [65] \"Bosworth Ave & Howard St\"                                        \n",
              "  [66] \"Bradley Park\"                                                    \n",
              "  [67] \"Broadway & Argyle St\"                                            \n",
              "  [68] \"Broadway & Barry Ave\"                                            \n",
              "  [69] \"Broadway & Belmont Ave\"                                          \n",
              "  [70] \"Broadway & Berwyn Ave\"                                           \n",
              "  [71] \"Broadway & Cornelia Ave\"                                         \n",
              "  [72] \"Broadway & Granville Ave\"                                        \n",
              "  [73] \"Broadway & Ridge Ave\"                                            \n",
              "  [74] \"Broadway & Sheridan Rd\"                                          \n",
              "  [75] \"Broadway & Thorndale Ave\"                                        \n",
              "  [76] \"Broadway & Waveland Ave\"                                         \n",
              "  [77] \"Broadway & Wilson Ave\"                                           \n",
              "  [78] \"Buckingham - Fountain\"                                           \n",
              "  [79] \"Buckingham Fountain\"                                             \n",
              "  [80] \"Buckingham Fountain (Columbus/Balbo)\"                            \n",
              "  [81] \"Buckingham Fountain (Michigan/11th)\"                             \n",
              "  [82] \"Buckingham Fountain (Temp)\"                                      \n",
              "  [83] \"Budlong Woods Library\"                                           \n",
              "  [84] \"Burling St & Diversey Pkwy\"                                      \n",
              "  [85] \"Burnham Greenway & 105th St\"                                     \n",
              "  [86] \"Burnham Greenway & 112th St\"                                     \n",
              "  [87] \"Burnham Harbor\"                                                  \n",
              "  [88] \"California & 16th St\"                                            \n",
              "  [89] \"California Ave & 21st St\"                                        \n",
              "  [90] \"California Ave & 23rd Pl\"                                        \n",
              "  [91] \"California Ave & 26th St\"                                        \n",
              "  [92] \"California Ave & 29th St\"                                        \n",
              "  [93] \"California Ave & 36th St\"                                        \n",
              "  [94] \"California Ave & 71st St\"                                        \n",
              "  [95] \"California Ave & Altgeld St\"                                     \n",
              "  [96] \"California Ave & Byron St\"                                       \n",
              "  [97] \"California Ave & Cortez St\"                                      \n",
              "  [98] \"California Ave & Division St\"                                    \n",
              "  [99] \"California Ave & Fletcher St\"                                    \n",
              " [100] \"California Ave & Francis Pl\"                                     \n",
              " [101] \"California Ave & Francis Pl (Temp)\"                              \n",
              " [102] \"California Ave & Granville Ave\"                                  \n",
              " [103] \"California Ave & Lake St\"                                        \n",
              " [104] \"California Ave & Marquette Rd\"                                   \n",
              " [105] \"California Ave & Milwaukee Ave\"                                  \n",
              " [106] \"California Ave & Montrose Ave\"                                   \n",
              " [107] \"California Ave & North Ave\"                                      \n",
              " [108] \"California Ave & Winona St\"                                      \n",
              " [109] \"Calumet Ave & 18th St\"                                           \n",
              " [110] \"Calumet Ave & 21st St\"                                           \n",
              " [111] \"Calumet Ave & 33rd St\"                                           \n",
              " [112] \"Calumet Ave & 35th St\"                                           \n",
              " [113] \"Calumet Ave & 51st St\"                                           \n",
              " [114] \"Calumet Ave & 71st St\"                                           \n",
              " [115] \"Calumet Park\"                                                    \n",
              " [116] \"Campbell Ave & 51st St\"                                          \n",
              " [117] \"Campbell Ave & Augusta Blvd\"                                     \n",
              " [118] \"Campbell Ave & Fullerton Ave\"                                    \n",
              " [119] \"Campbell Ave & Irving Park Rd\"                                   \n",
              " [120] \"Campbell Ave & Montrose Ave\"                                     \n",
              " [121] \"Campbell Ave & North Ave\"                                        \n",
              " [122] \"Canal St & Adams St\"                                             \n",
              " [123] \"Canal St & Harrison St\"                                          \n",
              " [124] \"Canal St & Jackson Blvd\"                                         \n",
              " [125] \"Canal St & Madison St\"                                           \n",
              " [126] \"Canal St & Monroe St\"                                            \n",
              " [127] \"Canal St & Taylor St\"                                            \n",
              " [128] \"Cannon Dr & Fullerton Ave\"                                       \n",
              " [129] \"Carpenter St & 63rd St\"                                          \n",
              " [130] \"Carpenter St & Huron St\"                                         \n",
              " [131] \"Central Ave & Chicago Ave\"                                       \n",
              " [132] \"Central Ave & Harrison St\"                                       \n",
              " [133] \"Central Ave & Lake St\"                                           \n",
              " [134] \"Central Ave & Madison St\"                                        \n",
              " [135] \"Central Ave & Parker Ave\"                                        \n",
              " [136] \"Central Ave & Roscoe St\"                                         \n",
              " [137] \"Central Ave & Wellington Ave\"                                    \n",
              " [138] \"Central Park & Augusta Blvd\"                                     \n",
              " [139] \"Central Park Ave & 24th St\"                                      \n",
              " [140] \"Central Park Ave & Bloomingdale Ave\"                             \n",
              " [141] \"Central Park Ave & Douglas Blvd\"                                 \n",
              " [142] \"Central Park Ave & Elbridge Ave\"                                 \n",
              " [143] \"Central Park Ave & North Ave\"                                    \n",
              " [144] \"Central Park Ave & Ogden Ave\"                                    \n",
              " [145] \"Central Park Ave & Ohio St\"                                      \n",
              " [146] \"Central Park Blvd & 5th Ave\"                                     \n",
              " [147] \"Central St & Girard Ave\"                                         \n",
              " [148] \"Central St Metra\"                                                \n",
              " [149] \"Cherry Ave & Blackhawk St\"                                       \n",
              " [150] \"Chicago Ave & Sheridan Rd\"                                       \n",
              " [151] \"Chicago Ave & Washington St\"                                     \n",
              " [152] \"Chicago State University\"                                        \n",
              " [153] \"Christiana Ave & Lawrence Ave\"                                   \n",
              " [154] \"Cicero Ave & Flournoy St\"                                        \n",
              " [155] \"Cicero Ave & Grace St\"                                           \n",
              " [156] \"Cicero Ave & Lake St\"                                            \n",
              " [157] \"Cicero Ave & Quincy St\"                                          \n",
              " [158] \"Cicero Ave & Roscoe Ave\"                                         \n",
              " [159] \"Cicero Ave & Wrightwood Ave\"                                     \n",
              " [160] \"Cityfront Plaza Dr & Pioneer Ct\"                                 \n",
              " [161] \"Claremont Ave & Hirsch St\"                                       \n",
              " [162] \"Clarendon Ave & Gordon Ter\"                                      \n",
              " [163] \"Clarendon Ave & Junior Ter\"                                      \n",
              " [164] \"Clarendon Ave & Leland Ave\"                                      \n",
              " [165] \"Clark St & 9th St (AMLI)\"                                        \n",
              " [166] \"Clark St & Armitage Ave\"                                         \n",
              " [167] \"Clark St & Berwyn Ave\"                                           \n",
              " [168] \"Clark St & Bryn Mawr Ave\"                                        \n",
              " [169] \"Clark St & Chicago Ave\"                                          \n",
              " [170] \"Clark St & Columbia Ave\"                                         \n",
              " [171] \"Clark St & Drummond Pl\"                                          \n",
              " [172] \"Clark St & Elm St\"                                               \n",
              " [173] \"Clark St & Elmdale Ave\"                                          \n",
              " [174] \"Clark St & Grace St\"                                             \n",
              " [175] \"Clark St & Ida B Wells Dr\"                                       \n",
              " [176] \"Clark St & Jarvis Ave\"                                           \n",
              " [177] \"Clark St & Lake St\"                                              \n",
              " [178] \"Clark St & Leland Ave\"                                           \n",
              " [179] \"Clark St & Lincoln Ave\"                                          \n",
              " [180] \"Clark St & Lunt Ave\"                                             \n",
              " [181] \"Clark St & Montrose Ave\"                                         \n",
              " [182] \"Clark St & Newport St\"                                           \n",
              " [183] \"Clark St & North Ave\"                                            \n",
              " [184] \"Clark St & Randolph St\"                                          \n",
              " [185] \"Clark St & Schiller St\"                                          \n",
              " [186] \"Clark St & Schreiber Ave\"                                        \n",
              " [187] \"Clark St & Touhy Ave\"                                            \n",
              " [188] \"Clark St & Wellington Ave\"                                       \n",
              " [189] \"Clark St & Winnemac Ave\"                                         \n",
              " [190] \"Clark St & Wrightwood Ave\"                                       \n",
              " [191] \"Clifton Ave & Armitage Ave\"                                      \n",
              " [192] \"Clinton St & 18th St\"                                            \n",
              " [193] \"Clinton St & Jackson Blvd\"                                       \n",
              " [194] \"Clinton St & Lake St\"                                            \n",
              " [195] \"Clinton St & Madison St\"                                         \n",
              " [196] \"Clinton St & Polk St\"                                            \n",
              " [197] \"Clinton St & Roosevelt Rd\"                                       \n",
              " [198] \"Clinton St & Tilden St\"                                          \n",
              " [199] \"Clinton St & Washington Blvd\"                                    \n",
              " [200] \"Clybourn Ave & Division St\"                                      \n",
              " [201] \"Clyde Ave & 87th St\"                                             \n",
              " [202] \"Columbus Ave & 79th St\"                                          \n",
              " [203] \"Columbus Ave & 83rd Pl\"                                          \n",
              " [204] \"Columbus Dr & Randolph St\"                                       \n",
              " [205] \"Commercial Ave & 100th St\"                                       \n",
              " [206] \"Commercial Ave & 130th St\"                                       \n",
              " [207] \"Commercial Ave & 83rd St\"                                        \n",
              " [208] \"Conservatory Dr & Lake St\"                                       \n",
              " [209] \"Constance Ave & 95th St\"                                         \n",
              " [210] \"Cornell Ave & Hyde Park Blvd\"                                    \n",
              " [211] \"Cottage Grove Ave & 111th Pl\"                                    \n",
              " [212] \"Cottage Grove Ave & 43rd St\"                                     \n",
              " [213] \"Cottage Grove Ave & 47th St\"                                     \n",
              " [214] \"Cottage Grove Ave & 51st St\"                                     \n",
              " [215] \"Cottage Grove Ave & 63rd St\"                                     \n",
              " [216] \"Cottage Grove Ave & 67th St\"                                     \n",
              " [217] \"Cottage Grove Ave & 71st St\"                                     \n",
              " [218] \"Cottage Grove Ave & 78th St\"                                     \n",
              " [219] \"Cottage Grove Ave & 83rd St\"                                     \n",
              " [220] \"Cottage Grove Ave & Oakwood Blvd\"                                \n",
              " [221] \"Daley Center Plaza\"                                              \n",
              " [222] \"Damen Ave & 33rd St\"                                             \n",
              " [223] \"Damen Ave & 51st St\"                                             \n",
              " [224] \"Damen Ave & 59th St\"                                             \n",
              " [225] \"Damen Ave & 74th St\"                                             \n",
              " [226] \"Damen Ave & 81st St\"                                             \n",
              " [227] \"Damen Ave & 87th St\"                                             \n",
              " [228] \"Damen Ave & Charleston St\"                                       \n",
              " [229] \"Damen Ave & Chicago Ave\"                                         \n",
              " [230] \"Damen Ave & Clybourn Ave\"                                        \n",
              " [231] \"Damen Ave & Cortland St\"                                         \n",
              " [232] \"Damen Ave & Coulter St\"                                          \n",
              " [233] \"Damen Ave & Cullerton St\"                                        \n",
              " [234] \"Damen Ave & Division St\"                                         \n",
              " [235] \"Damen Ave & Foster Ave\"                                          \n",
              " [236] \"Damen Ave & Grand Ave\"                                           \n",
              " [237] \"Damen Ave & Leland Ave\"                                          \n",
              " [238] \"Damen Ave & Madison St\"                                          \n",
              " [239] \"Damen Ave & Melrose Ave\"                                         \n",
              " [240] \"Damen Ave & Pershing Rd\"                                         \n",
              " [241] \"Damen Ave & Pierce Ave\"                                          \n",
              " [242] \"Damen Ave & Sunnyside Ave\"                                       \n",
              " [243] \"Damen Ave & Thomas St (Augusta Blvd)\"                            \n",
              " [244] \"Damen Ave & Wabansia Ave\"                                        \n",
              " [245] \"Damen Ave & Walnut (Lake) St\"                                    \n",
              " [246] \"Damen Ave & Wellington Ave\"                                      \n",
              " [247] \"Damen Ave/Coulter St\"                                            \n",
              " [248] \"Dan Ryan Woods & 83rd St\"                                        \n",
              " [249] \"Dauphin Ave & 103rd St\"                                          \n",
              " [250] \"Dauphin Ave & 87th St\"                                           \n",
              " [251] \"Dayton St & North Ave\"                                           \n",
              " [252] \"Dearborn Pkwy & Delaware Pl\"                                     \n",
              " [253] \"Dearborn St & Adams St\"                                          \n",
              " [254] \"Dearborn St & Erie St\"                                           \n",
              " [255] \"Dearborn St & Monroe St\"                                         \n",
              " [256] \"Dearborn St & Van Buren St\"                                      \n",
              " [257] \"Delano Ct & Roosevelt Rd\"                                        \n",
              " [258] \"Desplaines St & Jackson Blvd\"                                    \n",
              " [259] \"Desplaines St & Kinzie St\"                                       \n",
              " [260] \"Desplaines St & Randolph St\"                                     \n",
              " [261] \"Dodge Ave & Church St\"                                           \n",
              " [262] \"Dodge Ave & Main St\"                                             \n",
              " [263] \"Dodge Ave & Mulford St\"                                          \n",
              " [264] \"Dorchester Ave & 49th St\"                                        \n",
              " [265] \"Dorchester Ave & 63rd St\"                                        \n",
              " [266] \"Doty Ave & 111th St\"                                             \n",
              " [267] \"Drake Ave & Addison St\"                                          \n",
              " [268] \"Drake Ave & Montrose Ave\"                                        \n",
              " [269] \"Drexel Ave & 60th St\"                                            \n",
              " [270] \"Dusable Harbor\"                                                  \n",
              " [271] \"DuSable Lake Shore Dr & Belmont Ave\"                             \n",
              " [272] \"DuSable Lake Shore Dr & Diversey Pkwy\"                           \n",
              " [273] \"DuSable Lake Shore Dr & Monroe St\"                               \n",
              " [274] \"DuSable Lake Shore Dr & North Blvd\"                              \n",
              " [275] \"DuSable Lake Shore Dr & Wellington Ave\"                          \n",
              " [276] \"DuSable Museum\"                                                  \n",
              " [277] \"East End Ave & 87th St\"                                          \n",
              " [278] \"Eastlake Ter & Howard St\"                                        \n",
              " [279] \"Eberhart Ave & 131st St\"                                         \n",
              " [280] \"Eberhart Ave & 61st St\"                                          \n",
              " [281] \"Eberhart Ave & 91st St\"                                          \n",
              " [282] \"Eckhart Park\"                                                    \n",
              " [283] \"Eggleston Ave & 69th St\"                                         \n",
              " [284] \"Eggleston Ave & 92nd St\"                                         \n",
              " [285] \"Elizabeth St & 47th St\"                                          \n",
              " [286] \"Elizabeth St & 59th St\"                                          \n",
              " [287] \"Elizabeth St & 92nd St\"                                          \n",
              " [288] \"Elizabeth St & Fulton St\"                                        \n",
              " [289] \"Elizabeth St & Randolph St\"                                      \n",
              " [290] \"Ellis Ave & 53rd St\"                                             \n",
              " [291] \"Ellis Ave & 55th St\"                                             \n",
              " [292] \"Ellis Ave & 58th St\"                                             \n",
              " [293] \"Ellis Ave & 60th St\"                                             \n",
              " [294] \"Ellis Ave & 83rd St\"                                             \n",
              " [295] \"Elmwood Ave & Austin St\"                                         \n",
              " [296] \"Elston Ave & Cortland St\"                                        \n",
              " [297] \"Elston Ave & George St\"                                          \n",
              " [298] \"Elston Ave & Henderson St\"                                       \n",
              " [299] \"Elston Ave & Wabansia Ave\"                                       \n",
              " [300] \"Emerald Ave & 28th St\"                                           \n",
              " [301] \"Emerald Ave & 31st St\"                                           \n",
              " [302] \"Evans Ave & 75th St\"                                             \n",
              " [303] \"Evanston Civic Center\"                                           \n",
              " [304] \"Ewing Ave & Burnham Greenway\"                                    \n",
              " [305] \"Exchange Ave & 79th St\"                                          \n",
              " [306] \"Fairbanks Ct & Grand Ave\"                                        \n",
              " [307] \"Fairbanks St & Superior St\"                                      \n",
              " [308] \"Fairfield Ave & 44th St\"                                         \n",
              " [309] \"Fairfield Ave & Pratt Blvd\"                                      \n",
              " [310] \"Fairfield Ave & Roosevelt Rd\"                                    \n",
              " [311] \"Federal St & Polk St\"                                            \n",
              " [312] \"Field Blvd & South Water St\"                                     \n",
              " [313] \"Field Museum\"                                                    \n",
              " [314] \"Financial Pl & Ida B Wells Dr\"                                   \n",
              " [315] \"Fort Dearborn Dr & 31st St\"                                      \n",
              " [316] \"Fort Dearborn Dr & 31st St*\"                                     \n",
              " [317] \"Francisco Ave & 47th St\"                                         \n",
              " [318] \"Francisco Ave & 85th St\"                                         \n",
              " [319] \"Francisco Ave & Bloomingdale Ave\"                                \n",
              " [320] \"Francisco Ave & Chicago Ave\"                                     \n",
              " [321] \"Francisco Ave & Foster Ave\"                                      \n",
              " [322] \"Francisco Ave & Hollywood Ave\"                                   \n",
              " [323] \"Francisco Ave & Montrose Ave\"                                    \n",
              " [324] \"Franklin St & Adams St (Temp)\"                                   \n",
              " [325] \"Franklin St & Chicago Ave\"                                       \n",
              " [326] \"Franklin St & Illinois St\"                                       \n",
              " [327] \"Franklin St & Jackson Blvd\"                                      \n",
              " [328] \"Franklin St & Lake St\"                                           \n",
              " [329] \"Franklin St & Monroe St\"                                         \n",
              " [330] \"Fullerton & Monitor\"                                             \n",
              " [331] \"Glenwood Ave & Morse Ave\"                                        \n",
              " [332] \"Glenwood Ave & Touhy Ave\"                                        \n",
              " [333] \"Green St & Madison St\"                                           \n",
              " [334] \"Green St & Randolph St*\"                                         \n",
              " [335] \"Green St & Washington Blvd\"                                      \n",
              " [336] \"Greenview Ave & Diversey Pkwy\"                                   \n",
              " [337] \"Greenview Ave & Fullerton Ave\"                                   \n",
              " [338] \"Greenview Ave & Jarvis Ave\"                                      \n",
              " [339] \"Greenwood Ave & 47th St\"                                         \n",
              " [340] \"Greenwood Ave & 79th St\"                                         \n",
              " [341] \"Greenwood Ave & 91st St\"                                         \n",
              " [342] \"Greenwood Ave & 97th St\"                                         \n",
              " [343] \"Hale Ave & 107th St\"                                             \n",
              " [344] \"Halsted St & 104th St\"                                           \n",
              " [345] \"Halsted St & 111th St\"                                           \n",
              " [346] \"Halsted St & 18th St\"                                            \n",
              " [347] \"Halsted St & 21st St\"                                            \n",
              " [348] \"Halsted St & 35th St\"                                            \n",
              " [349] \"Halsted St & 37th St\"                                            \n",
              " [350] \"Halsted St & 47th Pl\"                                            \n",
              " [351] \"Halsted St & 51st St\"                                            \n",
              " [352] \"Halsted St & 56th St\"                                            \n",
              " [353] \"Halsted St & 59th St\"                                            \n",
              " [354] \"Halsted St & 63rd St\"                                            \n",
              " [355] \"Halsted St & 69th St\"                                            \n",
              " [356] \"Halsted St & 73rd St\"                                            \n",
              " [357] \"Halsted St & 78th St\"                                            \n",
              " [358] \"Halsted St & 96th St\"                                            \n",
              " [359] \"Halsted St & Archer Ave\"                                         \n",
              " [360] \"Halsted St & Clybourn Ave\"                                       \n",
              " [361] \"Halsted St & Dickens Ave\"                                        \n",
              " [362] \"Halsted St & Fulton St\"                                          \n",
              " [363] \"Halsted St & Maxwell St\"                                         \n",
              " [364] \"Halsted St & North Branch St\"                                    \n",
              " [365] \"Halsted St & Polk St\"                                            \n",
              " [366] \"Halsted St & Roosevelt Rd\"                                       \n",
              " [367] \"Halsted St & Roscoe St\"                                          \n",
              " [368] \"Halsted St & Willow St\"                                          \n",
              " [369] \"Halsted St & Wrightwood Ave\"                                     \n",
              " [370] \"Hamlin Ave & 62nd Pl\"                                            \n",
              " [371] \"Hamlin Ave & Grand Ave\"                                          \n",
              " [372] \"Hampden Ct & Diversey Ave\"                                       \n",
              " [373] \"Harding Ave & 26th St\"                                           \n",
              " [374] \"Harlem & Irving Park\"                                            \n",
              " [375] \"Harlem Ave & Grace St\"                                           \n",
              " [376] \"Harper Ave & 59th St\"                                            \n",
              " [377] \"Hastings LWS\"                                                    \n",
              " [378] \"Hegewisch Metra Station\"                                         \n",
              " [379] \"Hermitage Ave & Polk St\"                                         \n",
              " [380] \"Homan Ave & 65th St\"                                             \n",
              " [381] \"Homan Ave & Fillmore St\"                                         \n",
              " [382] \"Homewood Ave & 115th St\"                                         \n",
              " [383] \"Honore St & Division St\"                                         \n",
              " [384] \"Houston Ave & 92nd St\"                                           \n",
              " [385] \"Hoyne Ave & 34th St\"                                             \n",
              " [386] \"Hoyne Ave & 47th St\"                                             \n",
              " [387] \"Hoyne Ave & Balmoral Ave\"                                        \n",
              " [388] \"Humboldt Blvd & Armitage Ave\"                                    \n",
              " [389] \"Indiana Ave & 103rd St\"                                          \n",
              " [390] \"Indiana Ave & 133rd St\"                                          \n",
              " [391] \"Indiana Ave & 26th St\"                                           \n",
              " [392] \"Indiana Ave & 31st St\"                                           \n",
              " [393] \"Indiana Ave & 40th St\"                                           \n",
              " [394] \"Indiana Ave & Roosevelt Rd\"                                      \n",
              " [395] \"Jefferson St & Monroe St\"                                        \n",
              " [396] \"Jeffery Blvd & 67th St\"                                          \n",
              " [397] \"Jeffery Blvd & 71st St\"                                          \n",
              " [398] \"Jeffery Blvd & 76th St\"                                          \n",
              " [399] \"Karlov Ave & Armitage Ave\"                                       \n",
              " [400] \"Karlov Ave & Lawrence Ave\"                                       \n",
              " [401] \"Karlov Ave & Madison St\"                                         \n",
              " [402] \"Kedzie Ave & 104th St\"                                           \n",
              " [403] \"Kedzie Ave & 110th St\"                                           \n",
              " [404] \"Kedzie Ave & 21st St\"                                            \n",
              " [405] \"Kedzie Ave & 24th St\"                                            \n",
              " [406] \"Kedzie Ave & 24th St (Temp)\"                                     \n",
              " [407] \"Kedzie Ave & 45th St\"                                            \n",
              " [408] \"Kedzie Ave & 48th Pl\"                                            \n",
              " [409] \"Kedzie Ave & 52nd St\"                                            \n",
              " [410] \"Kedzie Ave & 57th St\"                                            \n",
              " [411] \"Kedzie Ave & 66th Pl\"                                            \n",
              " [412] \"Kedzie Ave & 73rd St\"                                            \n",
              " [413] \"Kedzie Ave & 83rd St\"                                            \n",
              " [414] \"Kedzie Ave & Bryn Mawr Ave\"                                      \n",
              " [415] \"Kedzie Ave & Chicago Ave\"                                        \n",
              " [416] \"Kedzie Ave & Foster Ave\"                                         \n",
              " [417] \"Kedzie Ave & George St\"                                          \n",
              " [418] \"Kedzie Ave & Harrison St\"                                        \n",
              " [419] \"Kedzie Ave & Lake St\"                                            \n",
              " [420] \"Kedzie Ave & Leland Ave\"                                         \n",
              " [421] \"Kedzie Ave & Milwaukee Ave\"                                      \n",
              " [422] \"Kedzie Ave & Palmer Ct\"                                          \n",
              " [423] \"Kedzie Ave & Redfield Dr\"                                        \n",
              " [424] \"Kedzie Ave & Roosevelt Rd\"                                       \n",
              " [425] \"Keeler Ave & Carmen Ave\"                                         \n",
              " [426] \"Keeler Ave & Roosevelt Rd\"                                       \n",
              " [427] \"Kenneth Ave & 50th St\"                                           \n",
              " [428] \"Kenneth Ave & Lawrence Ave\"                                      \n",
              " [429] \"Kenosha & Wellington\"                                            \n",
              " [430] \"Kenosha Ave & Wellington Ave\"                                    \n",
              " [431] \"Kenton Ave & Madison St\"                                         \n",
              " [432] \"Keystone Ave & Fullerton Ave\"                                    \n",
              " [433] \"Keystone Ave & Montrose Ave\"                                     \n",
              " [434] \"Kilbourn & Belden\"                                               \n",
              " [435] \"Kilbourn & Roscoe\"                                               \n",
              " [436] \"Kilbourn Ave & Belden Ave\"                                       \n",
              " [437] \"Kilbourn Ave & Irving Park Rd\"                                   \n",
              " [438] \"Kilbourn Ave & Milwaukee Ave\"                                    \n",
              " [439] \"Kilbourn Ave & Roscoe St\"                                        \n",
              " [440] \"Kildare & Cermak\"                                                \n",
              " [441] \"Kildare Ave & 26th St\"                                           \n",
              " [442] \"Kildare Ave & 47th St\"                                           \n",
              " [443] \"Kildare Ave & 55th St\"                                           \n",
              " [444] \"Kildare Ave & 85th St\"                                           \n",
              " [445] \"Kildare Ave & Chicago Ave\"                                       \n",
              " [446] \"Kildare Ave & Division St\"                                       \n",
              " [447] \"Kildare Ave & Montrose Ave\"                                      \n",
              " [448] \"Kilpatrick Ave & Grand Ave\"                                      \n",
              " [449] \"Kilpatrick Ave & Parker Ave\"                                     \n",
              " [450] \"Kimball Ave & Belmont Ave\"                                       \n",
              " [451] \"Kimbark Ave & 53rd St\"                                           \n",
              " [452] \"Kingsbury St & Erie St\"                                          \n",
              " [453] \"Kingsbury St & Kinzie St\"                                        \n",
              " [454] \"Knox Ave & Montrose Ave\"                                         \n",
              " [455] \"Komensky Ave & 31st St\"                                          \n",
              " [456] \"Komensky Ave & 55th St\"                                          \n",
              " [457] \"Kosciuszko Park\"                                                 \n",
              " [458] \"Kostner Ave & 63rd St\"                                           \n",
              " [459] \"Kostner Ave & Adams St\"                                          \n",
              " [460] \"Kostner Ave & Belmont Ave\"                                       \n",
              " [461] \"Kostner Ave & Lake St\"                                           \n",
              " [462] \"Kostner Ave & Wrightwood Ave\"                                    \n",
              " [463] \"La Villita Park (Albany/30th)\"                                   \n",
              " [464] \"Laflin St & Cullerton St\"                                        \n",
              " [465] \"Lake Park Ave & 35th St\"                                         \n",
              " [466] \"Lake Park Ave & 47th St\"                                         \n",
              " [467] \"Lake Park Ave & 53rd St\"                                         \n",
              " [468] \"Lake Park Ave & 56th St\"                                         \n",
              " [469] \"Lakefront Trail & Bryn Mawr Ave\"                                 \n",
              " [470] \"Lakefront Trail & Wilson Ave\"                                    \n",
              " [471] \"Lakeview Ave & Fullerton Pkwy\"                                   \n",
              " [472] \"Lamon Ave & Armitage Ave\"                                        \n",
              " [473] \"Lamon Ave & Belmont Ave\"                                         \n",
              " [474] \"Lamon Ave & Chicago Ave\"                                         \n",
              " [475] \"Laramie Ave & Gladys Ave\"                                        \n",
              " [476] \"Laramie Ave & Kinzie St\"                                         \n",
              " [477] \"Laramie Ave & Madison St\"                                        \n",
              " [478] \"Larrabee St & Armitage Ave\"                                      \n",
              " [479] \"Larrabee St & Division St\"                                       \n",
              " [480] \"Larrabee St & Kingsbury St\"                                      \n",
              " [481] \"Larrabee St & Menomonee St\"                                      \n",
              " [482] \"Larrabee St & North Ave\"                                         \n",
              " [483] \"Larrabee St & Oak St\"                                            \n",
              " [484] \"Larrabee St & Webster Ave\"                                       \n",
              " [485] \"LaSalle Dr & Huron St\"                                           \n",
              " [486] \"LaSalle St & Adams St\"                                           \n",
              " [487] \"LaSalle St & Illinois St\"                                        \n",
              " [488] \"LaSalle St & Jackson Blvd\"                                       \n",
              " [489] \"LaSalle St & Washington St\"                                      \n",
              " [490] \"Latrobe Ave & Chicago Ave\"                                       \n",
              " [491] \"Lavergne & Fullerton\"                                            \n",
              " [492] \"Lavergne Ave & 46th St\"                                          \n",
              " [493] \"Lavergne Ave & Division St\"                                      \n",
              " [494] \"Lavergne Ave & Fullerton Ave\"                                    \n",
              " [495] \"Lawler Ave & 50th St\"                                            \n",
              " [496] \"Lawndale Ave & 111th St\"                                         \n",
              " [497] \"Lawndale Ave & 16th St\"                                          \n",
              " [498] \"Lawndale Ave & 30th St\"                                          \n",
              " [499] \"Leamington Ave & Hirsch St\"                                      \n",
              " [500] \"Leavitt St & Addison St\"                                         \n",
              " [501] \"Leavitt St & Archer Ave\"                                         \n",
              " [502] \"Leavitt St & Armitage Ave\"                                       \n",
              " [503] \"Leavitt St & Belmont Ave\"                                        \n",
              " [504] \"Leavitt St & Chicago Ave\"                                        \n",
              " [505] \"Leavitt St & Division St\"                                        \n",
              " [506] \"Leavitt St & Lawrence Ave\"                                       \n",
              " [507] \"Leavitt St & North Ave\"                                          \n",
              " [508] \"Leavitt St/North Ave\"                                            \n",
              " [509] \"Leclaire Ave & Belmont Ave\"                                      \n",
              " [510] \"Lexington & California Ave\"                                      \n",
              " [511] \"Lincoln Ave & Addison St\"                                        \n",
              " [512] \"Lincoln Ave & Balmoral Ave\"                                      \n",
              " [513] \"Lincoln Ave & Belle Plaine Ave\"                                  \n",
              " [514] \"Lincoln Ave & Belmont Ave (Temp)\"                                \n",
              " [515] \"Lincoln Ave & Byron St\"                                          \n",
              " [516] \"Lincoln Ave & Diversey Pkwy\"                                     \n",
              " [517] \"Lincoln Ave & Fullerton Ave\"                                     \n",
              " [518] \"Lincoln Ave & Melrose St\"                                        \n",
              " [519] \"Lincoln Ave & Peterson Ave\"                                      \n",
              " [520] \"Lincoln Ave & Roscoe St*\"                                        \n",
              " [521] \"Lincoln Ave & Sunnyside Ave\"                                     \n",
              " [522] \"Lincoln Ave & Waveland Ave\"                                      \n",
              " [523] \"Lincoln Ave & Winona St\"                                         \n",
              " [524] \"Lincoln Park Conservatory\"                                       \n",
              " [525] \"Lincolnwood Dr & Central St\"                                     \n",
              " [526] \"Lockwood Ave & Wrightwood Ave\"                                   \n",
              " [527] \"Logan Blvd & Elston Ave\"                                         \n",
              " [528] \"Long & Irving Park\"                                              \n",
              " [529] \"Long Ave & Belden Ave\"                                           \n",
              " [530] \"Long Ave & Belmont Ave\"                                          \n",
              " [531] \"Long Ave & North Ave\"                                            \n",
              " [532] \"Loomis Blvd & 84th St\"                                           \n",
              " [533] \"Loomis St & 89th St\"                                             \n",
              " [534] \"Loomis St & Archer Ave\"                                          \n",
              " [535] \"Loomis St & Jackson Blvd\"                                        \n",
              " [536] \"Loomis St & Lexington St\"                                        \n",
              " [537] \"Lowell Ave & Armitage\"                                           \n",
              " [538] \"Major Ave & Bloomingdale Ave\"                                    \n",
              " [539] \"Major Taylor Trail & 115th St\"                                   \n",
              " [540] \"Major Taylor Trail & 124th St\"                                   \n",
              " [541] \"Malcolm X College\"                                               \n",
              " [542] \"Mango Ave & Diversey Ave\"                                        \n",
              " [543] \"Manor Ave & Leland Ave\"                                          \n",
              " [544] \"Maplewood Ave & 59th St\"                                         \n",
              " [545] \"Maplewood Ave & Peterson Ave\"                                    \n",
              " [546] \"Marine Dr & Ainslie St\"                                          \n",
              " [547] \"Marquette Ave & 89th St\"                                         \n",
              " [548] \"Marshfield Ave & 44th St\"                                        \n",
              " [549] \"Marshfield Ave & 59th St\"                                        \n",
              " [550] \"Martin Luther King Dr & 111th St\"                                \n",
              " [551] \"Maryland Ave & 104th St\"                                         \n",
              " [552] \"Mason Ave & Belmont Ave\"                                         \n",
              " [553] \"May St & 69th St\"                                                \n",
              " [554] \"May St & Cullerton St\"                                           \n",
              " [555] \"May St & Taylor St\"                                              \n",
              " [556] \"Mayfield & Roosevelt Rd\"                                         \n",
              " [557] \"McClurg Ct & Erie St\"                                            \n",
              " [558] \"McClurg Ct & Ohio St\"                                            \n",
              " [559] \"McCormick Blvd & Devon Ave\"                                      \n",
              " [560] \"McCormick Place\"                                                 \n",
              " [561] \"Meade Ave & Addison St\"                                          \n",
              " [562] \"Meade Ave & Diversey Ave\"                                        \n",
              " [563] \"Menard Ave & Division St\"                                        \n",
              " [564] \"Menard Ave & North Ave\"                                          \n",
              " [565] \"Michigan Ave & 114th St\"                                         \n",
              " [566] \"Michigan Ave & 14th St\"                                          \n",
              " [567] \"Michigan Ave & 18th St\"                                          \n",
              " [568] \"Michigan Ave & 71st St\"                                          \n",
              " [569] \"Michigan Ave & 8th St\"                                           \n",
              " [570] \"Michigan Ave & Ida B Wells Dr\"                                   \n",
              " [571] \"Michigan Ave & Jackson Blvd\"                                     \n",
              " [572] \"Michigan Ave & Lake St\"                                          \n",
              " [573] \"Michigan Ave & Madison St\"                                       \n",
              " [574] \"Michigan Ave & Oak St\"                                           \n",
              " [575] \"Michigan Ave & Pearson St\"                                       \n",
              " [576] \"Michigan Ave & Washington St\"                                    \n",
              " [577] \"Mies van der Rohe Way & Chestnut St\"                             \n",
              " [578] \"Mies van der Rohe Way & Chicago Ave\"                             \n",
              " [579] \"Millard Ave & 26th St\"                                           \n",
              " [580] \"Millennium Park\"                                                 \n",
              " [581] \"Milwaukee Ave & Cuyler Ave\"                                      \n",
              " [582] \"Milwaukee Ave & Fullerton Ave\"                                   \n",
              " [583] \"Milwaukee Ave & Grand Ave\"                                       \n",
              " [584] \"Milwaukee Ave & Rockwell St\"                                     \n",
              " [585] \"Milwaukee Ave & Wabansia Ave\"                                    \n",
              " [586] \"MLK Jr Dr & 29th St\"                                             \n",
              " [587] \"MLK Jr Dr & 47th St\"                                             \n",
              " [588] \"MLK Jr Dr & 56th St\"                                             \n",
              " [589] \"MLK Jr Dr & 63rd St\"                                             \n",
              " [590] \"MLK Jr Dr & 83rd St\"                                             \n",
              " [591] \"MLK Jr Dr & Pershing Rd\"                                         \n",
              " [592] \"Monticello Ave & Chicago Ave\"                                    \n",
              " [593] \"Monticello Ave & Irving Park Rd\"                                 \n",
              " [594] \"Monticello Ave & Lawrence Ave\"                                   \n",
              " [595] \"Montrose Harbor\"                                                 \n",
              " [596] \"Morgan Ave & 14th Pl\"                                            \n",
              " [597] \"Morgan St & 18th St\"                                             \n",
              " [598] \"Morgan St & 31st St\"                                             \n",
              " [599] \"Morgan St & Lake St*\"                                            \n",
              " [600] \"Morgan St & Pershing Rd\"                                         \n",
              " [601] \"Morgan St & Polk St\"                                             \n",
              " [602] \"Mozart St & 79th St\"                                             \n",
              " [603] \"Mozart St & Jackson Blvd\"                                        \n",
              " [604] \"MTV Hubbard St\"                                                  \n",
              " [605] \"Mulligan Ave & Wellington Ave\"                                   \n",
              " [606] \"Museum of Science and Industry\"                                  \n",
              " [607] \"N Carpenter St & W Lake St\"                                      \n",
              " [608] \"N Clark St & W Elm St\"                                           \n",
              " [609] \"N Damen Ave & W Chicago Ave\"                                     \n",
              " [610] \"N Green St & W Lake St\"                                          \n",
              " [611] \"N Paulina St & Lincoln Ave\"                                      \n",
              " [612] \"N Sheffield Ave & W Wellington Ave\"                              \n",
              " [613] \"N Shore Channel Trail & Argyle St\"                               \n",
              " [614] \"N Southport Ave & W Newport Ave\"                                 \n",
              " [615] \"Narragansett & Irving Park\"                                      \n",
              " [616] \"Narragansett & McLean\"                                           \n",
              " [617] \"Narragansett & Wrightwood\"                                       \n",
              " [618] \"Narragansett Ave & School St\"                                    \n",
              " [619] \"New St & Illinois St\"                                            \n",
              " [620] \"Noble St & Milwaukee Ave\"                                        \n",
              " [621] \"Noble St & Milwaukee Ave (Temp)\"                                 \n",
              " [622] \"Nordica & Medill\"                                                \n",
              " [623] \"Normal Ave & Archer Ave\"                                         \n",
              " [624] \"North Ave & New England Ave\"                                     \n",
              " [625] \"Oak Park & Wellington\"                                           \n",
              " [626] \"Oakley Ave & Irving Park Rd\"                                     \n",
              " [627] \"Oakley Ave & Touhy Ave\"                                          \n",
              " [628] \"Ogden Ave & Chicago Ave\"                                         \n",
              " [629] \"Ogden Ave & Congress Pkwy\"                                       \n",
              " [630] \"Ogden Ave & Race Ave\"                                            \n",
              " [631] \"Ogden Ave & Roosevelt Rd\"                                        \n",
              " [632] \"Oglesby Ave & 100th St\"                                          \n",
              " [633] \"OH - BONFIRE - TESTING\"                                          \n",
              " [634] \"OH Charging Stx - Test\"                                          \n",
              " [635] \"Oketo Ave & Addison St\"                                          \n",
              " [636] \"Olive Harvey College\"                                            \n",
              " [637] \"Orange & Addison\"                                                \n",
              " [638] \"Orleans St & Chestnut St (NEXT Apts)\"                            \n",
              " [639] \"Orleans St & Elm St\"                                             \n",
              " [640] \"Orleans St & Hubbard St\"                                         \n",
              " [641] \"Orleans St & Merchandise Mart Plaza\"                             \n",
              " [642] \"Panama Ave & Grace St\"                                           \n",
              " [643] \"Parkside Ave & Armitage Ave\"                                     \n",
              " [644] \"Paulina Ave & 87th St\"                                           \n",
              " [645] \"Paulina Ave & North Ave\"                                         \n",
              " [646] \"Paulina St & 18th St\"                                            \n",
              " [647] \"Paulina St & Flournoy St\"                                        \n",
              " [648] \"Paulina St & Howard St\"                                          \n",
              " [649] \"Paulina St & Montrose Ave\"                                       \n",
              " [650] \"Peoria St & Jackson Blvd\"                                        \n",
              " [651] \"Perry Ave & 69th St\"                                             \n",
              " [652] \"Phillips Ave & 79th St\"                                          \n",
              " [653] \"Phillips Ave & 83rd St\"                                          \n",
              " [654] \"Pine Grove Ave & Irving Park Rd\"                                 \n",
              " [655] \"Pine Grove Ave & Waveland Ave\"                                   \n",
              " [656] \"Ping Tom Park (East)\"                                            \n",
              " [657] \"Plainfield & Irving Park\"                                        \n",
              " [658] \"Prairie Ave & 43rd St\"                                           \n",
              " [659] \"Prairie Ave & Garfield Blvd\"                                     \n",
              " [660] \"Princeton Ave & 47th St\"                                         \n",
              " [661] \"Princeton Ave & Garfield Blvd\"                                   \n",
              " [662] \"Prospect Sq & 91st St\"                                           \n",
              " [663] \"Public Rack - 10101 S Stony Island Ave\"                          \n",
              " [664] \"Public Rack - 10557 S Western Ave\"                               \n",
              " [665] \"Public Rack - 111th St - Morgan Park Metra\"                      \n",
              " [666] \"Public Rack - 2302 S Pulaski Rd\"                                 \n",
              " [667] \"Public Rack - 4810 Keeler Ave\"                                   \n",
              " [668] \"Public Rack - 532 E 43rd St\"                                     \n",
              " [669] \"Public Rack - 53rd St & Indiana Ave\"                             \n",
              " [670] \"Public Rack - 56th St & Mulligan Ave\"                            \n",
              " [671] \"Public Rack - 61st St & Melvina Ave\"                             \n",
              " [672] \"Public Rack - 63rd & Western Ave N\"                              \n",
              " [673] \"Public Rack - 63rd & Western Ave S\"                              \n",
              " [674] \"Public Rack - 63rd Pl & Narraganssett Ave\"                       \n",
              " [675] \"Public Rack - 63rd St and Nagle Ave\"                             \n",
              " [676] \"Public Rack - 63rd St and Natoma Ave\"                            \n",
              " [677] \"Public Rack - 82nd st & Kedzie Ave\"                              \n",
              " [678] \"Public Rack - 83rd Pl & Kedzie Ave N\"                            \n",
              " [679] \"Public Rack - 83rd St (Avalon Park) Metra\"                       \n",
              " [680] \"Public Rack - 85th Pl & Pulaski Rd\"                              \n",
              " [681] \"Public Rack - Abbott Park\"                                       \n",
              " [682] \"Public Rack - Ada St & 119th St\"                                 \n",
              " [683] \"Public Rack - Ada St & 95th St\"                                  \n",
              " [684] \"Public Rack - Aida Food Market\"                                  \n",
              " [685] \"Public Rack - Al Raby School\"                                    \n",
              " [686] \"Public Rack - Albany Ave & 111th St - NW\"                        \n",
              " [687] \"Public Rack - Albany Ave & 63rd St\"                              \n",
              " [688] \"Public Rack - Archer Park\"                                       \n",
              " [689] \"Public Rack - Artesian & 71st\"                                   \n",
              " [690] \"Public Rack - Ashburn Metra \"                                    \n",
              " [691] \"Public Rack - Ashland Ave & 45th St  S\"                          \n",
              " [692] \"Public Rack - Ashland Ave & 46th St\"                             \n",
              " [693] \"Public Rack - Ashland Ave & 63rd St\"                             \n",
              " [694] \"Public Rack - Ashland Ave & 71st St\"                             \n",
              " [695] \"Public Rack - Ashland Ave & 73rd St\"                             \n",
              " [696] \"Public Rack - Ashland Ave & 74th St\"                             \n",
              " [697] \"Public Rack - Ashland Ave & 76th St\"                             \n",
              " [698] \"Public Rack - Ashland Ave & 83rd St\"                             \n",
              " [699] \"Public Rack - Ashland Ave & 91st St\"                             \n",
              " [700] \"Public Rack - Austin & 62nd\"                                     \n",
              " [701] \"Public Rack - Austin & Higgins\"                                  \n",
              " [702] \"Public Rack - Austin Ave & Archer Ave\"                           \n",
              " [703] \"Public Rack - Austin Ave & Roscoe St\"                            \n",
              " [704] \"Public Rack - Austin Ave & Wellington Ave\"                       \n",
              " [705] \"Public Rack - Austin Ave & Wrightwood Ave\"                       \n",
              " [706] \"Public Rack - Austin Blvd & North Ave\"                           \n",
              " [707] \"Public Rack - Austin Branch Chicago Public Library\"              \n",
              " [708] \"Public Rack - Ave N & 106th St\"                                  \n",
              " [709] \"Public Rack - Avenue J & 102nd St\"                               \n",
              " [710] \"Public Rack - Avenue J & 106th St\"                               \n",
              " [711] \"Public Rack - Avenue M & 132nd St\"                               \n",
              " [712] \"Public Rack - Avers & Granville\"                                 \n",
              " [713] \"Public Rack - Avers & Lawrence\"                                  \n",
              " [714] \"Public Rack - Avers Ave & Archer Ave\"                            \n",
              " [715] \"Public Rack - Avers Ave & Irving Park Rd\"                        \n",
              " [716] \"Public Rack - Avers Ave & Ogden Ave\"                             \n",
              " [717] \"Public Rack - Avondale Ave & Addison St\"                         \n",
              " [718] \"Public Rack - Back of the Yards Park\"                            \n",
              " [719] \"Public Rack - Baltimore Ave & 132nd St\"                          \n",
              " [720] \"Public Rack - Baltimore Ave & 133rd St\"                          \n",
              " [721] \"Public Rack - Baltimore Ave & 134th St\"                          \n",
              " [722] \"Public Rack - Bell Ave & 95th St\"                                \n",
              " [723] \"Public Rack - Bernard St & Foster Ave\"                           \n",
              " [724] \"Public Rack - Bishop St & 46th St\"                               \n",
              " [725] \"Public Rack - Brainerd Park\"                                     \n",
              " [726] \"Public Rack - Brandon Ave & 91st St\"                             \n",
              " [727] \"Public Rack - Brighton Park Branch Chicago Library\"              \n",
              " [728] \"Public Rack - Brooks Park\"                                       \n",
              " [729] \"Public Rack - Bryn Mawr Ave & Milwaukee Ave\"                     \n",
              " [730] \"Public Rack - Bryn Mawr Ave & Spaulding Ave\"                     \n",
              " [731] \"Public Rack - Buffalo Ave & 89th St\"                             \n",
              " [732] \"Public Rack - California & 71st\"                                 \n",
              " [733] \"Public Rack - California & 82nd\"                                 \n",
              " [734] \"Public Rack - California & 87th\"                                 \n",
              " [735] \"Public Rack - California Ave & Cortez St\"                        \n",
              " [736] \"Public Rack - California Ave & Devon Ave - NE\"                   \n",
              " [737] \"Public Rack - California Ave & Devon Ave - NW\"                   \n",
              " [738] \"Public Rack - California Ave & Marquette Rd\"                     \n",
              " [739] \"Public Rack - California Ave & Ogden Ave\"                        \n",
              " [740] \"Public Rack - California Ave & Pershing Rd\"                      \n",
              " [741] \"Public Rack - California Ave & Touhy Ave - midblock\"             \n",
              " [742] \"Public Rack - California Ave & Touhy Ave - NW\"                   \n",
              " [743] \"Public Rack - California Ave & Touhy Ave - SW\"                   \n",
              " [744] \"Public Rack - Calumet Ave & 103rd St\"                            \n",
              " [745] \"Public Rack - Calumet Ave & 133rd St\"                            \n",
              " [746] \"Public Rack - Calumet Ave & 51st St\"                             \n",
              " [747] \"Public Rack - Calumet Ave & 71st St\"                             \n",
              " [748] \"Public Rack - Campbell Ave & Pratt Blvd\"                         \n",
              " [749] \"Public Rack - Canfield & Victoria\"                               \n",
              " [750] \"Public Rack - Canty Elementary School\"                           \n",
              " [751] \"Public Rack - Central & Berteau\"                                 \n",
              " [752] \"Public Rack - Central & Leland\"                                  \n",
              " [753] \"Public Rack - Central & Prescott\"                                \n",
              " [754] \"Public Rack - Central Ave & Adams St\"                            \n",
              " [755] \"Public Rack - Central Ave & Congress Pkwy\"                       \n",
              " [756] \"Public Rack - Central Ave & Corcoran Pl\"                         \n",
              " [757] \"Public Rack - Central Ave & George St\"                           \n",
              " [758] \"Public Rack - Central Ave & Lawrence Ave\"                        \n",
              " [759] \"Public Rack - Central Ave & North Ave\"                           \n",
              " [760] \"Public Rack - Central Ave & Pensacola Ave\"                       \n",
              " [761] \"Public Rack - Central Park & Bryn Mawr\"                          \n",
              " [762] \"Public Rack - Central Park & Peterson\"                           \n",
              " [763] \"Public Rack - Central Park Ave & 16th St\"                        \n",
              " [764] \"Public Rack - Central Park Ave & Fillmore St\"                    \n",
              " [765] \"Public Rack - Central Park Ave & Fulton Blvd\"                    \n",
              " [766] \"Public Rack - Central Park Ave & Ogden Ave\"                      \n",
              " [767] \"Public Rack - Champlain Ave & 134th St\"                          \n",
              " [768] \"Public Rack - Champlain Ave & 65th St\"                           \n",
              " [769] \"Public Rack - Chappel Ave & 71st St\"                             \n",
              " [770] \"Public Rack - Chase Ave & Touhy Ave - NE\"                        \n",
              " [771] \"Public Rack - Chase Ave & Touhy Ave - NW\"                        \n",
              " [772] \"Public Rack - Chopin Park\"                                       \n",
              " [773] \"Public Rack - Christiana & Lincoln\"                              \n",
              " [774] \"Public Rack - Christiana Ave & Archer Ave\"                       \n",
              " [775] \"Public Rack - Christiana Ave & Belmont Ave\"                      \n",
              " [776] \"Public Rack - Christiana Ave & Bryn Mawr Ave\"                    \n",
              " [777] \"Public Rack - Christiana Ave & Lawrence Ave\"                     \n",
              " [778] \"Public Rack - Cicero & 64th\"                                     \n",
              " [779] \"Public Rack - Cicero & Rosemont\"                                 \n",
              " [780] \"Public Rack - Cicero Ave & Altgeld St\"                           \n",
              " [781] \"Public Rack - Cicero Ave & Belle Plaine Ave\"                     \n",
              " [782] \"Public Rack - Cicero Ave & Cortland St - midblock\"               \n",
              " [783] \"Public Rack - Cicero Ave & Le Moyne St - midblock\"               \n",
              " [784] \"Public Rack - Cicero Ave & North Ave\"                            \n",
              " [785] \"Public Rack - Cicero Ave & Roscoe St\"                            \n",
              " [786] \"Public Rack - Cicero Ave & Wellington Ave\"                       \n",
              " [787] \"Public Rack - Cicero Ave & Wrightwood Ave\"                       \n",
              " [788] \"Public Rack - Claremont Ave & 71st St\"                           \n",
              " [789] \"Public Rack - Clyde Ave & 87th St\"                               \n",
              " [790] \"Public Rack - Colfax Ave & 83rd St\"                              \n",
              " [791] \"Public Rack - Columbus & 79th\"                                   \n",
              " [792] \"Public Rack - Commercial Ave & 89th St\"                          \n",
              " [793] \"Public Rack - Cornell Ave & 87th Pl\"                             \n",
              " [794] \"Public Rack - Cottage Grove & 84th St\"                           \n",
              " [795] \"Public Rack - Cottage Grove & 85th St\"                           \n",
              " [796] \"Public Rack - Cottage Grove & 86th St\"                           \n",
              " [797] \"Public Rack - Cottage Grove Ave & 111th St\"                      \n",
              " [798] \"Public Rack - Cottage Grove Ave & 75th St\"                       \n",
              " [799] \"Public Rack - Cottage Grove Ave & 87th St\"                       \n",
              " [800] \"Public Rack - Cottage Grove Ave & 91st St\"                       \n",
              " [801] \"Public Rack - Cottage Grove Ave & 92nd St\"                       \n",
              " [802] \"Public Rack - Cottage Grove Ave & 98th St\"                       \n",
              " [803] \"Public Rack - Cumberland & Catherine\"                            \n",
              " [804] \"Public Rack - Damen & 81st\"                                      \n",
              " [805] \"Public Rack - Damen & 87th\"                                      \n",
              " [806] \"Public Rack - Damen Ave & 47th St\"                               \n",
              " [807] \"Public Rack - Damen Ave & 80th St\"                               \n",
              " [808] \"Public Rack - Damen Ave & 84th St\"                               \n",
              " [809] \"Public Rack - Delphina & Foster\"                                 \n",
              " [810] \"Public Rack - Devon Ave & Central Ave\"                           \n",
              " [811] \"Public Rack - Devon Ave & Kinzua Ave\"                            \n",
              " [812] \"Public Rack - Devon Ave & Minnehaha Ave (east)\"                  \n",
              " [813] \"Public Rack - Division St & Christiana Ave\"                      \n",
              " [814] \"Public Rack - Drake Ave & Leland Ave\"                            \n",
              " [815] \"Public Rack - East End Ave & 75th St\"                            \n",
              " [816] \"Public Rack - East End Ave & 87th St\"                            \n",
              " [817] \"Public Rack - Eberhart Ave & 61st St\"                            \n",
              " [818] \"Public Rack - Eggleston Ave & 115th St\"                          \n",
              " [819] \"Public Rack - Eli Whitney Public School\"                         \n",
              " [820] \"Public Rack - Elizabeth St & 115th St\"                           \n",
              " [821] \"Public Rack - Ellis Ave & 132nd Pl\"                              \n",
              " [822] \"Public Rack - Ellis Ave & Doty Ave\"                              \n",
              " [823] \"Public Rack - Elston Ave & Gunnison St\"                          \n",
              " [824] \"Public Rack - Elston Ave & Kenneth Ave\"                          \n",
              " [825] \"Public Rack - Emerald Ave & 43rd St\"                             \n",
              " [826] \"Public Rack - Emerald Ave & 45th St\"                             \n",
              " [827] \"Public Rack - Evans Ave & 63rd St\"                               \n",
              " [828] \"Public Rack - Ewing Ave & 101st St\"                              \n",
              " [829] \"Public Rack - Ewing Ave & 102nd St\"                              \n",
              " [830] \"Public Rack - Ewing Ave & 105th St\"                              \n",
              " [831] \"Public Rack - Ewing Ave & 106th St\"                              \n",
              " [832] \"Public Rack - Ewing Ave & 106th St NW\"                           \n",
              " [833] \"Public Rack - Ewing Ave & 107th St\"                              \n",
              " [834] \"Public Rack - Ewing Ave & 95th St\"                               \n",
              " [835] \"Public Rack - Ewing Ave & 96th St N\"                             \n",
              " [836] \"Public Rack - Ewing Ave & 96th St S\"                             \n",
              " [837] \"Public Rack - Ewing Ave & 99th St\"                               \n",
              " [838] \"Public Rack - Ewing Ave & Indianapolis Ave\"                      \n",
              " [839] \"Public Rack - Exchange Ave & 73rd Pl\"                            \n",
              " [840] \"Public Rack - Fairfield Ave & 63rd St\"                           \n",
              " [841] \"Public Rack - Ford City Mall\"                                    \n",
              " [842] \"Public Rack - Forest Glen & Peterson\"                            \n",
              " [843] \"Public Rack - Forest Glen Station \"                              \n",
              " [844] \"Public Rack - Forrestville Ave & 47th St\"                        \n",
              " [845] \"Public Rack - Foster Ave & Drake Ave\"                            \n",
              " [846] \"Public Rack - Francisco Ave & Touhy Ave\"                         \n",
              " [847] \"Public Rack - Fullerton Ave & Lavergne Ave\"                      \n",
              " [848] \"Public Rack - Fullerton Ave & Narragansett Ave\"                  \n",
              " [849] \"Public Rack - Garfield Park Conservatory\"                        \n",
              " [850] \"Public Rack - Grand Ave & North Ave\"                             \n",
              " [851] \"Public Rack - Greenwood Ave & Lake Park Ave\"                     \n",
              " [852] \"Public Rack - Haft Ave & Milwaukee Ave\"                          \n",
              " [853] \"Public Rack - Hale Ave & 111th St\"                               \n",
              " [854] \"Public Rack - Halsted St & 102nd St\"                             \n",
              " [855] \"Public Rack - Halsted St & 109th St\"                             \n",
              " [856] \"Public Rack - Halsted St & 111th St\"                             \n",
              " [857] \"Public Rack - Halsted St & 113th St\"                             \n",
              " [858] \"Public Rack - Halsted St & 41st St\"                              \n",
              " [859] \"Public Rack - Halsted St & 63rd St\"                              \n",
              " [860] \"Public Rack - Halsted St & 64th St\"                              \n",
              " [861] \"Public Rack - Halsted St & 76th St\"                              \n",
              " [862] \"Public Rack - Halsted St & 80th St\"                              \n",
              " [863] \"Public Rack - Halsted St & 95th St - SE\"                         \n",
              " [864] \"Public Rack - Halsted St & 95th St - SW\"                         \n",
              " [865] \"Public Rack - Hamilton Ave & 95th St\"                            \n",
              " [866] \"Public Rack - Hamilton Park\"                                     \n",
              " [867] \"Public Rack - Hamlin Ave & Fullerton Ave\"                        \n",
              " [868] \"Public Rack - Hamlin Ave & Grand Ave\"                            \n",
              " [869] \"Public Rack - Hamlin Ave & Madison St\"                           \n",
              " [870] \"Public Rack - Hamlin Ave & Montrose Ave\"                         \n",
              " [871] \"Public Rack - Harding Ave & 47th St\"                             \n",
              " [872] \"Public Rack - Harlem & Palatine\"                                 \n",
              " [873] \"Public Rack - Harlem & Summerdale\"                               \n",
              " [874] \"Public Rack - Harlem and W. 59th\"                                \n",
              " [875] \"Public Rack - Harold Washington Park\"                            \n",
              " [876] \"Public Rack - Harper Ave & 63rd St\"                              \n",
              " [877] \"Public Rack - Harriet E Sayre Public School\"                     \n",
              " [878] \"Public Rack - Harvard Ave & 119th St\"                            \n",
              " [879] \"Public Rack - Harvey Ave & North Ave\"                            \n",
              " [880] \"Public Rack - Hermitage & 83rd St\"                               \n",
              " [881] \"Public Rack - Hiawatha & Mendota\"                                \n",
              " [882] \"Public Rack - Hiawatha Ave & Minnehaha Ave\"                      \n",
              " [883] \"Public Rack - Hiawatha Park\"                                     \n",
              " [884] \"Public Rack - Higgins Ave & Neva Ave\"                            \n",
              " [885] \"Public Rack - Holbrook St & Milwaukee Ave\"                       \n",
              " [886] \"Public Rack - Hollywood Park\"                                    \n",
              " [887] \"Public Rack - Homan & 77th\"                                      \n",
              " [888] \"Public Rack - Homan & 79th\"                                      \n",
              " [889] \"Public Rack - Homan Ave & 26th St\"                               \n",
              " [890] \"Public Rack - Homan Ave & 62nd Pl\"                               \n",
              " [891] \"Public Rack - Homan Ave & Lake St\"                               \n",
              " [892] \"Public Rack - Homan Ave & Roosevelt\"                             \n",
              " [893] \"Public Rack - Honore St & 87th St\"                               \n",
              " [894] \"Public Rack - Honore St & 87th St - SE\"                          \n",
              " [895] \"Public Rack - Horner & 85th\"                                     \n",
              " [896] \"Public Rack - Houston Ave & 130th St\"                            \n",
              " [897] \"Public Rack - Houston Ave & 131st St\"                            \n",
              " [898] \"Public Rack - Houston Ave & 91st St\"                             \n",
              " [899] \"Public Rack - Hoyne Ave & 110th Pl\"                              \n",
              " [900] \"Public Rack - Hoyne Ave & 51st St\"                               \n",
              " [901] \"Public Rack - Hyde Park Blvd & 53rd St\"                          \n",
              " [902] \"Public Rack - Hyde Park Blvd & 55th St\"                          \n",
              " [903] \"Public Rack - Imlay & Milwaukee\"                                 \n",
              " [904] \"Public Rack - Independence Blvd & Roosevelt\"                     \n",
              " [905] \"Public Rack - Indiana Ave & 111th St\"                            \n",
              " [906] \"Public Rack - Irving Park Rd & Austin Ave\"                       \n",
              " [907] \"Public Rack - Irving Park Rd & Leclaire Ave\"                     \n",
              " [908] \"Public Rack - Irving Park Rd & Melvina Ave\"                      \n",
              " [909] \"Public Rack - Irving Park Rd & Menard Ave\"                       \n",
              " [910] \"Public Rack - Irving Park Rd & Parkside Ave\"                     \n",
              " [911] \"Public Rack - James Madison School\"                              \n",
              " [912] \"Public Rack - Jeffery Blvd & 67th St\"                            \n",
              " [913] \"Public Rack - Jeffery Blvd & 83rd St\"                            \n",
              " [914] \"Public Rack - Jeffrey Blvd & 71st St\"                            \n",
              " [915] \"Public Rack - Jensen Park\"                                       \n",
              " [916] \"Public Rack - Jonathan Y Scammon Public School\"                  \n",
              " [917] \"Public Rack - Justine St & 87th St\"                              \n",
              " [918] \"Public Rack - Karlov Ave & 26th St\"                              \n",
              " [919] \"Public Rack - Karlov Ave & Kamerling Ave\"                        \n",
              " [920] \"Public Rack - Karlov Ave & Lawrence Ave\"                         \n",
              " [921] \"Public Rack - Karlov Ave & Milwaukee Ave\"                        \n",
              " [922] \"Public Rack - Keating & Peterson\"                                \n",
              " [923] \"Public Rack - Kedvale Ave & 26th St\"                             \n",
              " [924] \"Public Rack - Kedvale Ave & 63rd St E\"                           \n",
              " [925] \"Public Rack - Kedvale Ave & 63rd St W\"                           \n",
              " [926] \"Public Rack - Kedvale Ave & Addison St\"                          \n",
              " [927] \"Public Rack - Kedvale Ave & Avondale Ave\"                        \n",
              " [928] \"Public Rack - Kedvale Ave & Peterson Ave\"                        \n",
              " [929] \"Public Rack - Kedzie & 103rd St - W\"                             \n",
              " [930] \"Public Rack - Kedzie & 71st\"                                     \n",
              " [931] \"Public Rack - Kedzie & 73rd\"                                     \n",
              " [932] \"Public Rack - Kedzie Ave & 54th Pl\"                              \n",
              " [933] \"Public Rack - Kedzie Ave & 54th St - SE\"                         \n",
              " [934] \"Public Rack - Kedzie Ave & 54th St - SW\"                         \n",
              " [935] \"Public Rack - Kedzie Ave & 58th St\"                              \n",
              " [936] \"Public Rack - Kedzie Ave & 60th St\"                              \n",
              " [937] \"Public Rack - Kedzie Ave & 61st Pl E\"                            \n",
              " [938] \"Public Rack - Kedzie Ave & 61st Pl W\"                            \n",
              " [939] \"Public Rack - Kedzie Ave & 62nd Pl\"                              \n",
              " [940] \"Public Rack - Kedzie Ave & 63rd St\"                              \n",
              " [941] \"Public Rack - Kedzie Ave & 64th St - SE\"                         \n",
              " [942] \"Public Rack - Kedzie Ave & 64th St - SW\"                         \n",
              " [943] \"Public Rack - Kedzie Ave & 83rd St\"                              \n",
              " [944] \"Public Rack - Kedzie Ave & Archer Ave\"                           \n",
              " [945] \"Public Rack - Kedzie Ave & Argyle St\"                            \n",
              " [946] \"Public Rack - Kedzie Ave & Arthington St\"                        \n",
              " [947] \"Public Rack - Kedzie Ave & Chicago Ave\"                          \n",
              " [948] \"Public Rack - Kedzie Ave & Pershing Rd\"                          \n",
              " [949] \"Public Rack - Kedzie Ave & Walnut St\"                            \n",
              " [950] \"Public Rack - Keef Ave & South Chicago Ave\"                      \n",
              " [951] \"Public Rack - Keeler Ave & 26th St\"                              \n",
              " [952] \"Public Rack - Keeler Ave & 55th St\"                              \n",
              " [953] \"Public Rack - Kenneth & Carmen\"                                  \n",
              " [954] \"Public Rack - Kenneth Ave & 63rd St E\"                           \n",
              " [955] \"Public Rack - Kenneth Ave & 63rd St W\"                           \n",
              " [956] \"Public Rack - Kenton & Lawrence\"                                 \n",
              " [957] \"Public Rack - Kenton Ave & Palmer St\"                            \n",
              " [958] \"Public Rack - Keystone Ave & Irving Park Rd\"                     \n",
              " [959] \"Public Rack - Keystone Ave & North Ave\"                          \n",
              " [960] \"Public Rack - Kilbourn Ave & Fullerton Ave\"                      \n",
              " [961] \"Public Rack - Kildare Ave & 63rd St\"                             \n",
              " [962] \"Public Rack - Kildare Ave & Division Ave\"                        \n",
              " [963] \"Public Rack - Kildare Ave & North Ave\"                           \n",
              " [964] \"Public Rack - Kildare Ave & Washignton Blvd\"                     \n",
              " [965] \"Public Rack - Kilpatrick & Elston\"                               \n",
              " [966] \"Public Rack - Kimball & Ardmore\"                                 \n",
              " [967] \"Public Rack - Kimball Ave & Carmen Ave\"                          \n",
              " [968] \"Public Rack - Kimball Ave & Lawrence Ave\"                        \n",
              " [969] \"Public Rack - Kimbark Ave & 63rd St\"                             \n",
              " [970] \"Public Rack - Kimbark Ave & 67th St\"                             \n",
              " [971] \"Public Rack - King Dr & 115th St\"                                \n",
              " [972] \"Public Rack - King Dr & 71st St\"                                 \n",
              " [973] \"Public Rack - King Dr & 83rd St\"                                 \n",
              " [974] \"Public Rack - King Dr & Oakwood Blvd\"                            \n",
              " [975] \"Public Rack - Kingston Ave & 75th St\"                            \n",
              " [976] \"Public Rack - Kinzua Ave & Devon Ave\"                            \n",
              " [977] \"Public Rack - Kolin Ave & Archer Ave\"                            \n",
              " [978] \"Public Rack - Komensky Ave & 26th St\"                            \n",
              " [979] \"Public Rack - Komensky Ave & 31st St\"                            \n",
              " [980] \"Public Rack - Komensky Ave & 59th St\"                            \n",
              " [981] \"Public Rack - Komensky Ave & 63rd St\"                            \n",
              " [982] \"Public Rack - Kostner & 83rd\"                                    \n",
              " [983] \"Public Rack - Kostner & Bryn Mawr\"                               \n",
              " [984] \"Public Rack - Kostner & Peterson\"                                \n",
              " [985] \"Public Rack - Kostner Ave & 16th St\"                             \n",
              " [986] \"Public Rack - Kostner Ave & Armitage Ave\"                        \n",
              " [987] \"Public Rack - Kostner Ave & Diversey Ave\"                        \n",
              " [988] \"Public Rack - Kostner Ave & Lake St\"                             \n",
              " [989] \"Public Rack - Kostner Ave & North Ave\"                           \n",
              " [990] \"Public Rack - Kostner Ave & Wrightwood Ave\"                      \n",
              " [991] \"Public Rack - Lafayette Ave & 119th St\"                          \n",
              " [992] \"Public Rack - Lafayette Ave & 87th St - NW\"                      \n",
              " [993] \"Public Rack - Lafayette Ave & 87th St SW\"                        \n",
              " [994] \"Public Rack - Lafayette Ave & 95th St\"                           \n",
              " [995] \"Public Rack - Laflin St & 51st St\"                               \n",
              " [996] \"Public Rack - Laflin St & 79th St\"                               \n",
              " [997] \"Public Rack - Laflin St &51st ST\"                                \n",
              " [998] \"Public Rack - Lake Park Ave & 44th St\"                           \n",
              " [999] \"Public Rack - Lake Park Ave & 47th St\"                           \n",
              "[1000] \"Public Rack - Lake Shore Dr & Hayes Dr\"                          \n",
              "[1001] \"Public Rack - Lamon Ave & Archer Ave\"                            \n",
              "[1002] \"Public Rack - Lamon Ave & Erie St\"                               \n",
              "[1003] \"Public Rack - Langley Ave & 105th Pl\"                            \n",
              "[1004] \"Public Rack - Langley Ave & 49th St\"                             \n",
              "[1005] \"Public Rack - Langley Ave & 79th St\"                             \n",
              "[1006] \"Public Rack - Langley Ave & Oakwood Blvd\"                        \n",
              "[1007] \"Public Rack - Laporte Ave & Armitage Ave\"                        \n",
              "[1008] \"Public Rack - Laramie Ave & Belmont Ave\"                         \n",
              "[1009] \"Public Rack - Laramie Ave & Fullerton Ave\"                       \n",
              "[1010] \"Public Rack - Laramie Ave & Grand Ave\"                           \n",
              "[1011] \"Public Rack - Laramie Ave & Warwick Ave\"                         \n",
              "[1012] \"Public Rack - Laramine Ave & Winnemac Ave\"                       \n",
              "[1013] \"Public Rack - Lavergne & Lawrence\"                               \n",
              "[1014] \"Public Rack - Lavergne Ave & Belle Plaine Ave\"                   \n",
              "[1015] \"Public Rack - Lawndale & 63rd St\"                                \n",
              "[1016] \"Public Rack - Lawndale Ave & 23rd St\"                            \n",
              "[1017] \"Public Rack - Lawndale Ave & 63rd St\"                            \n",
              "[1018] \"Public Rack - Lawndale Ave & Diversey Ave\"                       \n",
              "[1019] \"Public Rack - Lawndale Ave & Polk St\"                            \n",
              "[1020] \"Public Rack - Lawrence Ave & Kimball Ave\"                        \n",
              "[1021] \"Public Rack - Leader & Caldwell\"                                 \n",
              "[1022] \"Public Rack - Leamington & Elston\"                               \n",
              "[1023] \"Public Rack - Leclaire Ave & Division St\"                        \n",
              "[1024] \"Public Rack - Legler Regional Library\"                           \n",
              "[1025] \"Public Rack - Leland Ave & Melvina Ave\"                          \n",
              "[1026] \"Public Rack - Lemont Ave & Keating Ave\"                          \n",
              "[1027] \"Public Rack - Leoti Ave & Central Ave (south)\"                   \n",
              "[1028] \"Public Rack - Linder & 51st\"                                     \n",
              "[1029] \"Public Rack - Linder & Elston\"                                   \n",
              "[1030] \"Public Rack - Linder Ave & 64th Pl\"                              \n",
              "[1031] \"Public Rack - Linder Ave & Archer Ave\"                           \n",
              "[1032] \"Public Rack - Linder Ave & Belmont Ave\"                          \n",
              "[1033] \"Public Rack - Lockwood & Archer\"                                 \n",
              "[1034] \"Public Rack - Lockwood Ave & Diversey Ave\"                       \n",
              "[1035] \"Public Rack - Longwood Dr & 95th St\"                             \n",
              "[1036] \"Public Rack - Loomis Blvd & 47th St\"                             \n",
              "[1037] \"Public Rack - Loomis Blvd & 83rd St\"                             \n",
              "[1038] \"Public Rack - Loomis St & 87th St\"                               \n",
              "[1039] \"Public Rack - Lorel Ave & Chicago Ave\"                           \n",
              "[1040] \"Public Rack - Lorel Ave & Grand Ave\"                             \n",
              "[1041] \"Public Rack - Lotus Ave & Lawrence Ave\"                          \n",
              "[1042] \"Public Rack - Lowe Ave & 94th St\"                                \n",
              "[1043] \"Public Rack - Lowe Park\"                                         \n",
              "[1044] \"Public Rack - Lowell Ave & Elston Ave\"                           \n",
              "[1045] \"Public Rack - Lynch & Elston\"                                    \n",
              "[1046] \"Public Rack - Mackinaw Ave & 106th St\"                           \n",
              "[1047] \"Public Rack - Mackinaw Ave & 108th St\"                           \n",
              "[1048] \"Public Rack - Mackinaw Ave & 85th St\"                            \n",
              "[1049] \"Public Rack - Mango & Higgins\"                                   \n",
              "[1050] \"Public Rack - Maplewood Ave & 47th St\"                           \n",
              "[1051] \"Public Rack - Maplewood Ave & 63rd St\"                           \n",
              "[1052] \"Public Rack - Marquette Ave & 79th St\"                           \n",
              "[1053] \"Public Rack - Marquette Ave & 83rd St\"                           \n",
              "[1054] \"Public Rack - Marquette Rd & 67th St\"                            \n",
              "[1055] \"Public Rack - Marshfield Ave & 45th St\"                          \n",
              "[1056] \"Public Rack - Marshfield Ave & 87th St\"                          \n",
              "[1057] \"Public Rack - Martin Luther King Dr & 44th St\"                   \n",
              "[1058] \"Public Rack - Martin Luther King Dr & 69th St\"                   \n",
              "[1059] \"Public Rack - Mason & Archer\"                                    \n",
              "[1060] \"Public Rack - Mason Ave & Archer Ave\"                            \n",
              "[1061] \"Public Rack - Mason Ave & Milwaukee Ave\"                         \n",
              "[1062] \"Public Rack - Mason Ave & Roosevelt Rd\"                          \n",
              "[1063] \"Public Rack - May St & 63rd St\"                                  \n",
              "[1064] \"Public Rack - May St & 78th St\"                                  \n",
              "[1065] \"Public Rack - McCormick Blvd & Devon Ave\"                        \n",
              "[1066] \"Public Rack - McVicker & 52nd\"                                   \n",
              "[1067] \"Public Rack - McVicker Ave & Grand Ave\"                          \n",
              "[1068] \"Public Rack - Meade Ave & Archer Ave\"                            \n",
              "[1069] \"Public Rack - Melvina & Foster\"                                  \n",
              "[1070] \"Public Rack - Melvina Ave & Belmont Ave\"                         \n",
              "[1071] \"Public Rack - Melvina Ave & Montrose Ave\"                        \n",
              "[1072] \"Public Rack - Menard Ave & Agusta Blvd\"                          \n",
              "[1073] \"Public Rack - Menard Ave & Belmont Ave\"                          \n",
              "[1074] \"Public Rack - Menard Ave & Dakin St - midblock\"                  \n",
              "[1075] \"Public Rack - Menard Ave & Grand Ave\"                            \n",
              "[1076] \"Public Rack - Menard Ave & Leland Ave\"                           \n",
              "[1077] \"Public Rack - Menard Ave & Madison St\"                           \n",
              "[1078] \"Public Rack - Miami Ave & Milwaukee Ave\"                         \n",
              "[1079] \"Public Rack - Michele Clark Magnet High School\"                  \n",
              "[1080] \"Public Rack - Michigan Ave & 107th St\"                           \n",
              "[1081] \"Public Rack - Michigan Ave & 110th St\"                           \n",
              "[1082] \"Public Rack - Michigan Ave & 113th St\"                           \n",
              "[1083] \"Public Rack - Michigan Ave & 119th St\"                           \n",
              "[1084] \"Public Rack - Michigan Ave & 67th St\"                            \n",
              "[1085] \"Public Rack - Michigan Ave & 96th St\"                            \n",
              "[1086] \"Public Rack - Midway Orange Line\"                                \n",
              "[1087] \"Public Rack - Milwaukee Ave & Addison St\"                        \n",
              "[1088] \"Public Rack - Milwaukee Ave & Catalpa Ave\"                       \n",
              "[1089] \"Public Rack - Milwaukee Ave & Culyer Ave\"                        \n",
              "[1090] \"Public Rack - Milwaukee Ave & Diversey Ave\"                      \n",
              "[1091] \"Public Rack - Milwaukee Ave & Haussen Ct\"                        \n",
              "[1092] \"Public Rack - Milwaukee Ave & Higgins Ave\"                       \n",
              "[1093] \"Public Rack - Milwaukee Ave & Kennedy Expy\"                      \n",
              "[1094] \"Public Rack - Milwaukee Ave & Lawrence Ave\"                      \n",
              "[1095] \"Public Rack - Milwaukee Ave & Leland Ave\"                        \n",
              "[1096] \"Public Rack - Milwaukee Ave & Pensacola Ave\"                     \n",
              "[1097] \"Public Rack - Milwaukee Ave & School St\"                         \n",
              "[1098] \"Public Rack - Milwaukee Ave & Sunnyside Ave\"                     \n",
              "[1099] \"Public Rack - Milwaukee Ave & Warner Ave\"                        \n",
              "[1100] \"Public Rack - Milwaukee Ave & Waveland Ave\"                      \n",
              "[1101] \"Public Rack - Minnehaha Ave & Devon Ave\"                         \n",
              "[1102] \"Public Rack - Minuteman Park\"                                    \n",
              "[1103] \"Public Rack - Mobile Ave & Archer Ave\"                           \n",
              "[1104] \"Public Rack - Mont Clare Ave & Higgins Ave\"                      \n",
              "[1105] \"Public Rack - Monticello & Lawrence\"                             \n",
              "[1106] \"Public Rack - Monticello Ave & Belmont Ave\"                      \n",
              "[1107] \"Public Rack - Montrose Ave & Lavergne Ave\"                       \n",
              "[1108] \"Public Rack - Morgan St & 87th St\"                               \n",
              "[1109] \"Public Rack - Morgan St & 95th St\"                               \n",
              "[1110] \"Public Rack - Mozart & 79th\"                                     \n",
              "[1111] \"Public Rack - Mozart Elementary School\"                          \n",
              "[1112] \"Public Rack - Mt Greenwood Library - South\"                      \n",
              "[1113] \"Public Rack - Mulligan & Northwest Hwy\"                          \n",
              "[1114] \"Public Rack - Mulligan Ave & 56th St\"                            \n",
              "[1115] \"Public Rack - N Narragansett Ave & Grand Ave\"                    \n",
              "[1116] \"Public Rack - N. Oakview and W. Gregory St\"                      \n",
              "[1117] \"Public Rack - Nagel & Higgins\"                                   \n",
              "[1118] \"Public Rack - Nagle Ave & Belmont Ave\"                           \n",
              "[1119] \"Public Rack - Narragansett Ave & Fullerton Ave\"                  \n",
              "[1120] \"Public Rack - Nashotah & Northwest Hwy\"                          \n",
              "[1121] \"Public Rack - Natoma Ave & 61st St\"                              \n",
              "[1122] \"Public Rack - Natoma Ave & Bryn Mawr Ave\"                        \n",
              "[1123] \"Public Rack - Neenah & Archer\"                                   \n",
              "[1124] \"Public Rack - Neenah & Dakin\"                                    \n",
              "[1125] \"Public Rack - Neola & Northwest Hwy\"                             \n",
              "[1126] \"Public Rack - Neva & Foster\"                                     \n",
              "[1127] \"Public Rack - Neva Ave & Grand Ave\"                              \n",
              "[1128] \"Public Rack - New England Ave & Grace St\"                        \n",
              "[1129] \"Public Rack - Newcastle & Archer\"                                \n",
              "[1130] \"Public Rack - Newcastle Ave & Belden Ave\"                        \n",
              "[1131] \"Public Rack - Newcastle Ave & Belmont Ave\"                       \n",
              "[1132] \"Public Rack - Newcastle Ave & Wellington Ave\"                    \n",
              "[1133] \"Public Rack - Newland Ave & Diversey Ave\"                        \n",
              "[1134] \"Public Rack - Nina Ave & Avondale Ave\"                           \n",
              "[1135] \"Public Rack - Nordica & Archer\"                                  \n",
              "[1136] \"Public Rack - Nordica Ave & Addison St\"                          \n",
              "[1137] \"Public Rack - Nordica Ave & Higgins Ave\"                         \n",
              "[1138] \"Public Rack - Normal Ave & 111th St\"                             \n",
              "[1139] \"Public Rack - Normal Ave & 72nd St\"                              \n",
              "[1140] \"Public Rack - Normal Blvd & 61st Pl\"                             \n",
              "[1141] \"Public Rack - Normandy Ave & Archer Ave\"                         \n",
              "[1142] \"Public Rack - Normandy Ave & Raven St\"                           \n",
              "[1143] \"Public Rack - Northwest Hwy & Bryn Mawr\"                         \n",
              "[1144] \"Public Rack - Northwest Hwy & Highland Ave\"                      \n",
              "[1145] \"Public Rack - Northwest Hwy & Neva Ave\"                          \n",
              "[1146] \"Public Rack - Northwest Hwy & Overhill Ave\"                      \n",
              "[1147] \"Public Rack - Northwest Hwy & Raven St\"                          \n",
              "[1148] \"Public Rack - Norwood Park\"                                      \n",
              "[1149] \"Public Rack - Norwood Park Station \"                             \n",
              "[1150] \"Public Rack - Oak Park & Higgins\"                                \n",
              "[1151] \"Public Rack - Oak Park Ave & Foster Ave\"                         \n",
              "[1152] \"Public Rack - Oakley & 79th Pl\"                                  \n",
              "[1153] \"Public Rack - Octavia Ave & Touhy Ave\"                           \n",
              "[1154] \"Public Rack - Odell & Talcott\"                                   \n",
              "[1155] \"Public Rack - Oglesby Ave & 105th St\"                            \n",
              "[1156] \"Public Rack - Oglesby Ave & 95th St\"                             \n",
              "[1157] \"Public Rack - Oketo & Northwest Hwy\"                             \n",
              "[1158] \"Public Rack - Oketo & Talcott\"                                   \n",
              "[1159] \"Public Rack - Oketo Ave & Belmont Ave\"                           \n",
              "[1160] \"Public Rack - Oleander Ave & Addison St\"                         \n",
              "[1161] \"Public Rack - Olmstead Ave & Oliphant Ave\"                       \n",
              "[1162] \"Public Rack - Osceola Ave & Touhy Ave\"                           \n",
              "[1163] \"Public Rack - Ottowa Ave & Touhy Ave\"                            \n",
              "[1164] \"Public Rack - Overhill Ave & Touhy Ave\"                          \n",
              "[1165] \"Public Rack - Ozanam Ave & Devon Ave\"                            \n",
              "[1166] \"Public Rack - Ozark Ave & Addison St\"                            \n",
              "[1167] \"Public Rack - Ozman & Talcott\"                                   \n",
              "[1168] \"Public Rack - Panama Ave & Forest Preserve Ave\"                  \n",
              "[1169] \"Public Rack - Parkside & 63rd\"                                   \n",
              "[1170] \"Public Rack - Parkside & Archer\"                                 \n",
              "[1171] \"Public Rack - Parkside & Elston\"                                 \n",
              "[1172] \"Public Rack - Parnell Ave & 98th St\"                             \n",
              "[1173] \"Public Rack - Paul Revere Elementary School\"                     \n",
              "[1174] \"Public Rack - Paxton Ave & 79th St\"                              \n",
              "[1175] \"Public Rack - Penn Elementary School / KIPP Ascend Middle School\"\n",
              "[1176] \"Public Rack - Peoria St & 60th St\"                               \n",
              "[1177] \"Public Rack - Perry Ave & 108th Pl\"                              \n",
              "[1178] \"Public Rack - Perry Ave & 111th St\"                              \n",
              "[1179] \"Public Rack - Peterson Ave & Bernard Ave\"                        \n",
              "[1180] \"Public Rack - Peterson Ave & Drake Ave\"                          \n",
              "[1181] \"Public Rack - Peterson Ave & Milwaukee Ave\"                      \n",
              "[1182] \"Public Rack - Peterson Park\"                                     \n",
              "[1183] \"Public Rack - Piotrowski Park\"                                   \n",
              "[1184] \"Public Rack - Pittsburgh Ave & Irving Park\"                      \n",
              "[1185] \"Public Rack - Prairie Ave & 47th St \"                            \n",
              "[1186] \"Public Rack - Prairie Ave & 78th St\"                             \n",
              "[1187] \"Public Rack - Prairie Ave & 85th St\"                             \n",
              "[1188] \"Public Rack - Prairie Ave & Garfield Blvd N\"                     \n",
              "[1189] \"Public Rack - Prairie Ave & Garfield Blvd S\"                     \n",
              "[1190] \"Public Rack - Pratt Ave & Odell Ave\"                             \n",
              "[1191] \"Public Rack - Princeton Ave & 43rd St\"                           \n",
              "[1192] \"Public Rack - Princeton Ave & 99th Pl\"                           \n",
              "[1193] \"Public Rack - Pulaski & 52nd\"                                    \n",
              "[1194] \"Public Rack - Pulaski & 74th\"                                    \n",
              "[1195] \"Public Rack - Pulaski & 84th\"                                    \n",
              "[1196] \"Public Rack - Pulaski & Ardmore\"                                 \n",
              "[1197] \"Public Rack - Pulaski & Rosemont\"                                \n",
              "[1198] \"Public Rack - Pulaski Rd & 15th St\"                              \n",
              "[1199] \"Public Rack - Pulaski Rd & 40th St\"                              \n",
              "[1200] \"Public Rack - Pulaski Rd & 41st\"                                 \n",
              "[1201] \"Public Rack - Pulaski Rd & 44th St\"                              \n",
              "[1202] \"Public Rack - Pulaski Rd & 51st Rd\"                              \n",
              "[1203] \"Public Rack - Pulaski Rd & 65th St\"                              \n",
              "[1204] \"Public Rack - Pulaski Rd & 83rd St\"                              \n",
              "[1205] \"Public Rack - Pulaski Rd & 85th St\"                              \n",
              "[1206] \"Public Rack - Pulaski Rd & Armitage Ave\"                         \n",
              "[1207] \"Public Rack - Pulaski Rd & Flournoy St\"                          \n",
              "[1208] \"Public Rack - Pulaski Rd & Fullerton Ave\"                        \n",
              "[1209] \"Public Rack - Pulaski Rd & Grenshaw St\"                          \n",
              "[1210] \"Public Rack - Pulaski Rd & Lake St\"                              \n",
              "[1211] \"Public Rack - Pulaski Rd & Roosevelt Rd\"                         \n",
              "[1212] \"Public Rack - Pulaski Rd & Stevens Ave\"                          \n",
              "[1213] \"Public Rack - Pullman - Planet Fitness\"                          \n",
              "[1214] \"Public Rack - Pullman - Ross Dress for Less\"                     \n",
              "[1215] \"Public Rack - Pullman - Walmart\"                                 \n",
              "[1216] \"Public Rack - Pullman Community Center\"                          \n",
              "[1217] \"Public Rack - Racine Ave & 109th Pl\"                             \n",
              "[1218] \"Public Rack - Racine Ave & 74th St\"                              \n",
              "[1219] \"Public Rack - Racine Ave & 76th\"                                 \n",
              "[1220] \"Public Rack - Racine Ave & 83rd St\"                              \n",
              "[1221] \"Public Rack - Rhodes Ave & 79th St\"                              \n",
              "[1222] \"Public Rack - Richard Daley College\"                             \n",
              "[1223] \"Public Rack - Robert Fulton Elementary School\"                   \n",
              "[1224] \"Public Rack - Rockwell & 111th St\"                               \n",
              "[1225] \"Public Rack - Rockwell & Division\"                               \n",
              "[1226] \"Public Rack - Rockwell Ave & 71st St\"                            \n",
              "[1227] \"Public Rack - Rockwell Ave & Touhy Ave \"                         \n",
              "[1228] \"Public Rack - Roscoe St & Osceola Ave\"                           \n",
              "[1229] \"Public Rack - Rutherford & 53rd\"                                 \n",
              "[1230] \"Public Rack - Rutherford Ave & Belmont Ave\"                      \n",
              "[1231] \"Public Rack - S Menard & W 63rd\"                                 \n",
              "[1232] \"Public Rack - S. Kilpatrick and W. 79th\"                         \n",
              "[1233] \"Public Rack - S. New England/ W. 65th\"                           \n",
              "[1234] \"Public Rack - Sacramento & 71st\"                                 \n",
              "[1235] \"Public Rack - Sacramento Ave & Devon Ave\"                        \n",
              "[1236] \"Public Rack - Sacramento Blvd & Division St\"                     \n",
              "[1237] \"Public Rack - Sacramento Blvd & Washington Blvd\"                 \n",
              "[1238] \"Public Rack - Saginaw Ave & 93rd St\"                             \n",
              "[1239] \"Public Rack - Sawyer Ave & Bryn Mawr Ave - SE\"                   \n",
              "[1240] \"Public Rack - Sawyer Ave & Bryn Mawr Ave - SW\"                   \n",
              "[1241] \"Public Rack - Sawyer Ave & Chicago Ave\"                          \n",
              "[1242] \"Public Rack - Sawyer Ave & Lawrence Ave\"                         \n",
              "[1243] \"Public Rack - Sayer & Northwest Hwy\"                             \n",
              "[1244] \"Public Rack - Sayre Ave & 59th St\"                               \n",
              "[1245] \"Public Rack - Senka \\\"Edward Duke\\\" Park\"                        \n",
              "[1246] \"Public Rack - South Shore Dr & 71st St\"                          \n",
              "[1247] \"Public Rack - South Shore High School\"                           \n",
              "[1248] \"Public Rack - Spaulding Ave & 71st St\"                           \n",
              "[1249] \"Public Rack - Spaulding Ave & Bryn Mawr Ave\"                     \n",
              "[1250] \"Public Rack - Spaulding Ave & Evergreen Ave\"                     \n",
              "[1251] \"Public Rack - Spaulding Ave & Foster Ave\"                        \n",
              "[1252] \"Public Rack - Spaulding Ave & North Ave\"                         \n",
              "[1253] \"Public Rack - Springfield & 71st\"                                \n",
              "[1254] \"Public Rack - Springfield & 79th\"                                \n",
              "[1255] \"Public Rack - Springfield Ave & 63rd St\"                         \n",
              "[1256] \"Public Rack - Springfield Ave & Lawrence Ave\"                    \n",
              "[1257] \"Public Rack - St Louis & 83rd\"                                   \n",
              "[1258] \"Public Rack - St Louis & Columbus\"                               \n",
              "[1259] \"Public Rack - St Louis & Lincoln\"                                \n",
              "[1260] \"Public Rack - St Louis Ave & Berteau Ave\"                        \n",
              "[1261] \"Public Rack - St Louis Ave & Flournoy St\"                        \n",
              "[1262] \"Public Rack - State ST & 42nd St\"                                \n",
              "[1263] \"Public Rack - State St & 47th st\"                                \n",
              "[1264] \"Public Rack - Stewart Ave & 123rd St\"                            \n",
              "[1265] \"Public Rack - Stony Is Ave & 73rd St\"                            \n",
              "[1266] \"Public Rack - Stony Island & 87th St\"                            \n",
              "[1267] \"Public Rack - Strohacker Park\"                                   \n",
              "[1268] \"Public Rack - Talman Ave & 51st St\"                              \n",
              "[1269] \"Public Rack - Talman Ave & Pershing Rd\"                          \n",
              "[1270] \"Public Rack - The Montessori School of Englewood\"                \n",
              "[1271] \"Public Rack - Throop St & 109th Pl\"                              \n",
              "[1272] \"Public Rack - Throop St & 48t ST\"                                \n",
              "[1273] \"Public Rack - Throop St & 58th St\"                               \n",
              "[1274] \"Public Rack - Torrence Ave  & 106th St\"                          \n",
              "[1275] \"Public Rack - Torrence Ave & 103rd St\"                           \n",
              "[1276] \"Public Rack - Touhy Ave & Oconto Ave\"                            \n",
              "[1277] \"Public Rack - Tripp Ave & North Ave\"                             \n",
              "[1278] \"Public Rack - Troy & 111th St\"                                   \n",
              "[1279] \"Public Rack - Troy & 71st\"                                       \n",
              "[1280] \"Public Rack - Tuley (Murray) Park\"                               \n",
              "[1281] \"Public Rack - Union Ave & 111th St\"                              \n",
              "[1282] \"Public Rack - Vincennes Ave & 77th St\"                           \n",
              "[1283] \"Public Rack - Vincennes Ave & 87th St\"                           \n",
              "[1284] \"Public Rack - Vincennes Ave & 95th Pl\"                           \n",
              "[1285] \"Public Rack - Vincennes Ave & 95th St\"                           \n",
              "[1286] \"Public Rack - Vincennes Ave & 99th St\"                           \n",
              "[1287] \"Public Rack - W. Talcott & N. Oriole\"                            \n",
              "[1288] \"Public Rack - Wabash Ave & 87th St\"                              \n",
              "[1289] \"Public Rack - Walden Pkwy & 103rd St\"                            \n",
              "[1290] \"Public Rack - Walden Pkwy & 99th St\"                             \n",
              "[1291] \"Public Rack - Washington Park Ct & 51st St\"                      \n",
              "[1292] \"Public Rack - Washtenaw Ave & 63rd St\"                           \n",
              "[1293] \"Public Rack - Washtenaw Ave & Devon Ave\"                         \n",
              "[1294] \"Public Rack - Washtenaw Ave & Superior St\"                       \n",
              "[1295] \"Public Rack - Wentworth Ave & 103rd St\"                          \n",
              "[1296] \"Public Rack - Wentworth Ave & 79th St\"                           \n",
              "[1297] \"Public Rack - Wentworth Park\"                                    \n",
              "[1298] \"Public Rack - West Chatham Park\"                                 \n",
              "[1299] \"Public Rack - Western & 74th\"                                    \n",
              "[1300] \"Public Rack - Western & 79th\"                                    \n",
              "[1301] \"Public Rack - Western & 83rd\"                                    \n",
              "[1302] \"Public Rack - Western Ave & 100th St\"                            \n",
              "[1303] \"Public Rack - Western Ave & 104th St - East\"                     \n",
              "[1304] \"Public Rack - Western Ave & 104th St - West\"                     \n",
              "[1305] \"Public Rack - Western Ave & 105th St\"                            \n",
              "[1306] \"Public Rack - Western Ave & 106th St - East\"                     \n",
              "[1307] \"Public Rack - Western Ave & 106th St - West\"                     \n",
              "[1308] \"Public Rack - Western Ave & 107th Pl\"                            \n",
              "[1309] \"Public Rack - Western Ave & 107th St\"                            \n",
              "[1310] \"Public Rack - Western Ave & 110th St\"                            \n",
              "[1311] \"Public Rack - Western Ave & 111th St - NW\"                       \n",
              "[1312] \"Public Rack - Western Ave & 111th St - SE\"                       \n",
              "[1313] \"Public Rack - Western Ave & 111th St - SW\"                       \n",
              "[1314] \"Public Rack - Western Ave & 118th St\"                            \n",
              "[1315] \"Public Rack - Western Ave & 47th Pl\"                             \n",
              "[1316] \"Public Rack - Western Ave & 79th St\"                             \n",
              "[1317] \"Public Rack - Western Ave & 92nd Pl\"                             \n",
              "[1318] \"Public Rack - Western Ave & 96th St\"                             \n",
              "[1319] \"Public Rack - Western Ave & 98th St\"                             \n",
              "[1320] \"Public Rack - Western Ave & Devon Ave\"                           \n",
              "[1321] \"Public Rack - Western Ave & Jarvis Ave\"                          \n",
              "[1322] \"Public Rack - Western Blvd & 49th St\"                            \n",
              "[1323] \"Public Rack - Western Blvd & 53rd St\"                            \n",
              "[1324] \"Public Rack - Whipple St & 63rd St\"                              \n",
              "[1325] \"Public Rack - Wilbur Wright College North\"                       \n",
              "[1326] \"Public Rack - Wilbur Wright College South\"                       \n",
              "[1327] \"Public Rack - William J Onahan Public School\"                    \n",
              "[1328] \"Public Rack - Winchester Ave & 87th St\"                          \n",
              "[1329] \"Public Rack - Winona St & Elston Ave\"                            \n",
              "[1330] \"Public Rack - Wolcott Ave & 61st St\"                             \n",
              "[1331] \"Public Rack - Wood St & 103rd St\"                                \n",
              "[1332] \"Public Rack - Wood St & 47th St\"                                 \n",
              "[1333] \"Public Rack - Woodlawn Ave & 63rd St N\"                          \n",
              "[1334] \"Public Rack - Woodlawn Ave & 63rd St S\"                          \n",
              "[1335] \"Public Rack - Wrightwood Metra Station\"                          \n",
              "[1336] \"Public Rack - Yale Ave & 119th St\"                               \n",
              "[1337] \"Public Rack - Yates Ave & 100th St\"                              \n",
              "[1338] \"Public Rack - Yates Blvd & Exchange Ave\"                         \n",
              "[1339] \"Public Rack - Zapata Academy\"                                    \n",
              "[1340] \"Pulaski & Ann Lurie Pl\"                                          \n",
              "[1341] \"Pulaski Rd & 21st St\"                                            \n",
              "[1342] \"Pulaski Rd & 51st St\"                                            \n",
              "[1343] \"Pulaski Rd & 60th St\"                                            \n",
              "[1344] \"Pulaski Rd & 84th St\"                                            \n",
              "[1345] \"Pulaski Rd & Congress Pkwy\"                                      \n",
              "[1346] \"Pulaski Rd & Eddy St\"                                            \n",
              "[1347] \"Pulaski Rd & Eddy St (Temp)\"                                     \n",
              "[1348] \"Pulaski Rd & Lake St\"                                            \n",
              "[1349] \"Racine Ave & 13th St\"                                            \n",
              "[1350] \"Racine Ave & 15th St\"                                            \n",
              "[1351] \"Racine Ave & 18th St\"                                            \n",
              "[1352] \"Racine Ave & 35th St\"                                            \n",
              "[1353] \"Racine Ave & 57th St\"                                            \n",
              "[1354] \"Racine Ave & 61st St\"                                            \n",
              "[1355] \"Racine Ave & 65th St\"                                            \n",
              "[1356] \"Racine Ave & Belmont Ave\"                                        \n",
              "[1357] \"Racine Ave & Congress Pkwy\"                                      \n",
              "[1358] \"Racine Ave & Fullerton Ave\"                                      \n",
              "[1359] \"Racine Ave & Fullerton Ave (Temp)\"                               \n",
              "[1360] \"Racine Ave & Garfield Blvd\"                                      \n",
              "[1361] \"Racine Ave & Randolph St\"                                        \n",
              "[1362] \"Racine Ave & Washington Blvd\"                                    \n",
              "[1363] \"Racine Ave & Wrightwood Ave\"                                     \n",
              "[1364] \"Rainbow - Beach\"                                                 \n",
              "[1365] \"Rainbow Beach\"                                                   \n",
              "[1366] \"Ravenswood Ave & Berteau Ave\"                                    \n",
              "[1367] \"Ravenswood Ave & Irving Park Rd\"                                 \n",
              "[1368] \"Ravenswood Ave & Lawrence Ave\"                                   \n",
              "[1369] \"Rhodes Ave & 32nd St\"                                            \n",
              "[1370] \"Rhodes Ave & 71st St\"                                            \n",
              "[1371] \"Richmond St & 59th St\"                                           \n",
              "[1372] \"Richmond St & Diversey Ave\"                                      \n",
              "[1373] \"Richmond St & Lincoln Ave\"                                       \n",
              "[1374] \"Ridge Blvd & Howard St\"                                          \n",
              "[1375] \"Ridge Blvd & Touhy Ave\"                                          \n",
              "[1376] \"Ritchie Ct & Banks St\"                                           \n",
              "[1377] \"Rockwell St & 57th St\"                                           \n",
              "[1378] \"Rockwell St & 63rd St\"                                           \n",
              "[1379] \"Rockwell St & Archer Ave\"                                        \n",
              "[1380] \"Rockwell St & Cermak Rd\"                                         \n",
              "[1381] \"Rockwell St & Eastwood Ave\"                                      \n",
              "[1382] \"Rockwell St & Fletcher St\"                                       \n",
              "[1383] \"Roscoe & Harlem\"                                                 \n",
              "[1384] \"Rush St & Cedar St\"                                              \n",
              "[1385] \"Rush St & Hubbard St\"                                            \n",
              "[1386] \"Rush St & Superior St\"                                           \n",
              "[1387] \"S Aberdeen St & W 106th St\"                                      \n",
              "[1388] \"S Michigan Ave & E 118th St\"                                     \n",
              "[1389] \"S Wentworth Ave & W 111th St\"                                    \n",
              "[1390] \"Sacramento Ave & 25th St\"                                        \n",
              "[1391] \"Sacramento Ave & Pershing Rd\"                                    \n",
              "[1392] \"Sacramento Blvd & Addison St\"                                    \n",
              "[1393] \"Sacramento Blvd & Franklin Blvd\"                                 \n",
              "[1394] \"Sacramento Blvd & Fulton Ave\"                                    \n",
              "[1395] \"Sacramento Blvd & Polk St\"                                       \n",
              "[1396] \"Sangamon St & Lake St\"                                           \n",
              "[1397] \"Sangamon St & Washington Blvd\"                                   \n",
              "[1398] \"Sawyer Ave & Irving Park Rd\"                                     \n",
              "[1399] \"Sayre & Diversey\"                                                \n",
              "[1400] \"Scottsdale Park\"                                                 \n",
              "[1401] \"Sedgwick St & Huron St\"                                          \n",
              "[1402] \"Sedgwick St & North Ave\"                                         \n",
              "[1403] \"Sedgwick St & Schiller St\"                                       \n",
              "[1404] \"Sedgwick St & Webster Ave\"                                       \n",
              "[1405] \"Seeley Ave & Garfield Blvd\"                                      \n",
              "[1406] \"Seeley Ave & Roscoe St\"                                          \n",
              "[1407] \"Shabbona Park\"                                                   \n",
              "[1408] \"Shedd Aquarium\"                                                  \n",
              "[1409] \"Sheffield Ave & Fullerton Ave\"                                   \n",
              "[1410] \"Sheffield Ave & Kingsbury St\"                                    \n",
              "[1411] \"Sheffield Ave & Waveland Ave\"                                    \n",
              "[1412] \"Sheffield Ave & Webster Ave\"                                     \n",
              "[1413] \"Sheffield Ave & Wellington Ave\"                                  \n",
              "[1414] \"Sheffield Ave & Willow St\"                                       \n",
              "[1415] \"Sheffield Ave & Wrightwood Ave\"                                  \n",
              "[1416] \"Sheridan Rd & Argyle St\"                                         \n",
              "[1417] \"Sheridan Rd & Buena Ave\"                                         \n",
              "[1418] \"Sheridan Rd & Columbia Ave\"                                      \n",
              "[1419] \"Sheridan Rd & Greenleaf Ave\"                                     \n",
              "[1420] \"Sheridan Rd & Irving Park Rd\"                                    \n",
              "[1421] \"Sheridan Rd & Lawrence Ave\"                                      \n",
              "[1422] \"Sheridan Rd & Loyola Ave\"                                        \n",
              "[1423] \"Sheridan Rd & Montrose Ave\"                                      \n",
              "[1424] \"Sheridan Rd & Noyes St (NU)\"                                     \n",
              "[1425] \"Shields Ave & 28th Pl\"                                           \n",
              "[1426] \"Shields Ave & 31st St\"                                           \n",
              "[1427] \"Shields Ave & 43rd St\"                                           \n",
              "[1428] \"Shore Dr & 55th St\"                                              \n",
              "[1429] \"Smith Park\"                                                      \n",
              "[1430] \"South Chicago Ave & 83rd St\"                                     \n",
              "[1431] \"South Chicago Ave & Elliot Ave\"                                  \n",
              "[1432] \"South Shore Dr & 67th St\"                                        \n",
              "[1433] \"South Shore Dr & 71st St\"                                        \n",
              "[1434] \"South Shore Dr & 74th St\"                                        \n",
              "[1435] \"Southport Ave & Belmont Ave\"                                     \n",
              "[1436] \"Southport Ave & Clark St\"                                        \n",
              "[1437] \"Southport Ave & Clybourn Ave\"                                    \n",
              "[1438] \"Southport Ave & Irving Park Rd\"                                  \n",
              "[1439] \"Southport Ave & Roscoe St\"                                       \n",
              "[1440] \"Southport Ave & Waveland Ave\"                                    \n",
              "[1441] \"Southport Ave & Wellington Ave\"                                  \n",
              "[1442] \"Southport Ave & Wrightwood Ave\"                                  \n",
              "[1443] \"Spaulding Ave & 16th St\"                                         \n",
              "[1444] \"Spaulding Ave & 63rd St\"                                         \n",
              "[1445] \"Spaulding Ave & Armitage Ave\"                                    \n",
              "[1446] \"Spaulding Ave & Division St\"                                     \n",
              "[1447] \"Springfield Ave & 47th St\"                                       \n",
              "[1448] \"Springfield Ave & 71st St\"                                       \n",
              "[1449] \"Springfield Ave & 80th St\"                                       \n",
              "[1450] \"Springfield Ave & North Ave\"                                     \n",
              "[1451] \"St Louis Ave & 59th St\"                                          \n",
              "[1452] \"St Louis Ave & Foster Ave\"                                       \n",
              "[1453] \"St Louis Ave & Norman Bobbins Ave\"                               \n",
              "[1454] \"St. Clair St & Erie St\"                                          \n",
              "[1455] \"St. Louis & 71st St\"                                             \n",
              "[1456] \"St. Louis Ave & Balmoral Ave\"                                    \n",
              "[1457] \"St. Louis Ave & Fullerton Ave\"                                   \n",
              "[1458] \"State St & 123rd St\"                                             \n",
              "[1459] \"State St & 19th St\"                                              \n",
              "[1460] \"State St & 29th St\"                                              \n",
              "[1461] \"State St & 33rd St\"                                              \n",
              "[1462] \"State St & 35th St\"                                              \n",
              "[1463] \"State St & 54th St\"                                              \n",
              "[1464] \"State St & 76th St\"                                              \n",
              "[1465] \"State St & 79th St\"                                              \n",
              "[1466] \"State St & 95th St\"                                              \n",
              "[1467] \"State St & Chicago Ave\"                                          \n",
              "[1468] \"State St & Harrison St\"                                          \n",
              "[1469] \"State St & Kinzie St\"                                            \n",
              "[1470] \"State St & Pearson St\"                                           \n",
              "[1471] \"State St & Pershing Rd\"                                          \n",
              "[1472] \"State St & Randolph St\"                                          \n",
              "[1473] \"State St & Van Buren St\"                                         \n",
              "[1474] \"Stave St & Armitage Ave\"                                         \n",
              "[1475] \"Steelworkers Park\"                                               \n",
              "[1476] \"Stetson Ave & South Water St\"                                    \n",
              "[1477] \"Stewart Ave & 63rd St\"                                           \n",
              "[1478] \"Stewart Ave & 83rd St\"                                           \n",
              "[1479] \"Stockton Dr & Wrightwood Ave\"                                    \n",
              "[1480] \"Stony Island Ave & 63rd St\"                                      \n",
              "[1481] \"Stony Island Ave & 64th St\"                                      \n",
              "[1482] \"Stony Island Ave & 67th St\"                                      \n",
              "[1483] \"Stony Island Ave & 71st St\"                                      \n",
              "[1484] \"Stony Island Ave & 75th St\"                                      \n",
              "[1485] \"Stony Island Ave & 82nd St\"                                      \n",
              "[1486] \"Stony Island Ave & 90th St\"                                      \n",
              "[1487] \"Stony Island Ave & South Chicago Ave\"                            \n",
              "[1488] \"Streeter Dr & Grand Ave\"                                         \n",
              "[1489] \"Streeter Dr/Grand Ave\"                                           \n",
              "[1490] \"Summit Ave & 86th St\"                                            \n",
              "[1491] \"Talman Ave & Addison St\"                                         \n",
              "[1492] \"Theater on the Lake\"                                             \n",
              "[1493] \"Throop St & 52nd St\"                                             \n",
              "[1494] \"Throop St & Taylor St\"                                           \n",
              "[1495] \"Torrence Ave & 106th St\"                                         \n",
              "[1496] \"Torrence Ave & 126th Pl\"                                         \n",
              "[1497] \"Tripp Ave & 15th St\"                                             \n",
              "[1498] \"Tripp Ave & 31st St\"                                             \n",
              "[1499] \"Tripp Ave & 65th St\"                                             \n",
              "[1500] \"Troy Ave & 27th St\"                                              \n",
              "[1501] \"Troy St & Elston Ave\"                                            \n",
              "[1502] \"Troy St & Grace St\"                                              \n",
              "[1503] \"Troy St & Jackson Blvd\"                                          \n",
              "[1504] \"Troy St & North Ave\"                                             \n",
              "[1505] \"Union Ave & Root St\"                                             \n",
              "[1506] \"University Ave & 57th St\"                                        \n",
              "[1507] \"University Ave & 59th St\"                                        \n",
              "[1508] \"University Library (NU)\"                                         \n",
              "[1509] \"Valli Produce - Evanston Plaza\"                                  \n",
              "[1510] \"Vernon Ave & 107th St\"                                           \n",
              "[1511] \"Vernon Ave & 75th St\"                                            \n",
              "[1512] \"Vernon Ave & 79th St\"                                            \n",
              "[1513] \"Vincennes Ave & 104th St\"                                        \n",
              "[1514] \"Vincennes Ave & 75th St\"                                         \n",
              "[1515] \"Virginia Ave & Catalpa Ave\"                                      \n",
              "[1516] \"W 103rd St & S Avers Ave\"                                        \n",
              "[1517] \"W Armitage Ave & N Sheffield Ave\"                                \n",
              "[1518] \"W Oakdale Ave & N Broadway\"                                      \n",
              "[1519] \"W Washington Blvd & N Peoria St\"                                 \n",
              "[1520] \"Wabash Ave & 16th St\"                                            \n",
              "[1521] \"Wabash Ave & 83rd St\"                                            \n",
              "[1522] \"Wabash Ave & 87th St\"                                            \n",
              "[1523] \"Wabash Ave & 9th St\"                                             \n",
              "[1524] \"Wabash Ave & Adams St\"                                           \n",
              "[1525] \"Wabash Ave & Cermak Rd\"                                          \n",
              "[1526] \"Wabash Ave & Grand Ave\"                                          \n",
              "[1527] \"Wabash Ave & Roosevelt Rd\"                                       \n",
              "[1528] \"Wabash Ave & Wacker Pl\"                                          \n",
              "[1529] \"Wacker Dr & Washington St\"                                       \n",
              "[1530] \"Walden Pkwy & 100th St\"                                          \n",
              "[1531] \"Wallace St & 35th St\"                                            \n",
              "[1532] \"Walsh Park\"                                                      \n",
              "[1533] \"Warren Park East\"                                                \n",
              "[1534] \"Warren Park West\"                                                \n",
              "[1535] \"Washtenaw Ave & Lawrence Ave\"                                    \n",
              "[1536] \"Washtenaw Ave & Madison St\"                                      \n",
              "[1537] \"Washtenaw Ave & Ogden Ave\"                                       \n",
              "[1538] \"Washtenaw Ave & Peterson Ave\"                                    \n",
              "[1539] \"Washtenaw Ave & Polk St\"                                         \n",
              "[1540] \"Wells St & 19th St\"                                              \n",
              "[1541] \"Wells St & Concord Ln\"                                           \n",
              "[1542] \"Wells St & Elm St\"                                               \n",
              "[1543] \"Wells St & Evergreen Ave\"                                        \n",
              "[1544] \"Wells St & Hubbard St\"                                           \n",
              "[1545] \"Wells St & Huron St\"                                             \n",
              "[1546] \"Wells St & Institute Pl\"                                         \n",
              "[1547] \"Wells St & Polk St\"                                              \n",
              "[1548] \"Wells St & Randolph St\"                                          \n",
              "[1549] \"Wells St & Walton St\"                                            \n",
              "[1550] \"Wentworth Ave & 104th St\"                                        \n",
              "[1551] \"Wentworth Ave & 24th St\"                                         \n",
              "[1552] \"Wentworth Ave & 24th St (Temp)\"                                  \n",
              "[1553] \"Wentworth Ave & 33rd St\"                                         \n",
              "[1554] \"Wentworth Ave & 35th St\"                                         \n",
              "[1555] \"Wentworth Ave & 63rd St\"                                         \n",
              "[1556] \"Wentworth Ave & Cermak Rd\"                                       \n",
              "[1557] \"Wentworth Ave & Cermak Rd*\"                                      \n",
              "[1558] \"Western Ave & 104th St\"                                          \n",
              "[1559] \"Western Ave & 111th St\"                                          \n",
              "[1560] \"Western Ave & 21st St\"                                           \n",
              "[1561] \"Western Ave & 24th St\"                                           \n",
              "[1562] \"Western Ave & 28th St\"                                           \n",
              "[1563] \"Western Ave & 62nd St\"                                           \n",
              "[1564] \"Western Ave & 79th St\"                                           \n",
              "[1565] \"Western Ave & Ardmore Ave\"                                       \n",
              "[1566] \"Western Ave & Berteau Ave\"                                       \n",
              "[1567] \"Western Ave & Congress Pkwy\"                                     \n",
              "[1568] \"Western Ave & Division St\"                                       \n",
              "[1569] \"Western Ave & Fillmore St\"                                       \n",
              "[1570] \"Western Ave & Grace St\"                                          \n",
              "[1571] \"Western Ave & Granville Ave\"                                     \n",
              "[1572] \"Western Ave & Gunnison St\"                                       \n",
              "[1573] \"Western Ave & Howard St\"                                         \n",
              "[1574] \"Western Ave & Lake St\"                                           \n",
              "[1575] \"Western Ave & Leland Ave\"                                        \n",
              "[1576] \"Western Ave & Lunt Ave\"                                          \n",
              "[1577] \"Western Ave & Monroe St\"                                         \n",
              "[1578] \"Western Ave & Roscoe St\"                                         \n",
              "[1579] \"Western Ave & Walton St\"                                         \n",
              "[1580] \"Western Ave & Winnebago Ave\"                                     \n",
              "[1581] \"Western Blvd & 48th Pl\"                                          \n",
              "[1582] \"Whipple St & Roosevelt Rd\"                                       \n",
              "[1583] \"Whipple/Irving Park\"                                             \n",
              "[1584] \"Wilton Ave & Belmont Ave\"                                        \n",
              "[1585] \"Wilton Ave & Diversey Pkwy\"                                      \n",
              "[1586] \"Wilton Ave & Diversey Pkwy*\"                                     \n",
              "[1587] \"Winchester (Ravenswood) Ave & Balmoral Ave\"                      \n",
              "[1588] \"Winchester Ave & Elston Ave\"                                     \n",
              "[1589] \"Winthrop Ave & Lawrence Ave\"                                     \n",
              "[1590] \"Wolcott (Ravenswood) Ave & Montrose Ave\"                         \n",
              "[1591] \"Wolcott Ave & Fargo Ave\"                                         \n",
              "[1592] \"Wolcott Ave & Polk St\"                                           \n",
              "[1593] \"Wood St & 35th St\"                                               \n",
              "[1594] \"Wood St & 84th St\"                                               \n",
              "[1595] \"Wood St & Augusta Blvd\"                                          \n",
              "[1596] \"Wood St & Chicago Ave\"                                           \n",
              "[1597] \"Wood St & Hubbard St\"                                            \n",
              "[1598] \"Wood St & Milwaukee Ave\"                                         \n",
              "[1599] \"Wood St & Taylor St (Temp)\"                                      \n",
              "[1600] \"Wood St & Webster Ave\"                                           \n",
              "[1601] \"Woodlawn & 103rd\"                                                \n",
              "[1602] \"Woodlawn & 103rd - Olive Harvey Vaccination Site\"                \n",
              "[1603] \"Woodlawn Ave & 55th St\"                                          \n",
              "[1604] \"Woodlawn Ave & 58th St\"                                          \n",
              "[1605] \"Woodlawn Ave & 75th St\"                                          \n",
              "[1606] \"Woodlawn Ave & Lake Park Ave\"                                    \n",
              "[1607] \"Yates Blvd & 75th St\"                                            \n",
              "[1608] \"Yates Blvd & 93rd St\"                                            "
            ]
          },
          "metadata": {}
        }
      ],
      "source": [
        "sort(unique(all_trips$start_station_name))"
      ]
    },
    {
      "cell_type": "markdown",
      "metadata": {
        "id": "eW2i-i_xlIcY"
      },
      "source": [
        "The list of unique values is very long so I should look at the number of rows with \"HQ QR\"\n"
      ]
    },
    {
      "cell_type": "code",
      "execution_count": 39,
      "metadata": {
        "id": "7HUNxRyIlUmg",
        "outputId": "881a8cc8-945e-4258-aefc-c82f39433198",
        "colab": {
          "base_uri": "https://localhost:8080/",
          "height": 98
        }
      },
      "outputs": [
        {
          "output_type": "display_data",
          "data": {
            "text/html": [
              "<table class=\"dataframe\">\n",
              "<caption>A data.frame: 0 × 13</caption>\n",
              "<thead>\n",
              "\t<tr><th scope=col>ride_id</th><th scope=col>rideable_type</th><th scope=col>started_at</th><th scope=col>ended_at</th><th scope=col>start_station_name</th><th scope=col>start_station_id</th><th scope=col>end_station_name</th><th scope=col>end_station_id</th><th scope=col>start_lat</th><th scope=col>start_lng</th><th scope=col>end_lat</th><th scope=col>end_lng</th><th scope=col>member_casual</th></tr>\n",
              "\t<tr><th scope=col>&lt;chr&gt;</th><th scope=col>&lt;chr&gt;</th><th scope=col>&lt;chr&gt;</th><th scope=col>&lt;chr&gt;</th><th scope=col>&lt;chr&gt;</th><th scope=col>&lt;chr&gt;</th><th scope=col>&lt;chr&gt;</th><th scope=col>&lt;chr&gt;</th><th scope=col>&lt;dbl&gt;</th><th scope=col>&lt;dbl&gt;</th><th scope=col>&lt;dbl&gt;</th><th scope=col>&lt;dbl&gt;</th><th scope=col>&lt;chr&gt;</th></tr>\n",
              "</thead>\n",
              "<tbody>\n",
              "</tbody>\n",
              "</table>\n"
            ],
            "text/markdown": "\nA data.frame: 0 × 13\n\n| ride_id &lt;chr&gt; | rideable_type &lt;chr&gt; | started_at &lt;chr&gt; | ended_at &lt;chr&gt; | start_station_name &lt;chr&gt; | start_station_id &lt;chr&gt; | end_station_name &lt;chr&gt; | end_station_id &lt;chr&gt; | start_lat &lt;dbl&gt; | start_lng &lt;dbl&gt; | end_lat &lt;dbl&gt; | end_lng &lt;dbl&gt; | member_casual &lt;chr&gt; |\n|---|---|---|---|---|---|---|---|---|---|---|---|---|\n\n",
            "text/latex": "A data.frame: 0 × 13\n\\begin{tabular}{lllllllllllll}\n ride\\_id & rideable\\_type & started\\_at & ended\\_at & start\\_station\\_name & start\\_station\\_id & end\\_station\\_name & end\\_station\\_id & start\\_lat & start\\_lng & end\\_lat & end\\_lng & member\\_casual\\\\\n <chr> & <chr> & <chr> & <chr> & <chr> & <chr> & <chr> & <chr> & <dbl> & <dbl> & <dbl> & <dbl> & <chr>\\\\\n\\hline\n\\end{tabular}\n",
            "text/plain": [
              "     ride_id rideable_type started_at ended_at start_station_name\n",
              "     start_station_id end_station_name end_station_id start_lat start_lng\n",
              "     end_lat end_lng member_casual"
            ]
          },
          "metadata": {}
        }
      ],
      "source": [
        "all_trips[all_trips$start_station_name == \"HQ QR\",]"
      ]
    },
    {
      "cell_type": "markdown",
      "metadata": {
        "id": "hBslaAasBcuH"
      },
      "source": [
        "Good news there are no HQ QR values"
      ]
    },
    {
      "cell_type": "markdown",
      "metadata": {
        "id": "YpKXAuLyC7Dp"
      },
      "source": [
        "## Add columns that list the date, month, day, and year of each ride\n",
        "* This will allow us to aggregate ride data for each month, day, or year ... before completing these operations we could only aggregate at the ride level\n",
        "* https://www.statmethods.net/input/dates.html more on date formats in R found at that link"
      ]
    },
    {
      "cell_type": "code",
      "execution_count": 40,
      "metadata": {
        "id": "a-oI5DjOC3zB"
      },
      "outputs": [],
      "source": [
        "all_trips$date <- as.Date(all_trips$started_at) #The default format is yyyy-mm-dd\n",
        "all_trips$month <- format(as.Date(all_trips$date), \"%m\")\n",
        "all_trips$day <- format(as.Date(all_trips$date), \"%d\")\n",
        "all_trips$year <- format(as.Date(all_trips$date), \"%Y\")\n",
        "all_trips$day_of_week <- format(as.Date(all_trips$date), \"%A\")"
      ]
    },
    {
      "cell_type": "markdown",
      "metadata": {
        "id": "vtPgVVKUgicN"
      },
      "source": [
        "## Create a trip duration column"
      ]
    },
    {
      "cell_type": "code",
      "execution_count": 41,
      "metadata": {
        "id": "E5Zfb3ZsfnzC"
      },
      "outputs": [],
      "source": [
        "# I use the difftime function to calculate the trip duration\n",
        "all_trips$duration <- difftime(all_trips$ended_at,all_trips$started_at)\n",
        "all_trips$duration <- as.numeric(as.character(all_trips$duration))"
      ]
    },
    {
      "cell_type": "markdown",
      "metadata": {
        "id": "2deqov5IiV9M"
      },
      "source": [
        " I check if there are issues in the trip"
      ]
    },
    {
      "cell_type": "code",
      "execution_count": 42,
      "metadata": {
        "id": "1ayWH7eEgEmX",
        "outputId": "c100dbf8-8728-4f81-c867-a23f470f192c",
        "colab": {
          "base_uri": "https://localhost:8080/"
        }
      },
      "outputs": [
        {
          "output_type": "stream",
          "name": "stdout",
          "text": [
            "[1] 5909344\n"
          ]
        }
      ],
      "source": [
        "maxduration <- max(all_trips$duration)\n",
        "print(maxduration)"
      ]
    },
    {
      "cell_type": "markdown",
      "metadata": {
        "id": "em4mYogskZ4S"
      },
      "source": [
        "The maximum value is quite high let's see that row"
      ]
    },
    {
      "cell_type": "code",
      "execution_count": 43,
      "metadata": {
        "id": "wrtdq8iakZkC",
        "outputId": "6240d65b-aaa6-4d51-ddbb-de92a999d2c1",
        "colab": {
          "base_uri": "https://localhost:8080/",
          "height": 184
        }
      },
      "outputs": [
        {
          "output_type": "display_data",
          "data": {
            "text/html": [
              "<table class=\"dataframe\">\n",
              "<caption>A data.frame: 1 × 19</caption>\n",
              "<thead>\n",
              "\t<tr><th></th><th scope=col>ride_id</th><th scope=col>rideable_type</th><th scope=col>started_at</th><th scope=col>ended_at</th><th scope=col>start_station_name</th><th scope=col>start_station_id</th><th scope=col>end_station_name</th><th scope=col>end_station_id</th><th scope=col>start_lat</th><th scope=col>start_lng</th><th scope=col>end_lat</th><th scope=col>end_lng</th><th scope=col>member_casual</th><th scope=col>date</th><th scope=col>month</th><th scope=col>day</th><th scope=col>year</th><th scope=col>day_of_week</th><th scope=col>duration</th></tr>\n",
              "\t<tr><th></th><th scope=col>&lt;chr&gt;</th><th scope=col>&lt;chr&gt;</th><th scope=col>&lt;chr&gt;</th><th scope=col>&lt;chr&gt;</th><th scope=col>&lt;chr&gt;</th><th scope=col>&lt;chr&gt;</th><th scope=col>&lt;chr&gt;</th><th scope=col>&lt;chr&gt;</th><th scope=col>&lt;dbl&gt;</th><th scope=col>&lt;dbl&gt;</th><th scope=col>&lt;dbl&gt;</th><th scope=col>&lt;dbl&gt;</th><th scope=col>&lt;chr&gt;</th><th scope=col>&lt;date&gt;</th><th scope=col>&lt;chr&gt;</th><th scope=col>&lt;chr&gt;</th><th scope=col>&lt;chr&gt;</th><th scope=col>&lt;chr&gt;</th><th scope=col>&lt;dbl&gt;</th></tr>\n",
              "</thead>\n",
              "<tbody>\n",
              "\t<tr><th scope=row>3524983</th><td>992B647C22E22513</td><td>docked_bike</td><td>2023-08-02 19:27:12</td><td>2023-10-10 04:56:16</td><td>Campbell Ave &amp; Montrose Ave</td><td>15623</td><td></td><td></td><td>41.96148</td><td>-87.69232</td><td>NA</td><td>NA</td><td>casual</td><td>2023-08-02</td><td>08</td><td>02</td><td>2023</td><td>Wednesday</td><td>5909344</td></tr>\n",
              "</tbody>\n",
              "</table>\n"
            ],
            "text/markdown": "\nA data.frame: 1 × 19\n\n| <!--/--> | ride_id &lt;chr&gt; | rideable_type &lt;chr&gt; | started_at &lt;chr&gt; | ended_at &lt;chr&gt; | start_station_name &lt;chr&gt; | start_station_id &lt;chr&gt; | end_station_name &lt;chr&gt; | end_station_id &lt;chr&gt; | start_lat &lt;dbl&gt; | start_lng &lt;dbl&gt; | end_lat &lt;dbl&gt; | end_lng &lt;dbl&gt; | member_casual &lt;chr&gt; | date &lt;date&gt; | month &lt;chr&gt; | day &lt;chr&gt; | year &lt;chr&gt; | day_of_week &lt;chr&gt; | duration &lt;dbl&gt; |\n|---|---|---|---|---|---|---|---|---|---|---|---|---|---|---|---|---|---|---|---|\n| 3524983 | 992B647C22E22513 | docked_bike | 2023-08-02 19:27:12 | 2023-10-10 04:56:16 | Campbell Ave &amp; Montrose Ave | 15623 | <!----> | <!----> | 41.96148 | -87.69232 | NA | NA | casual | 2023-08-02 | 08 | 02 | 2023 | Wednesday | 5909344 |\n\n",
            "text/latex": "A data.frame: 1 × 19\n\\begin{tabular}{r|lllllllllllllllllll}\n  & ride\\_id & rideable\\_type & started\\_at & ended\\_at & start\\_station\\_name & start\\_station\\_id & end\\_station\\_name & end\\_station\\_id & start\\_lat & start\\_lng & end\\_lat & end\\_lng & member\\_casual & date & month & day & year & day\\_of\\_week & duration\\\\\n  & <chr> & <chr> & <chr> & <chr> & <chr> & <chr> & <chr> & <chr> & <dbl> & <dbl> & <dbl> & <dbl> & <chr> & <date> & <chr> & <chr> & <chr> & <chr> & <dbl>\\\\\n\\hline\n\t3524983 & 992B647C22E22513 & docked\\_bike & 2023-08-02 19:27:12 & 2023-10-10 04:56:16 & Campbell Ave \\& Montrose Ave & 15623 &  &  & 41.96148 & -87.69232 & NA & NA & casual & 2023-08-02 & 08 & 02 & 2023 & Wednesday & 5909344\\\\\n\\end{tabular}\n",
            "text/plain": [
              "        ride_id          rideable_type started_at          ended_at           \n",
              "3524983 992B647C22E22513 docked_bike   2023-08-02 19:27:12 2023-10-10 04:56:16\n",
              "        start_station_name          start_station_id end_station_name\n",
              "3524983 Campbell Ave & Montrose Ave 15623                            \n",
              "        end_station_id start_lat start_lng end_lat end_lng member_casual\n",
              "3524983                41.96148  -87.69232 NA      NA      casual       \n",
              "        date       month day year day_of_week duration\n",
              "3524983 2023-08-02 08    02  2023 Wednesday   5909344 "
            ]
          },
          "metadata": {}
        }
      ],
      "source": [
        "all_trips[all_trips$duration == maxduration,]"
      ]
    },
    {
      "cell_type": "markdown",
      "metadata": {
        "id": "qeUQq-lSSZ6w"
      },
      "source": [
        "I can see that the trip was never ended so I need to remove the trip with no end_station_name\tend_station_id\t end_lat end_lon"
      ]
    },
    {
      "cell_type": "code",
      "execution_count": 44,
      "metadata": {
        "id": "xKtGGLIEilqb",
        "outputId": "ed63d637-4502-4f10-86e4-dda0d28300ee",
        "colab": {
          "base_uri": "https://localhost:8080/",
          "height": 34
        }
      },
      "outputs": [
        {
          "output_type": "display_data",
          "data": {
            "text/html": [
              "-999391"
            ],
            "text/markdown": "-999391",
            "text/latex": "-999391",
            "text/plain": [
              "[1] -999391"
            ]
          },
          "metadata": {}
        }
      ],
      "source": [
        "min(all_trips$duration)"
      ]
    },
    {
      "cell_type": "markdown",
      "metadata": {
        "id": "Uqq8WXXOkBJf"
      },
      "source": [
        "Minimum values are negative so negative value need to be removed"
      ]
    },
    {
      "cell_type": "markdown",
      "metadata": {
        "id": "RKRoEjuB7Igf"
      },
      "source": [
        "### Create a return ride column"
      ]
    },
    {
      "cell_type": "code",
      "execution_count": 45,
      "metadata": {
        "id": "8Ej7Wlyd7Pid"
      },
      "outputs": [],
      "source": [
        "all_trips$return_ride <- all_trips$start_station_id==all_trips$end_station_id"
      ]
    },
    {
      "cell_type": "markdown",
      "metadata": {
        "id": "Q8uooQSwroXe"
      },
      "source": [
        "## I create a new version of the dataframe (v2) removing negative duration and unfinished trips\n",
        "https://www.datasciencemadesimple.com/delete-or-drop-rows-in-r-with-conditions-2/\n"
      ]
    },
    {
      "cell_type": "code",
      "execution_count": 46,
      "metadata": {
        "id": "fU9J6i66rHVT"
      },
      "outputs": [],
      "source": [
        "all_trips_v2<- all_trips[!(all_trips$end_station_name == \"\" | all_trips$duration<0),]\n"
      ]
    },
    {
      "cell_type": "markdown",
      "metadata": {
        "id": "hmnoYxMDt0uM"
      },
      "source": [
        "# STEP 3:  DESCRIPTIVE ANALYSIS\n",
        "Now the data is clean I can describe the data"
      ]
    },
    {
      "cell_type": "markdown",
      "metadata": {
        "id": "KKNQWOk1uG4l"
      },
      "source": [
        "## Descriptive analysis on duration (all figures in seconds)"
      ]
    },
    {
      "cell_type": "code",
      "execution_count": 47,
      "metadata": {
        "id": "THe4guk_sjDg",
        "outputId": "7ccd175b-d14c-4a95-96b7-c94d8ddf97d8",
        "colab": {
          "base_uri": "https://localhost:8080/",
          "height": 52
        }
      },
      "outputs": [
        {
          "output_type": "display_data",
          "data": {
            "text/plain": [
              "   Min. 1st Qu.  Median    Mean 3rd Qu.    Max. \n",
              "      0     336     584     938    1032  728178 "
            ]
          },
          "metadata": {}
        }
      ],
      "source": [
        "summary(all_trips_v2$duration)"
      ]
    },
    {
      "cell_type": "markdown",
      "metadata": {
        "id": "nVBm2aPiuW-Y"
      },
      "source": [
        "### Comparison between members and casual users"
      ]
    },
    {
      "cell_type": "code",
      "execution_count": 48,
      "metadata": {
        "id": "GwVKdRYksSbi",
        "outputId": "08c354e1-5b31-4b5b-93e9-b9fbb8fb4dc0",
        "colab": {
          "base_uri": "https://localhost:8080/",
          "height": 592
        }
      },
      "outputs": [
        {
          "output_type": "display_data",
          "data": {
            "text/html": [
              "<table class=\"dataframe\">\n",
              "<caption>A data.frame: 2 × 2</caption>\n",
              "<thead>\n",
              "\t<tr><th scope=col>all_trips_v2$member_casual</th><th scope=col>all_trips_v2$duration</th></tr>\n",
              "\t<tr><th scope=col>&lt;chr&gt;</th><th scope=col>&lt;dbl&gt;</th></tr>\n",
              "</thead>\n",
              "<tbody>\n",
              "\t<tr><td>casual</td><td>1332.8559</td></tr>\n",
              "\t<tr><td>member</td><td> 730.3676</td></tr>\n",
              "</tbody>\n",
              "</table>\n"
            ],
            "text/markdown": "\nA data.frame: 2 × 2\n\n| all_trips_v2$member_casual &lt;chr&gt; | all_trips_v2$duration &lt;dbl&gt; |\n|---|---|\n| casual | 1332.8559 |\n| member |  730.3676 |\n\n",
            "text/latex": "A data.frame: 2 × 2\n\\begin{tabular}{ll}\n all\\_trips\\_v2\\$member\\_casual & all\\_trips\\_v2\\$duration\\\\\n <chr> & <dbl>\\\\\n\\hline\n\t casual & 1332.8559\\\\\n\t member &  730.3676\\\\\n\\end{tabular}\n",
            "text/plain": [
              "  all_trips_v2$member_casual all_trips_v2$duration\n",
              "1 casual                     1332.8559            \n",
              "2 member                      730.3676            "
            ]
          },
          "metadata": {}
        },
        {
          "output_type": "display_data",
          "data": {
            "text/html": [
              "<table class=\"dataframe\">\n",
              "<caption>A data.frame: 2 × 2</caption>\n",
              "<thead>\n",
              "\t<tr><th scope=col>all_trips_v2$member_casual</th><th scope=col>all_trips_v2$duration</th></tr>\n",
              "\t<tr><th scope=col>&lt;chr&gt;</th><th scope=col>&lt;dbl&gt;</th></tr>\n",
              "</thead>\n",
              "<tbody>\n",
              "\t<tr><td>casual</td><td>749</td></tr>\n",
              "\t<tr><td>member</td><td>519</td></tr>\n",
              "</tbody>\n",
              "</table>\n"
            ],
            "text/markdown": "\nA data.frame: 2 × 2\n\n| all_trips_v2$member_casual &lt;chr&gt; | all_trips_v2$duration &lt;dbl&gt; |\n|---|---|\n| casual | 749 |\n| member | 519 |\n\n",
            "text/latex": "A data.frame: 2 × 2\n\\begin{tabular}{ll}\n all\\_trips\\_v2\\$member\\_casual & all\\_trips\\_v2\\$duration\\\\\n <chr> & <dbl>\\\\\n\\hline\n\t casual & 749\\\\\n\t member & 519\\\\\n\\end{tabular}\n",
            "text/plain": [
              "  all_trips_v2$member_casual all_trips_v2$duration\n",
              "1 casual                     749                  \n",
              "2 member                     519                  "
            ]
          },
          "metadata": {}
        },
        {
          "output_type": "display_data",
          "data": {
            "text/html": [
              "<table class=\"dataframe\">\n",
              "<caption>A data.frame: 2 × 2</caption>\n",
              "<thead>\n",
              "\t<tr><th scope=col>all_trips_v2$member_casual</th><th scope=col>all_trips_v2$duration</th></tr>\n",
              "\t<tr><th scope=col>&lt;chr&gt;</th><th scope=col>&lt;dbl&gt;</th></tr>\n",
              "</thead>\n",
              "<tbody>\n",
              "\t<tr><td>casual</td><td>728178</td></tr>\n",
              "\t<tr><td>member</td><td> 89859</td></tr>\n",
              "</tbody>\n",
              "</table>\n"
            ],
            "text/markdown": "\nA data.frame: 2 × 2\n\n| all_trips_v2$member_casual &lt;chr&gt; | all_trips_v2$duration &lt;dbl&gt; |\n|---|---|\n| casual | 728178 |\n| member |  89859 |\n\n",
            "text/latex": "A data.frame: 2 × 2\n\\begin{tabular}{ll}\n all\\_trips\\_v2\\$member\\_casual & all\\_trips\\_v2\\$duration\\\\\n <chr> & <dbl>\\\\\n\\hline\n\t casual & 728178\\\\\n\t member &  89859\\\\\n\\end{tabular}\n",
            "text/plain": [
              "  all_trips_v2$member_casual all_trips_v2$duration\n",
              "1 casual                     728178               \n",
              "2 member                      89859               "
            ]
          },
          "metadata": {}
        },
        {
          "output_type": "display_data",
          "data": {
            "text/html": [
              "<table class=\"dataframe\">\n",
              "<caption>A data.frame: 2 × 2</caption>\n",
              "<thead>\n",
              "\t<tr><th scope=col>all_trips_v2$member_casual</th><th scope=col>all_trips_v2$duration</th></tr>\n",
              "\t<tr><th scope=col>&lt;chr&gt;</th><th scope=col>&lt;dbl&gt;</th></tr>\n",
              "</thead>\n",
              "<tbody>\n",
              "\t<tr><td>casual</td><td>0</td></tr>\n",
              "\t<tr><td>member</td><td>0</td></tr>\n",
              "</tbody>\n",
              "</table>\n"
            ],
            "text/markdown": "\nA data.frame: 2 × 2\n\n| all_trips_v2$member_casual &lt;chr&gt; | all_trips_v2$duration &lt;dbl&gt; |\n|---|---|\n| casual | 0 |\n| member | 0 |\n\n",
            "text/latex": "A data.frame: 2 × 2\n\\begin{tabular}{ll}\n all\\_trips\\_v2\\$member\\_casual & all\\_trips\\_v2\\$duration\\\\\n <chr> & <dbl>\\\\\n\\hline\n\t casual & 0\\\\\n\t member & 0\\\\\n\\end{tabular}\n",
            "text/plain": [
              "  all_trips_v2$member_casual all_trips_v2$duration\n",
              "1 casual                     0                    \n",
              "2 member                     0                    "
            ]
          },
          "metadata": {}
        }
      ],
      "source": [
        "aggregate(all_trips_v2$duration ~ all_trips_v2$member_casual, FUN = mean)\n",
        "aggregate(all_trips_v2$duration~ all_trips_v2$member_casual, FUN = median)\n",
        "aggregate(all_trips_v2$duration ~ all_trips_v2$member_casual, FUN = max)\n",
        "aggregate(all_trips_v2$duration ~ all_trips_v2$member_casual, FUN = min)"
      ]
    },
    {
      "cell_type": "markdown",
      "metadata": {
        "id": "cU9e_381vB1f"
      },
      "source": [
        "Casual riders have generally longer trips than the members"
      ]
    },
    {
      "cell_type": "markdown",
      "metadata": {
        "id": "VeOZUX3hvS3w"
      },
      "source": [
        "### See the average ride duration by each day for members vs casual users"
      ]
    },
    {
      "cell_type": "code",
      "execution_count": 49,
      "metadata": {
        "id": "qlZlmrN4vNDN",
        "outputId": "29b5b0ad-7914-41ed-f984-f0bb30cdb0c5",
        "colab": {
          "base_uri": "https://localhost:8080/",
          "height": 537
        }
      },
      "outputs": [
        {
          "output_type": "display_data",
          "data": {
            "text/html": [
              "<table class=\"dataframe\">\n",
              "<caption>A data.frame: 14 × 3</caption>\n",
              "<thead>\n",
              "\t<tr><th scope=col>all_trips_v2$member_casual</th><th scope=col>all_trips_v2$day_of_week</th><th scope=col>all_trips_v2$duration</th></tr>\n",
              "\t<tr><th scope=col>&lt;chr&gt;</th><th scope=col>&lt;chr&gt;</th><th scope=col>&lt;dbl&gt;</th></tr>\n",
              "</thead>\n",
              "<tbody>\n",
              "\t<tr><td>casual</td><td>Friday   </td><td>1292.4783</td></tr>\n",
              "\t<tr><td>member</td><td>Friday   </td><td> 721.5253</td></tr>\n",
              "\t<tr><td>casual</td><td>Monday   </td><td>1316.5319</td></tr>\n",
              "\t<tr><td>member</td><td>Monday   </td><td> 698.3440</td></tr>\n",
              "\t<tr><td>casual</td><td>Saturday </td><td>1508.3311</td></tr>\n",
              "\t<tr><td>member</td><td>Saturday </td><td> 813.3619</td></tr>\n",
              "\t<tr><td>casual</td><td>Sunday   </td><td>1548.0916</td></tr>\n",
              "\t<tr><td>member</td><td>Sunday   </td><td> 811.7290</td></tr>\n",
              "\t<tr><td>casual</td><td>Thursday </td><td>1152.1301</td></tr>\n",
              "\t<tr><td>member</td><td>Thursday </td><td> 698.0070</td></tr>\n",
              "\t<tr><td>casual</td><td>Tuesday  </td><td>1204.9010</td></tr>\n",
              "\t<tr><td>member</td><td>Tuesday  </td><td> 707.9401</td></tr>\n",
              "\t<tr><td>casual</td><td>Wednesday</td><td>1136.6282</td></tr>\n",
              "\t<tr><td>member</td><td>Wednesday</td><td> 701.6413</td></tr>\n",
              "</tbody>\n",
              "</table>\n"
            ],
            "text/markdown": "\nA data.frame: 14 × 3\n\n| all_trips_v2$member_casual &lt;chr&gt; | all_trips_v2$day_of_week &lt;chr&gt; | all_trips_v2$duration &lt;dbl&gt; |\n|---|---|---|\n| casual | Friday    | 1292.4783 |\n| member | Friday    |  721.5253 |\n| casual | Monday    | 1316.5319 |\n| member | Monday    |  698.3440 |\n| casual | Saturday  | 1508.3311 |\n| member | Saturday  |  813.3619 |\n| casual | Sunday    | 1548.0916 |\n| member | Sunday    |  811.7290 |\n| casual | Thursday  | 1152.1301 |\n| member | Thursday  |  698.0070 |\n| casual | Tuesday   | 1204.9010 |\n| member | Tuesday   |  707.9401 |\n| casual | Wednesday | 1136.6282 |\n| member | Wednesday |  701.6413 |\n\n",
            "text/latex": "A data.frame: 14 × 3\n\\begin{tabular}{lll}\n all\\_trips\\_v2\\$member\\_casual & all\\_trips\\_v2\\$day\\_of\\_week & all\\_trips\\_v2\\$duration\\\\\n <chr> & <chr> & <dbl>\\\\\n\\hline\n\t casual & Friday    & 1292.4783\\\\\n\t member & Friday    &  721.5253\\\\\n\t casual & Monday    & 1316.5319\\\\\n\t member & Monday    &  698.3440\\\\\n\t casual & Saturday  & 1508.3311\\\\\n\t member & Saturday  &  813.3619\\\\\n\t casual & Sunday    & 1548.0916\\\\\n\t member & Sunday    &  811.7290\\\\\n\t casual & Thursday  & 1152.1301\\\\\n\t member & Thursday  &  698.0070\\\\\n\t casual & Tuesday   & 1204.9010\\\\\n\t member & Tuesday   &  707.9401\\\\\n\t casual & Wednesday & 1136.6282\\\\\n\t member & Wednesday &  701.6413\\\\\n\\end{tabular}\n",
            "text/plain": [
              "   all_trips_v2$member_casual all_trips_v2$day_of_week all_trips_v2$duration\n",
              "1  casual                     Friday                   1292.4783            \n",
              "2  member                     Friday                    721.5253            \n",
              "3  casual                     Monday                   1316.5319            \n",
              "4  member                     Monday                    698.3440            \n",
              "5  casual                     Saturday                 1508.3311            \n",
              "6  member                     Saturday                  813.3619            \n",
              "7  casual                     Sunday                   1548.0916            \n",
              "8  member                     Sunday                    811.7290            \n",
              "9  casual                     Thursday                 1152.1301            \n",
              "10 member                     Thursday                  698.0070            \n",
              "11 casual                     Tuesday                  1204.9010            \n",
              "12 member                     Tuesday                   707.9401            \n",
              "13 casual                     Wednesday                1136.6282            \n",
              "14 member                     Wednesday                 701.6413            "
            ]
          },
          "metadata": {}
        }
      ],
      "source": [
        "aggregate(all_trips_v2$duration ~ all_trips_v2$member_casual + all_trips_v2$day_of_week,\n",
        "FUN = mean)"
      ]
    },
    {
      "cell_type": "markdown",
      "metadata": {
        "id": "HNJDIFiAvyRj"
      },
      "source": [
        "Let's reorder the days of the week"
      ]
    },
    {
      "cell_type": "code",
      "execution_count": 50,
      "metadata": {
        "id": "FtcoGY6vv3s9"
      },
      "outputs": [],
      "source": [
        "all_trips_v2$day_of_week <- ordered(all_trips_v2$day_of_week, levels=c(\"Sunday\", \"Monday\",\n",
        "\"Tuesday\", \"Wednesday\", \"Thursday\", \"Friday\", \"Saturday\"))"
      ]
    },
    {
      "cell_type": "markdown",
      "metadata": {
        "id": "tfF3XN2gwC8g"
      },
      "source": [
        "Let's plot the ordered results"
      ]
    },
    {
      "cell_type": "code",
      "execution_count": 51,
      "metadata": {
        "id": "Ke0fl_pKwGWY",
        "outputId": "60dd2265-f6dd-4b66-b60a-8f3704329a1d",
        "colab": {
          "base_uri": "https://localhost:8080/",
          "height": 537
        }
      },
      "outputs": [
        {
          "output_type": "display_data",
          "data": {
            "text/html": [
              "<table class=\"dataframe\">\n",
              "<caption>A data.frame: 14 × 3</caption>\n",
              "<thead>\n",
              "\t<tr><th scope=col>all_trips_v2$member_casual</th><th scope=col>all_trips_v2$day_of_week</th><th scope=col>all_trips_v2$duration</th></tr>\n",
              "\t<tr><th scope=col>&lt;chr&gt;</th><th scope=col>&lt;ord&gt;</th><th scope=col>&lt;dbl&gt;</th></tr>\n",
              "</thead>\n",
              "<tbody>\n",
              "\t<tr><td>casual</td><td>Sunday   </td><td>1548.0916</td></tr>\n",
              "\t<tr><td>member</td><td>Sunday   </td><td> 811.7290</td></tr>\n",
              "\t<tr><td>casual</td><td>Monday   </td><td>1316.5319</td></tr>\n",
              "\t<tr><td>member</td><td>Monday   </td><td> 698.3440</td></tr>\n",
              "\t<tr><td>casual</td><td>Tuesday  </td><td>1204.9010</td></tr>\n",
              "\t<tr><td>member</td><td>Tuesday  </td><td> 707.9401</td></tr>\n",
              "\t<tr><td>casual</td><td>Wednesday</td><td>1136.6282</td></tr>\n",
              "\t<tr><td>member</td><td>Wednesday</td><td> 701.6413</td></tr>\n",
              "\t<tr><td>casual</td><td>Thursday </td><td>1152.1301</td></tr>\n",
              "\t<tr><td>member</td><td>Thursday </td><td> 698.0070</td></tr>\n",
              "\t<tr><td>casual</td><td>Friday   </td><td>1292.4783</td></tr>\n",
              "\t<tr><td>member</td><td>Friday   </td><td> 721.5253</td></tr>\n",
              "\t<tr><td>casual</td><td>Saturday </td><td>1508.3311</td></tr>\n",
              "\t<tr><td>member</td><td>Saturday </td><td> 813.3619</td></tr>\n",
              "</tbody>\n",
              "</table>\n"
            ],
            "text/markdown": "\nA data.frame: 14 × 3\n\n| all_trips_v2$member_casual &lt;chr&gt; | all_trips_v2$day_of_week &lt;ord&gt; | all_trips_v2$duration &lt;dbl&gt; |\n|---|---|---|\n| casual | Sunday    | 1548.0916 |\n| member | Sunday    |  811.7290 |\n| casual | Monday    | 1316.5319 |\n| member | Monday    |  698.3440 |\n| casual | Tuesday   | 1204.9010 |\n| member | Tuesday   |  707.9401 |\n| casual | Wednesday | 1136.6282 |\n| member | Wednesday |  701.6413 |\n| casual | Thursday  | 1152.1301 |\n| member | Thursday  |  698.0070 |\n| casual | Friday    | 1292.4783 |\n| member | Friday    |  721.5253 |\n| casual | Saturday  | 1508.3311 |\n| member | Saturday  |  813.3619 |\n\n",
            "text/latex": "A data.frame: 14 × 3\n\\begin{tabular}{lll}\n all\\_trips\\_v2\\$member\\_casual & all\\_trips\\_v2\\$day\\_of\\_week & all\\_trips\\_v2\\$duration\\\\\n <chr> & <ord> & <dbl>\\\\\n\\hline\n\t casual & Sunday    & 1548.0916\\\\\n\t member & Sunday    &  811.7290\\\\\n\t casual & Monday    & 1316.5319\\\\\n\t member & Monday    &  698.3440\\\\\n\t casual & Tuesday   & 1204.9010\\\\\n\t member & Tuesday   &  707.9401\\\\\n\t casual & Wednesday & 1136.6282\\\\\n\t member & Wednesday &  701.6413\\\\\n\t casual & Thursday  & 1152.1301\\\\\n\t member & Thursday  &  698.0070\\\\\n\t casual & Friday    & 1292.4783\\\\\n\t member & Friday    &  721.5253\\\\\n\t casual & Saturday  & 1508.3311\\\\\n\t member & Saturday  &  813.3619\\\\\n\\end{tabular}\n",
            "text/plain": [
              "   all_trips_v2$member_casual all_trips_v2$day_of_week all_trips_v2$duration\n",
              "1  casual                     Sunday                   1548.0916            \n",
              "2  member                     Sunday                    811.7290            \n",
              "3  casual                     Monday                   1316.5319            \n",
              "4  member                     Monday                    698.3440            \n",
              "5  casual                     Tuesday                  1204.9010            \n",
              "6  member                     Tuesday                   707.9401            \n",
              "7  casual                     Wednesday                1136.6282            \n",
              "8  member                     Wednesday                 701.6413            \n",
              "9  casual                     Thursday                 1152.1301            \n",
              "10 member                     Thursday                  698.0070            \n",
              "11 casual                     Friday                   1292.4783            \n",
              "12 member                     Friday                    721.5253            \n",
              "13 casual                     Saturday                 1508.3311            \n",
              "14 member                     Saturday                  813.3619            "
            ]
          },
          "metadata": {}
        }
      ],
      "source": [
        "aggregate(all_trips_v2$duration ~ all_trips_v2$member_casual + all_trips_v2$day_of_week,\n",
        "FUN = mean)"
      ]
    },
    {
      "cell_type": "markdown",
      "metadata": {
        "id": "Q2Y_CoDnwOaR"
      },
      "source": [
        "Casual members are having longer rides in average each day of the week"
      ]
    },
    {
      "cell_type": "markdown",
      "metadata": {
        "id": "fYfELsILwiQ-"
      },
      "source": [
        "## analyze ridership data by rider type and weekday\n"
      ]
    },
    {
      "cell_type": "code",
      "execution_count": 52,
      "metadata": {
        "id": "zUnVAuzrwk7n",
        "outputId": "1b4bec78-94a1-4c85-c9fc-b68993a80a5a",
        "colab": {
          "base_uri": "https://localhost:8080/",
          "height": 572
        }
      },
      "outputs": [
        {
          "output_type": "stream",
          "name": "stderr",
          "text": [
            "\u001b[1m\u001b[22m`summarise()` has grouped output by 'member_casual'. You can override using the\n",
            "`.groups` argument.\n"
          ]
        },
        {
          "output_type": "display_data",
          "data": {
            "text/html": [
              "<table class=\"dataframe\">\n",
              "<caption>A grouped_df: 14 × 4</caption>\n",
              "<thead>\n",
              "\t<tr><th scope=col>member_casual</th><th scope=col>weekday</th><th scope=col>number_of_rides</th><th scope=col>average_duration</th></tr>\n",
              "\t<tr><th scope=col>&lt;chr&gt;</th><th scope=col>&lt;ord&gt;</th><th scope=col>&lt;int&gt;</th><th scope=col>&lt;dbl&gt;</th></tr>\n",
              "</thead>\n",
              "<tbody>\n",
              "\t<tr><td>casual</td><td>Sun</td><td>283748</td><td>1548.0916</td></tr>\n",
              "\t<tr><td>casual</td><td>Mon</td><td>199131</td><td>1316.5319</td></tr>\n",
              "\t<tr><td>casual</td><td>Tue</td><td>205721</td><td>1204.9010</td></tr>\n",
              "\t<tr><td>casual</td><td>Wed</td><td>209440</td><td>1136.6282</td></tr>\n",
              "\t<tr><td>casual</td><td>Thu</td><td>229151</td><td>1152.1301</td></tr>\n",
              "\t<tr><td>casual</td><td>Fri</td><td>259438</td><td>1292.4783</td></tr>\n",
              "\t<tr><td>casual</td><td>Sat</td><td>350408</td><td>1508.3311</td></tr>\n",
              "\t<tr><td>member</td><td>Sun</td><td>358282</td><td> 811.7290</td></tr>\n",
              "\t<tr><td>member</td><td>Mon</td><td>455402</td><td> 698.3440</td></tr>\n",
              "\t<tr><td>member</td><td>Tue</td><td>519568</td><td> 707.9401</td></tr>\n",
              "\t<tr><td>member</td><td>Wed</td><td>539851</td><td> 701.6413</td></tr>\n",
              "\t<tr><td>member</td><td>Thu</td><td>544900</td><td> 698.0070</td></tr>\n",
              "\t<tr><td>member</td><td>Fri</td><td>471539</td><td> 721.5253</td></tr>\n",
              "\t<tr><td>member</td><td>Sat</td><td>414445</td><td> 813.3619</td></tr>\n",
              "</tbody>\n",
              "</table>\n"
            ],
            "text/markdown": "\nA grouped_df: 14 × 4\n\n| member_casual &lt;chr&gt; | weekday &lt;ord&gt; | number_of_rides &lt;int&gt; | average_duration &lt;dbl&gt; |\n|---|---|---|---|\n| casual | Sun | 283748 | 1548.0916 |\n| casual | Mon | 199131 | 1316.5319 |\n| casual | Tue | 205721 | 1204.9010 |\n| casual | Wed | 209440 | 1136.6282 |\n| casual | Thu | 229151 | 1152.1301 |\n| casual | Fri | 259438 | 1292.4783 |\n| casual | Sat | 350408 | 1508.3311 |\n| member | Sun | 358282 |  811.7290 |\n| member | Mon | 455402 |  698.3440 |\n| member | Tue | 519568 |  707.9401 |\n| member | Wed | 539851 |  701.6413 |\n| member | Thu | 544900 |  698.0070 |\n| member | Fri | 471539 |  721.5253 |\n| member | Sat | 414445 |  813.3619 |\n\n",
            "text/latex": "A grouped\\_df: 14 × 4\n\\begin{tabular}{llll}\n member\\_casual & weekday & number\\_of\\_rides & average\\_duration\\\\\n <chr> & <ord> & <int> & <dbl>\\\\\n\\hline\n\t casual & Sun & 283748 & 1548.0916\\\\\n\t casual & Mon & 199131 & 1316.5319\\\\\n\t casual & Tue & 205721 & 1204.9010\\\\\n\t casual & Wed & 209440 & 1136.6282\\\\\n\t casual & Thu & 229151 & 1152.1301\\\\\n\t casual & Fri & 259438 & 1292.4783\\\\\n\t casual & Sat & 350408 & 1508.3311\\\\\n\t member & Sun & 358282 &  811.7290\\\\\n\t member & Mon & 455402 &  698.3440\\\\\n\t member & Tue & 519568 &  707.9401\\\\\n\t member & Wed & 539851 &  701.6413\\\\\n\t member & Thu & 544900 &  698.0070\\\\\n\t member & Fri & 471539 &  721.5253\\\\\n\t member & Sat & 414445 &  813.3619\\\\\n\\end{tabular}\n",
            "text/plain": [
              "   member_casual weekday number_of_rides average_duration\n",
              "1  casual        Sun     283748          1548.0916       \n",
              "2  casual        Mon     199131          1316.5319       \n",
              "3  casual        Tue     205721          1204.9010       \n",
              "4  casual        Wed     209440          1136.6282       \n",
              "5  casual        Thu     229151          1152.1301       \n",
              "6  casual        Fri     259438          1292.4783       \n",
              "7  casual        Sat     350408          1508.3311       \n",
              "8  member        Sun     358282           811.7290       \n",
              "9  member        Mon     455402           698.3440       \n",
              "10 member        Tue     519568           707.9401       \n",
              "11 member        Wed     539851           701.6413       \n",
              "12 member        Thu     544900           698.0070       \n",
              "13 member        Fri     471539           721.5253       \n",
              "14 member        Sat     414445           813.3619       "
            ]
          },
          "metadata": {}
        }
      ],
      "source": [
        "all_trips_v2 %>%\n",
        "  mutate(weekday = wday(started_at, label = TRUE)) %>% #creates weekday field using wday()\n",
        "  group_by(member_casual, weekday) %>% #groups by usertype and weekday\n",
        "  summarise(number_of_rides = n() #calculates the number of rides and average duration\n",
        "            ,average_duration = mean(duration)) %>% # calculates the average duration\n",
        "  arrange(member_casual, weekday) # sorts"
      ]
    },
    {
      "cell_type": "markdown",
      "metadata": {
        "id": "m4lRM19F0lAU"
      },
      "source": [
        "### Let's visualize the number of rides by rider type"
      ]
    },
    {
      "cell_type": "code",
      "execution_count": 53,
      "metadata": {
        "id": "g1J-JVMG0gSn",
        "outputId": "4dd1b052-1b1a-406f-9845-2aee8529a55e",
        "colab": {
          "base_uri": "https://localhost:8080/",
          "height": 472
        }
      },
      "outputs": [
        {
          "output_type": "stream",
          "name": "stderr",
          "text": [
            "\u001b[1m\u001b[22m`summarise()` has grouped output by 'member_casual'. You can override using the\n",
            "`.groups` argument.\n"
          ]
        },
        {
          "output_type": "display_data",
          "data": {
            "text/plain": [
              "plot without title"
            ],
            "image/png": "[encoded data removed]"
          },
          "metadata": {
            "image/png": {
              "width": 420,
              "height": 420
            }
          }
        }
      ],
      "source": [
        "all_trips_v2 %>%\n",
        "  mutate(weekday = wday(started_at, label = TRUE)) %>%\n",
        "  group_by(member_casual, weekday) %>%\n",
        "  summarise(number_of_rides = n()\n",
        "            ,average_duration = mean(duration)) %>%\n",
        "  arrange(member_casual, weekday) %>%\n",
        "  ggplot(aes(x = weekday, y = number_of_rides, fill = member_casual)) +\n",
        "  geom_col(position = \"dodge\")"
      ]
    },
    {
      "cell_type": "markdown",
      "metadata": {
        "id": "E3Tyeo6e2PT5"
      },
      "source": [
        "we can see a clear increase in the casual member bike usage over the weekend"
      ]
    },
    {
      "cell_type": "markdown",
      "metadata": {
        "id": "iSm159573Ge1"
      },
      "source": [
        "## analyze ridership data by rider type and rideable type"
      ]
    },
    {
      "cell_type": "code",
      "execution_count": 54,
      "metadata": {
        "id": "Gnoc5-3t3ShN",
        "outputId": "4d2755e5-a0ae-4b66-c13c-380301c80787",
        "colab": {
          "base_uri": "https://localhost:8080/",
          "height": 290
        }
      },
      "outputs": [
        {
          "output_type": "stream",
          "name": "stderr",
          "text": [
            "\u001b[1m\u001b[22m`summarise()` has grouped output by 'member_casual'. You can override using the\n",
            "`.groups` argument.\n"
          ]
        },
        {
          "output_type": "display_data",
          "data": {
            "text/html": [
              "<table class=\"dataframe\">\n",
              "<caption>A grouped_df: 5 × 4</caption>\n",
              "<thead>\n",
              "\t<tr><th scope=col>member_casual</th><th scope=col>rideable_type</th><th scope=col>number_of_rides</th><th scope=col>average_duration</th></tr>\n",
              "\t<tr><th scope=col>&lt;chr&gt;</th><th scope=col>&lt;chr&gt;</th><th scope=col>&lt;int&gt;</th><th scope=col>&lt;dbl&gt;</th></tr>\n",
              "</thead>\n",
              "<tbody>\n",
              "\t<tr><td>casual</td><td>classic_bike </td><td> 920941</td><td>1552.8035</td></tr>\n",
              "\t<tr><td>casual</td><td>docked_bike  </td><td>  72407</td><td>3278.7998</td></tr>\n",
              "\t<tr><td>casual</td><td>electric_bike</td><td> 743689</td><td> 871.0249</td></tr>\n",
              "\t<tr><td>member</td><td>classic_bike </td><td>1954225</td><td> 784.6064</td></tr>\n",
              "\t<tr><td>member</td><td>electric_bike</td><td>1349762</td><td> 651.8391</td></tr>\n",
              "</tbody>\n",
              "</table>\n"
            ],
            "text/markdown": "\nA grouped_df: 5 × 4\n\n| member_casual &lt;chr&gt; | rideable_type &lt;chr&gt; | number_of_rides &lt;int&gt; | average_duration &lt;dbl&gt; |\n|---|---|---|---|\n| casual | classic_bike  |  920941 | 1552.8035 |\n| casual | docked_bike   |   72407 | 3278.7998 |\n| casual | electric_bike |  743689 |  871.0249 |\n| member | classic_bike  | 1954225 |  784.6064 |\n| member | electric_bike | 1349762 |  651.8391 |\n\n",
            "text/latex": "A grouped\\_df: 5 × 4\n\\begin{tabular}{llll}\n member\\_casual & rideable\\_type & number\\_of\\_rides & average\\_duration\\\\\n <chr> & <chr> & <int> & <dbl>\\\\\n\\hline\n\t casual & classic\\_bike  &  920941 & 1552.8035\\\\\n\t casual & docked\\_bike   &   72407 & 3278.7998\\\\\n\t casual & electric\\_bike &  743689 &  871.0249\\\\\n\t member & classic\\_bike  & 1954225 &  784.6064\\\\\n\t member & electric\\_bike & 1349762 &  651.8391\\\\\n\\end{tabular}\n",
            "text/plain": [
              "  member_casual rideable_type number_of_rides average_duration\n",
              "1 casual        classic_bike   920941         1552.8035       \n",
              "2 casual        docked_bike     72407         3278.7998       \n",
              "3 casual        electric_bike  743689          871.0249       \n",
              "4 member        classic_bike  1954225          784.6064       \n",
              "5 member        electric_bike 1349762          651.8391       "
            ]
          },
          "metadata": {}
        }
      ],
      "source": [
        "all_trips_v2 %>%\n",
        "  group_by(member_casual, rideable_type) %>% #groups by usertype and rideable_type\n",
        "  summarise(number_of_rides = n() #calculates the number of rides and average duration\n",
        "            ,average_duration = mean(duration)) %>% # calculates the average duration\n",
        "  arrange(member_casual, rideable_type) # sorts"
      ]
    },
    {
      "cell_type": "markdown",
      "metadata": {
        "id": "TvM4mQeI3u9g"
      },
      "source": [
        "### Let's visualize the number of rides by rider type"
      ]
    },
    {
      "cell_type": "code",
      "execution_count": 55,
      "metadata": {
        "id": "2BBirY9034b_",
        "outputId": "c88c3f4b-3bc4-469c-d956-921bb86c565d",
        "colab": {
          "base_uri": "https://localhost:8080/",
          "height": 472
        }
      },
      "outputs": [
        {
          "output_type": "stream",
          "name": "stderr",
          "text": [
            "\u001b[1m\u001b[22m`summarise()` has grouped output by 'member_casual'. You can override using the\n",
            "`.groups` argument.\n"
          ]
        },
        {
          "output_type": "display_data",
          "data": {
            "text/plain": [
              "plot without title"
            ],
            "image/png": "[encoded data removed]"
          },
          "metadata": {
            "image/png": {
              "width": 420,
              "height": 420
            }
          }
        }
      ],
      "source": [
        "all_trips_v2 %>%\n",
        "  group_by(member_casual, rideable_type) %>% #groups by usertype and rideable_type\n",
        "  summarise(number_of_rides = n()\n",
        "            ,average_duration = mean(duration)) %>%\n",
        "  arrange(member_casual, rideable_type) %>%\n",
        "  ggplot(aes(x = rideable_type, y = number_of_rides,\n",
        " fill = member_casual)) +\n",
        "  geom_col(position = \"dodge\")"
      ]
    },
    {
      "cell_type": "markdown",
      "metadata": {
        "id": "w-SCTyWJ4GaF"
      },
      "source": [
        "Only casual member use docked bikes otherwise, the rideable_type distribution between classic_bike and electric_bike seems independent of membership type"
      ]
    },
    {
      "cell_type": "markdown",
      "metadata": {
        "id": "EZ5aDOaLA6y2"
      },
      "source": [
        "## analyze ridership data by rider type and retrun ride"
      ]
    },
    {
      "cell_type": "code",
      "execution_count": 56,
      "metadata": {
        "id": "GxmXIs4FA-Kp",
        "outputId": "c25814b4-b3d9-49b9-8135-d355a56e9a99",
        "colab": {
          "base_uri": "https://localhost:8080/",
          "height": 472
        }
      },
      "outputs": [
        {
          "output_type": "stream",
          "name": "stderr",
          "text": [
            "\u001b[1m\u001b[22m`summarise()` has grouped output by 'member_casual'. You can override using the\n",
            "`.groups` argument.\n"
          ]
        },
        {
          "output_type": "display_data",
          "data": {
            "text/plain": [
              "plot without title"
            ],
            "image/png": "[encoded data removed]"
          },
          "metadata": {
            "image/png": {
              "width": 420,
              "height": 420
            }
          }
        }
      ],
      "source": [
        "all_trips_v2 %>%\n",
        "  group_by(member_casual, return_ride) %>% #groups by usertype and rideable_type\n",
        "  summarise(number_of_rides = n()\n",
        "            ,average_duration = mean(duration)) %>%\n",
        "  arrange(member_casual, return_ride) %>%\n",
        "  ggplot(aes(x = member_casual, y = number_of_rides,\n",
        " fill = return_ride)) +\n",
        "geom_col(position = \"dodge\")"
      ]
    },
    {
      "cell_type": "markdown",
      "metadata": {
        "id": "CcgucHsnBS_F"
      },
      "source": [
        "Memebers and casual rider rarely return their bikes at the same station"
      ]
    },
    {
      "cell_type": "markdown",
      "metadata": {
        "id": "3kiIo2GD5mlt"
      },
      "source": [
        "# STEP 4: EXPORT SUMMARY FILE FOR FURTHER ANALYSIS"
      ]
    },
    {
      "cell_type": "code",
      "execution_count": null,
      "metadata": {
        "colab": {
          "background_save": true
        },
        "id": "EKAmi9pacFmF"
      },
      "outputs": [],
      "source": [
        "# Create a csv file that we will visualize in Excel, Tableau, or my presentation software\n",
        "# N.B.: This file location is for a Mac. If you are working on a PC, change the file location accordingly (most likely \"C:\\Users\\YOUR_USERNAME\\Desktop\\...\") to export the data. You can read more here: https://datatofish.com/export-dataframe-to-csv-in-r/\n",
        "counts <- aggregate(all_trips_v2$duration ~ all_trips_v2$member_casual + all_trips_v2$day_of_week + all_trips_v2$rideable_type + all_trips_v2$return_ride + all_trips_v2$start_lat + all_trips_v2$start_lng+ all_trips_v2$end_lat + all_trips_v2$end_lng, FUN = mean)\n",
        "write.csv(counts, file = 'avg_ride_length.csv')\n"
      ]
    },
    {
      "cell_type": "markdown",
      "source": [
        "# STEP 5: Tableau [Dashboard](https://public.tableau.com/views/Google-data-analytic-Capstone-project/Dashboard1?:language=pt-BR&:sid=&:display_count=n&:origin=viz_share_link)"
      ],
      "metadata": {
        "id": "t16MB3l98-yt"
      }
    }
  ],
  "metadata": {
    "colab": {
      "provenance": [],
      "authorship_tag": "ABX9TyNPSy96o/0KnqeL8yANggjm",
      "include_colab_link": true
    },
    "kernelspec": {
      "display_name": "R",
      "name": "ir"
    },
    "language_info": {
      "name": "R"
    }
  },
  "nbformat": 4,
  "nbformat_minor": 0
}
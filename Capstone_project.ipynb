{
  "cells": [
    {
      "cell_type": "markdown",
      "metadata": {
        "id": "view-in-github",
        "colab_type": "text"
      },
      "source": [
        "<a href=\"https://colab.research.google.com/github/gbessardon/r-capstone-project/blob/main/Capstone_project.ipynb\" target=\"_parent\"><img src=\"https://colab.research.google.com/assets/colab-badge.svg\" alt=\"Open In Colab\"/></a>"
      ]
    },
    {
      "cell_type": "markdown",
      "metadata": {
        "id": "XiiuPiZ8yjBP"
      },
      "source": [
        "# Case study: Howdoesabike-share navigate speedy success?![Captura de ecrã 2024-04-10 171620.png](data:image/png;base64,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)\n",
        "\n",
        "For this capstone project I am in a scenario where I need to analyse the data from a bike share company cyclistic that would like to convert casual members into annual members.\n",
        "For this the company needs to understand how the casual members differ from annual members and that is the question I am aiming to reply here."
      ]
    },
    {
      "cell_type": "markdown",
      "metadata": {
        "id": "Epf1UCUDT0NI"
      },
      "source": [
        "## STEP 0: IMPORT LIBRARIES"
      ]
    },
    {
      "cell_type": "code",
      "execution_count": 1,
      "metadata": {
        "colab": {
          "base_uri": "https://localhost:8080/"
        },
        "id": "yd_X7T8qTmRM",
        "outputId": "a3c37f11-56e5-48d0-caee-26128d63c1b9"
      },
      "outputs": [
        {
          "output_type": "stream",
          "name": "stderr",
          "text": [
            "── \u001b[1mAttaching core tidyverse packages\u001b[22m ──────────────────────── tidyverse 2.0.0 ──\n",
            "\u001b[32m✔\u001b[39m \u001b[34mdplyr    \u001b[39m 1.1.4     \u001b[32m✔\u001b[39m \u001b[34mreadr    \u001b[39m 2.1.5\n",
            "\u001b[32m✔\u001b[39m \u001b[34mforcats  \u001b[39m 1.0.0     \u001b[32m✔\u001b[39m \u001b[34mstringr  \u001b[39m 1.5.1\n",
            "\u001b[32m✔\u001b[39m \u001b[34mggplot2  \u001b[39m 3.4.4     \u001b[32m✔\u001b[39m \u001b[34mtibble   \u001b[39m 3.2.1\n",
            "\u001b[32m✔\u001b[39m \u001b[34mlubridate\u001b[39m 1.9.3     \u001b[32m✔\u001b[39m \u001b[34mtidyr    \u001b[39m 1.3.1\n",
            "\u001b[32m✔\u001b[39m \u001b[34mpurrr    \u001b[39m 1.0.2     \n",
            "── \u001b[1mConflicts\u001b[22m ────────────────────────────────────────── tidyverse_conflicts() ──\n",
            "\u001b[31m✖\u001b[39m \u001b[34mdplyr\u001b[39m::\u001b[32mfilter()\u001b[39m masks \u001b[34mstats\u001b[39m::filter()\n",
            "\u001b[31m✖\u001b[39m \u001b[34mdplyr\u001b[39m::\u001b[32mlag()\u001b[39m    masks \u001b[34mstats\u001b[39m::lag()\n",
            "\u001b[36mℹ\u001b[39m Use the conflicted package (\u001b[3m\u001b[34m<http://conflicted.r-lib.org/>\u001b[39m\u001b[23m) to force all conflicts to become errors\n",
            "Using libcurl 7.81.0 with OpenSSL/3.0.2\n",
            "\n",
            "\u001b[1m\u001b[22m\u001b[90m[conflicted]\u001b[39m Will prefer \u001b[1m\u001b[34mdplyr\u001b[39m\u001b[22m::filter over any other package.\n",
            "\u001b[1m\u001b[22m\u001b[90m[conflicted]\u001b[39m Will prefer \u001b[1m\u001b[34mdplyr\u001b[39m\u001b[22m::lag over any other package.\n"
          ]
        }
      ],
      "source": [
        "library(tidyverse)  #helps wrangle data\n",
        "# Use the conflicted package to manage conflicts\n",
        "library(conflicted)\n",
        "library(curl)\n",
        "\n",
        "# Set dplyr::filter and dplyr::lag as the default choices\n",
        "conflict_prefer(\"filter\", \"dplyr\")\n",
        "conflict_prefer(\"lag\", \"dplyr\")\n"
      ]
    },
    {
      "cell_type": "markdown",
      "metadata": {
        "id": "gYokTFW9T72L"
      },
      "source": [
        "# STEP 1: DOWNLOAD DATA\n"
      ]
    },
    {
      "cell_type": "code",
      "execution_count": null,
      "metadata": {
        "colab": {
          "base_uri": "https://localhost:8080/"
        },
        "id": "rtR8_1ZWT-ir",
        "outputId": "22fc79c7-f91f-485c-c26d-cc85e858855f"
      },
      "outputs": [
        {
          "output_type": "stream",
          "name": "stdout",
          "text": [
            "[1] \"The file does not exist.\"\n",
            "[1] \"The file does not exist.\"\n"
          ]
        }
      ],
      "source": [
        "# List of URLs for the zip files\n",
        "zip_urls <- c(\n",
        "  \"https://divvy-tripdata.s3.amazonaws.com/202303-divvy-tripdata.zip\",\n",
        "  \"https://divvy-tripdata.s3.amazonaws.com/202304-divvy-tripdata.zip\",\n",
        "  \"https://divvy-tripdata.s3.amazonaws.com/202305-divvy-tripdata.zip\",\n",
        "  \"https://divvy-tripdata.s3.amazonaws.com/202306-divvy-tripdata.zip\",\n",
        "  \"https://divvy-tripdata.s3.amazonaws.com/202307-divvy-tripdata.zip\",\n",
        "  \"https://divvy-tripdata.s3.amazonaws.com/202308-divvy-tripdata.zip\",\n",
        "  \"https://divvy-tripdata.s3.amazonaws.com/202309-divvy-tripdata.zip\",\n",
        "  \"https://divvy-tripdata.s3.amazonaws.com/202310-divvy-tripdata.zip\",\n",
        "  \"https://divvy-tripdata.s3.amazonaws.com/202311-divvy-tripdata.zip\",\n",
        "  \"https://divvy-tripdata.s3.amazonaws.com/202312-divvy-tripdata.zip\",\n",
        "  \"https://divvy-tripdata.s3.amazonaws.com/202401-divvy-tripdata.zip\",\n",
        "  \"https://divvy-tripdata.s3.amazonaws.com/202402-divvy-tripdata.zip\",\n",
        "  \"https://divvy-tripdata.s3.amazonaws.com/202403-divvy-tripdata.zip\"\n",
        "\n",
        ")\n",
        "\n",
        "# Create a function to download and extract a zip file\n",
        "download_and_extract <- function(url) {\n",
        "  # Create the csv_file\n",
        "  extracted_file <- gsub(\".*/(\\\\d{6}-divvy-tripdata)\\\\.zip\", \"\\\\1.csv\", url)\n",
        "  if (file.exists(extracted_file)) {\n",
        "    print(\"The file exists!\")\n",
        "    data <- read.table(extracted_file, sep = \",\", header = TRUE)\n",
        "    }\n",
        "    else {\n",
        "      print(\"The file does not exist.\")\n",
        "      # Create a temporary file to store the downloaded zip file\n",
        "      temp_file <- tempfile()\n",
        "      # Download the zip file\n",
        "      download.file(url, temp_file, mode = \"wb\")\n",
        "      # Extract the target file from the zip archive\n",
        "      data <- read.table(unz(temp_file, extracted_file), sep = \",\", header = TRUE)\n",
        "      write.csv(data, file = extracted_file, row.names = FALSE)\n",
        "      # Clean up: remove the temporary file\n",
        "      unlink(temp_file)\n",
        "      }\n",
        "  # Return the extracted data\n",
        "  return(data)\n",
        "}\n",
        "\n",
        "# Initialize an empty list to store the extracted data frames\n",
        "all_data <- list()\n",
        "\n",
        "# Loop through the URLs and download/extract data\n",
        "for (url in zip_urls) {\n",
        "  extracted_data <- download_and_extract(url)\n",
        "  all_data[[length(all_data) + 1]] <- extracted_data\n",
        "}"
      ]
    },
    {
      "cell_type": "code",
      "execution_count": null,
      "metadata": {
        "id": "DCwgVYUdUM7T"
      },
      "outputs": [],
      "source": [
        "for (i in seq_along(all_data)) {\n",
        "  cat(\"Table\", i, \"column names:\\n\")\n",
        "  print(colnames(all_data[[i]]))\n",
        "  cat(\"\\n\")\n",
        "}"
      ]
    },
    {
      "cell_type": "code",
      "execution_count": null,
      "metadata": {
        "id": "f5Ci4xHmVpy3"
      },
      "outputs": [],
      "source": [
        "# Stack individual quarter's data frames into one big data frame\n",
        "all_trips<-bind_rows(all_data)"
      ]
    },
    {
      "cell_type": "markdown",
      "metadata": {
        "id": "rWw8SvVHbtEk"
      },
      "source": [
        "# STEP 2: CLEAN UP AND ADD DATA TO PREPARE FOR ANALYSIS"
      ]
    },
    {
      "cell_type": "markdown",
      "metadata": {
        "id": "m4j3lNw4qs1k"
      },
      "source": [
        "## Inspect the new table that has been created"
      ]
    },
    {
      "cell_type": "code",
      "execution_count": null,
      "metadata": {
        "id": "v8UvnpVLbrR1"
      },
      "outputs": [],
      "source": [
        "\n",
        "colnames(all_trips)  #List of column names\n",
        "nrow(all_trips)  #How many rows are in data frame?\n",
        "dim(all_trips)  #Dimensions of the data frame?\n",
        "head(all_trips)  #See the first 6 rows of data frame.\n",
        "tail(all_trips)  #See the last 6 rows of data frame.\n",
        "str(all_trips)  #See list of columns and data types (numeric, character, etc)\n",
        "summary(all_trips)  #Statistical summary of data. Mainly for numerics\n"
      ]
    },
    {
      "cell_type": "markdown",
      "metadata": {
        "id": "I9Vpj3gwhwU_"
      },
      "source": [
        "### In some of the project documentation there were issues with unconsistencies in the member name so I use the function unique to look at the column values"
      ]
    },
    {
      "cell_type": "code",
      "execution_count": null,
      "metadata": {
        "id": "KnbA_DF9hoMf"
      },
      "outputs": [],
      "source": [
        "unique(all_trips$member_casual)"
      ]
    },
    {
      "cell_type": "markdown",
      "metadata": {
        "id": "xPienkS-iCNM"
      },
      "source": [
        "Only two values appears which is correct"
      ]
    },
    {
      "cell_type": "markdown",
      "metadata": {
        "id": "jMz40ZMykx58"
      },
      "source": [
        "### I look at station names according to the project documentation some ride appear as \"HQ QR\" let's look at all the station list"
      ]
    },
    {
      "cell_type": "code",
      "execution_count": null,
      "metadata": {
        "id": "rUUHJoY0jc0G"
      },
      "outputs": [],
      "source": [
        "sort(unique(all_trips$start_station_name))"
      ]
    },
    {
      "cell_type": "markdown",
      "metadata": {
        "id": "eW2i-i_xlIcY"
      },
      "source": [
        "The list of unique values is very long so I should look at the number of rows with \"HQ QR\"\n"
      ]
    },
    {
      "cell_type": "code",
      "execution_count": null,
      "metadata": {
        "id": "7HUNxRyIlUmg"
      },
      "outputs": [],
      "source": [
        "all_trips[all_trips$start_station_name == \"HQ QR\",]"
      ]
    },
    {
      "cell_type": "markdown",
      "metadata": {
        "id": "hBslaAasBcuH"
      },
      "source": [
        "Good news there are no HQ QR values"
      ]
    },
    {
      "cell_type": "markdown",
      "metadata": {
        "id": "YpKXAuLyC7Dp"
      },
      "source": [
        "## Add columns that list the date, month, day, and year of each ride\n",
        "* This will allow us to aggregate ride data for each month, day, or year ... before completing these operations we could only aggregate at the ride level\n",
        "* https://www.statmethods.net/input/dates.html more on date formats in R found at that link"
      ]
    },
    {
      "cell_type": "code",
      "execution_count": null,
      "metadata": {
        "id": "a-oI5DjOC3zB"
      },
      "outputs": [],
      "source": [
        "all_trips$date <- as.Date(all_trips$started_at) #The default format is yyyy-mm-dd\n",
        "all_trips$month <- format(as.Date(all_trips$date), \"%m\")\n",
        "all_trips$day <- format(as.Date(all_trips$date), \"%d\")\n",
        "all_trips$year <- format(as.Date(all_trips$date), \"%Y\")\n",
        "all_trips$day_of_week <- format(as.Date(all_trips$date), \"%A\")"
      ]
    },
    {
      "cell_type": "markdown",
      "metadata": {
        "id": "vtPgVVKUgicN"
      },
      "source": [
        "## Create a trip duration column"
      ]
    },
    {
      "cell_type": "code",
      "execution_count": null,
      "metadata": {
        "id": "E5Zfb3ZsfnzC"
      },
      "outputs": [],
      "source": [
        "# I use the difftime function to calculate the trip duration\n",
        "all_trips$duration <- difftime(all_trips$ended_at,all_trips$started_at)\n",
        "all_trips$duration <- as.numeric(as.character(all_trips$duration))"
      ]
    },
    {
      "cell_type": "markdown",
      "metadata": {
        "id": "2deqov5IiV9M"
      },
      "source": [
        " I check if there are issues in the trip"
      ]
    },
    {
      "cell_type": "code",
      "execution_count": null,
      "metadata": {
        "id": "1ayWH7eEgEmX"
      },
      "outputs": [],
      "source": [
        "maxduration <- max(all_trips$duration)\n",
        "print(maxduration)"
      ]
    },
    {
      "cell_type": "markdown",
      "metadata": {
        "id": "em4mYogskZ4S"
      },
      "source": [
        "The maximum value is quite high let's see that row"
      ]
    },
    {
      "cell_type": "code",
      "execution_count": null,
      "metadata": {
        "id": "wrtdq8iakZkC"
      },
      "outputs": [],
      "source": [
        "all_trips[all_trips$duration == maxduration,]"
      ]
    },
    {
      "cell_type": "markdown",
      "metadata": {
        "id": "qeUQq-lSSZ6w"
      },
      "source": [
        "I can see that the trip was never ended so I need to remove the trip with no end_station_name\tend_station_id\t end_lat end_lon"
      ]
    },
    {
      "cell_type": "code",
      "execution_count": null,
      "metadata": {
        "id": "xKtGGLIEilqb"
      },
      "outputs": [],
      "source": [
        "min(all_trips$duration)"
      ]
    },
    {
      "cell_type": "markdown",
      "metadata": {
        "id": "Uqq8WXXOkBJf"
      },
      "source": [
        "Minimum values are negative so negative value need to be removed"
      ]
    },
    {
      "cell_type": "markdown",
      "metadata": {
        "id": "RKRoEjuB7Igf"
      },
      "source": [
        "### Create a return ride column"
      ]
    },
    {
      "cell_type": "code",
      "execution_count": null,
      "metadata": {
        "id": "8Ej7Wlyd7Pid"
      },
      "outputs": [],
      "source": [
        "all_trips$return_ride <- all_trips$start_station_id==all_trips$end_station_id"
      ]
    },
    {
      "cell_type": "markdown",
      "metadata": {
        "id": "Q8uooQSwroXe"
      },
      "source": [
        "## I create a new version of the dataframe (v2) removing negative duration and unfinished trips\n",
        "https://www.datasciencemadesimple.com/delete-or-drop-rows-in-r-with-conditions-2/\n"
      ]
    },
    {
      "cell_type": "code",
      "execution_count": null,
      "metadata": {
        "id": "fU9J6i66rHVT"
      },
      "outputs": [],
      "source": [
        "all_trips_v2<- all_trips[!(all_trips$end_station_name == \"\" | all_trips$duration<0),]\n"
      ]
    },
    {
      "cell_type": "markdown",
      "metadata": {
        "id": "hmnoYxMDt0uM"
      },
      "source": [
        "# STEP 3:  DESCRIPTIVE ANALYSIS\n",
        "Now the data is clean I can describe the data"
      ]
    },
    {
      "cell_type": "markdown",
      "metadata": {
        "id": "KKNQWOk1uG4l"
      },
      "source": [
        "## Descriptive analysis on duration (all figures in seconds)"
      ]
    },
    {
      "cell_type": "code",
      "execution_count": null,
      "metadata": {
        "id": "THe4guk_sjDg"
      },
      "outputs": [],
      "source": [
        "summary(all_trips_v2$duration)"
      ]
    },
    {
      "cell_type": "markdown",
      "metadata": {
        "id": "nVBm2aPiuW-Y"
      },
      "source": [
        "### Comparison between members and casual users"
      ]
    },
    {
      "cell_type": "code",
      "execution_count": null,
      "metadata": {
        "id": "GwVKdRYksSbi"
      },
      "outputs": [],
      "source": [
        "aggregate(all_trips_v2$duration ~ all_trips_v2$member_casual, FUN = mean)\n",
        "aggregate(all_trips_v2$duration~ all_trips_v2$member_casual, FUN = median)\n",
        "aggregate(all_trips_v2$duration ~ all_trips_v2$member_casual, FUN = max)\n",
        "aggregate(all_trips_v2$duration ~ all_trips_v2$member_casual, FUN = min)"
      ]
    },
    {
      "cell_type": "markdown",
      "metadata": {
        "id": "cU9e_381vB1f"
      },
      "source": [
        "Casual riders have generally longer trips than the members"
      ]
    },
    {
      "cell_type": "markdown",
      "metadata": {
        "id": "VeOZUX3hvS3w"
      },
      "source": [
        "### See the average ride duration by each day for members vs casual users"
      ]
    },
    {
      "cell_type": "code",
      "execution_count": null,
      "metadata": {
        "id": "qlZlmrN4vNDN"
      },
      "outputs": [],
      "source": [
        "aggregate(all_trips_v2$duration ~ all_trips_v2$member_casual + all_trips_v2$day_of_week,\n",
        "FUN = mean)"
      ]
    },
    {
      "cell_type": "markdown",
      "metadata": {
        "id": "HNJDIFiAvyRj"
      },
      "source": [
        "Let's reorder the days of the week"
      ]
    },
    {
      "cell_type": "code",
      "execution_count": null,
      "metadata": {
        "id": "FtcoGY6vv3s9"
      },
      "outputs": [],
      "source": [
        "all_trips_v2$day_of_week <- ordered(all_trips_v2$day_of_week, levels=c(\"Sunday\", \"Monday\",\n",
        "\"Tuesday\", \"Wednesday\", \"Thursday\", \"Friday\", \"Saturday\"))"
      ]
    },
    {
      "cell_type": "markdown",
      "metadata": {
        "id": "tfF3XN2gwC8g"
      },
      "source": [
        "Let's plot the ordered results"
      ]
    },
    {
      "cell_type": "code",
      "execution_count": null,
      "metadata": {
        "id": "Ke0fl_pKwGWY"
      },
      "outputs": [],
      "source": [
        "aggregate(all_trips_v2$duration ~ all_trips_v2$member_casual + all_trips_v2$day_of_week,\n",
        "FUN = mean)"
      ]
    },
    {
      "cell_type": "markdown",
      "metadata": {
        "id": "Q2Y_CoDnwOaR"
      },
      "source": [
        "Casual members are having longer rides in average each day of the week"
      ]
    },
    {
      "cell_type": "markdown",
      "metadata": {
        "id": "fYfELsILwiQ-"
      },
      "source": [
        "## analyze ridership data by rider type and weekday\n"
      ]
    },
    {
      "cell_type": "code",
      "execution_count": null,
      "metadata": {
        "id": "zUnVAuzrwk7n"
      },
      "outputs": [],
      "source": [
        "all_trips_v2 %>%\n",
        "  mutate(weekday = wday(started_at, label = TRUE)) %>% #creates weekday field using wday()\n",
        "  group_by(member_casual, weekday) %>% #groups by usertype and weekday\n",
        "  summarise(number_of_rides = n() #calculates the number of rides and average duration\n",
        "            ,average_duration = mean(duration)) %>% # calculates the average duration\n",
        "  arrange(member_casual, weekday) # sorts"
      ]
    },
    {
      "cell_type": "markdown",
      "metadata": {
        "id": "m4lRM19F0lAU"
      },
      "source": [
        "### Let's visualize the number of rides by rider type"
      ]
    },
    {
      "cell_type": "code",
      "execution_count": null,
      "metadata": {
        "id": "g1J-JVMG0gSn"
      },
      "outputs": [],
      "source": [
        "all_trips_v2 %>%\n",
        "  mutate(weekday = wday(started_at, label = TRUE)) %>%\n",
        "  group_by(member_casual, weekday) %>%\n",
        "  summarise(number_of_rides = n()\n",
        "            ,average_duration = mean(duration)) %>%\n",
        "  arrange(member_casual, weekday) %>%\n",
        "  ggplot(aes(x = weekday, y = number_of_rides, fill = member_casual)) +\n",
        "  geom_col(position = \"dodge\")"
      ]
    },
    {
      "cell_type": "markdown",
      "metadata": {
        "id": "E3Tyeo6e2PT5"
      },
      "source": [
        "we can see a clear increase in the casual member bike usage over the weekend"
      ]
    },
    {
      "cell_type": "markdown",
      "metadata": {
        "id": "iSm159573Ge1"
      },
      "source": [
        "## analyze ridership data by rider type and rideable type"
      ]
    },
    {
      "cell_type": "code",
      "execution_count": null,
      "metadata": {
        "id": "Gnoc5-3t3ShN"
      },
      "outputs": [],
      "source": [
        "all_trips_v2 %>%\n",
        "  group_by(member_casual, rideable_type) %>% #groups by usertype and rideable_type\n",
        "  summarise(number_of_rides = n() #calculates the number of rides and average duration\n",
        "            ,average_duration = mean(duration)) %>% # calculates the average duration\n",
        "  arrange(member_casual, rideable_type) # sorts"
      ]
    },
    {
      "cell_type": "markdown",
      "metadata": {
        "id": "TvM4mQeI3u9g"
      },
      "source": [
        "### Let's visualize the number of rides by rider type"
      ]
    },
    {
      "cell_type": "code",
      "execution_count": null,
      "metadata": {
        "id": "2BBirY9034b_"
      },
      "outputs": [],
      "source": [
        "all_trips_v2 %>%\n",
        "  group_by(member_casual, rideable_type) %>% #groups by usertype and rideable_type\n",
        "  summarise(number_of_rides = n()\n",
        "            ,average_duration = mean(duration)) %>%\n",
        "  arrange(member_casual, rideable_type) %>%\n",
        "  ggplot(aes(x = rideable_type, y = number_of_rides,\n",
        " fill = member_casual)) +\n",
        "  geom_col(position = \"dodge\")"
      ]
    },
    {
      "cell_type": "markdown",
      "metadata": {
        "id": "w-SCTyWJ4GaF"
      },
      "source": [
        "Only casual member use docked bikes otherwise, the rideable_type distribution between classic_bike and electric_bike seems independent of membership type"
      ]
    },
    {
      "cell_type": "markdown",
      "metadata": {
        "id": "EZ5aDOaLA6y2"
      },
      "source": [
        "## analyze ridership data by rider type and retrun ride"
      ]
    },
    {
      "cell_type": "code",
      "execution_count": null,
      "metadata": {
        "id": "GxmXIs4FA-Kp"
      },
      "outputs": [],
      "source": [
        "all_trips_v2 %>%\n",
        "  group_by(member_casual, return_ride) %>% #groups by usertype and rideable_type\n",
        "  summarise(number_of_rides = n()\n",
        "            ,average_duration = mean(duration)) %>%\n",
        "  arrange(member_casual, return_ride) %>%\n",
        "  ggplot(aes(x = member_casual, y = number_of_rides,\n",
        " fill = return_ride)) +\n",
        "geom_col(position = \"dodge\")"
      ]
    },
    {
      "cell_type": "markdown",
      "metadata": {
        "id": "CcgucHsnBS_F"
      },
      "source": [
        "Memebers and casual rider rarely return their bikes at the same station"
      ]
    },
    {
      "cell_type": "markdown",
      "metadata": {
        "id": "3kiIo2GD5mlt"
      },
      "source": [
        "# STEP 4: EXPORT SUMMARY FILE FOR FURTHER ANALYSIS"
      ]
    },
    {
      "cell_type": "code",
      "execution_count": null,
      "metadata": {
        "colab": {
          "background_save": true
        },
        "id": "EKAmi9pacFmF"
      },
      "outputs": [],
      "source": [
        "# Create a csv file that we will visualize in Excel, Tableau, or my presentation software\n",
        "# N.B.: This file location is for a Mac. If you are working on a PC, change the file location accordingly (most likely \"C:\\Users\\YOUR_USERNAME\\Desktop\\...\") to export the data. You can read more here: https://datatofish.com/export-dataframe-to-csv-in-r/\n",
        "counts <- aggregate(all_trips_v2$duration ~ all_trips_v2$member_casual + all_trips_v2$day_of_week + all_trips_v2$rideable_type + all_trips_v2$return_ride + all_trips_v2$start_lat + all_trips_v2$start_lng+ all_trips_v2$end_lat + all_trips_v2$end_lng +all_trips_v2$all_trips$date, FUN = mean)\n",
        "write.csv(counts, file = 'avg_ride_length.csv')\n"
      ]
    }
  ],
  "metadata": {
    "colab": {
      "provenance": [],
      "authorship_tag": "ABX9TyP4UvjQ8i195j3mndYRk/+l",
      "include_colab_link": true
    },
    "kernelspec": {
      "display_name": "R",
      "name": "ir"
    },
    "language_info": {
      "name": "R"
    }
  },
  "nbformat": 4,
  "nbformat_minor": 0
}